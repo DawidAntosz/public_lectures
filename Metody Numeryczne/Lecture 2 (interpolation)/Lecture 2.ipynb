{
 "cells": [
  {
   "cell_type": "code",
   "execution_count": 2,
   "metadata": {
    "slideshow": {
     "slide_type": "skip"
    }
   },
   "outputs": [
    {
     "data": {
      "text/html": [
       "<style>\n",
       ".rendered_html table, .rendered_html th, .rendered_html tr, .rendered_html td {\n",
       "     font-size: 100%;\n",
       "}\n",
       "</style>\n"
      ],
      "text/plain": [
       "<IPython.core.display.HTML object>"
      ]
     },
     "metadata": {},
     "output_type": "display_data"
    }
   ],
   "source": [
    "%%HTML\n",
    "<style>\n",
    ".rendered_html table, .rendered_html th, .rendered_html tr, .rendered_html td {\n",
    "     font-size: 100%;\n",
    "}\n",
    "</style>"
   ]
  },
  {
   "cell_type": "markdown",
   "metadata": {
    "slideshow": {
     "slide_type": "slide"
    }
   },
   "source": [
    "# Metody Numeryczne\n",
    "\n",
    "## Interpolacja i aproksymacja wielomianowa\n",
    "\n",
    "\n",
    "### dr hab. inż. Jerzy Baranowski, Prof.AGH\n"
   ]
  },
  {
   "cell_type": "markdown",
   "metadata": {
    "slideshow": {
     "slide_type": "slide"
    }
   },
   "source": [
    "# Aproksymacja funkcji\n",
    "\n",
    "Zadanie aproksymacji polega na poszukiwaniu funkcji $\\tilde{f}$\n",
    "\n",
    "$$\n",
    "\\tilde{f}(x)\\approx f(x), \\forall x\\in \\Omega\n",
    "$$\n",
    "\n",
    "która, z jakiegoś powodu będzie wygodniejsza w obsłudze i w jakimś sensie przybliża funkcję $f$. \n"
   ]
  },
  {
   "cell_type": "markdown",
   "metadata": {
    "slideshow": {
     "slide_type": "subslide"
    }
   },
   "source": [
    "# Zastosowania\n",
    "\n",
    "- Aproksymacja funkcji\n",
    "- Obróbka danych pomiarowych\n",
    "- Uzyskiwanie wartości pośrednich\n",
    "- Grafika komputerowa\n"
   ]
  },
  {
   "cell_type": "markdown",
   "metadata": {
    "slideshow": {
     "slide_type": "subslide"
    }
   },
   "source": [
    "# Aproksymacja wielomianowa\n",
    "\n",
    "Aproksymacja wielomianowa, to sposób taka metoda aproksymacji, w której zakładamy, że funkcja przybliżająca ma postać wielomianu\n",
    "\n",
    "$$\n",
    "\\begin{aligned}\n",
    "\\tilde{f}(x)={}&p(x)\\\\\n",
    "p(x)={}&a_n x^n+a_{n-1}x^{n-1}+\\ldots+a_2 x^2 +a_1 x+a_0\n",
    "\\end{aligned}\n",
    "$$"
   ]
  },
  {
   "cell_type": "markdown",
   "metadata": {
    "slideshow": {
     "slide_type": "subslide"
    }
   },
   "source": [
    "# Założenia\n",
    "\n",
    "- Mówimy o aproksymacji funkcji na przedziale $[-1,1]$\n",
    "- Do porównywania funkcji będziemy wykorzystywać normę supremum\n",
    "\n",
    "$$\n",
    "\\Vert f \\Vert = \\sup_{x\\in[-1,1]} |f(x)|\n",
    "$$\n"
   ]
  },
  {
   "cell_type": "markdown",
   "metadata": {
    "slideshow": {
     "slide_type": "slide"
    }
   },
   "source": [
    "# Twierdzenie aproksymacyjne Weierstrass’a\n",
    "Niech $f$ będzie funkcją ciągłą na przedziale $[−1,1]$, i niech $\\varepsilon$ > 0 będzie pewną stałą. Istnieje wielomian $p$ taki, że\n",
    "\n",
    "$$\n",
    "\\Vert f-p\\Vert<\\varepsilon\n",
    "$$\n"
   ]
  },
  {
   "cell_type": "markdown",
   "metadata": {
    "slideshow": {
     "slide_type": "subslide"
    }
   },
   "source": [
    "# Poszukiwanie wielomianu aproksymacyjnego\n",
    "- Interpolacja\n",
    "- Rzutowanie\n",
    "- Optymalizacja\n"
   ]
  },
  {
   "cell_type": "markdown",
   "metadata": {
    "slideshow": {
     "slide_type": "slide"
    }
   },
   "source": [
    "# Interpolacja\n",
    "Zadanie interpolacji polega na znalezieniu dla zestawu punktów (węzłów)\n",
    "\n",
    "$$\n",
    "x_0, x_1, x_2, ..., x_n\n",
    "$$\n",
    "\n",
    "$$\n",
    "y_0, y_1, y_2,..., y_n\n",
    "$$\n",
    "Takiej funkcji, że\n",
    "\t\t$$f(x_i)=y_i, \\forall0 \\le i\\le n$$\n",
    "\n",
    "      "
   ]
  },
  {
   "cell_type": "markdown",
   "metadata": {
    "slideshow": {
     "slide_type": "subslide"
    }
   },
   "source": [
    "# Interpolacja wielomianowa \n",
    "- Problem znalezienia całej funkcji sprowadza się więc do znalezienia zestawu współczynników wielomianu $p$.\n",
    "- Wielomian ma stopień $n$, gdy mamy $n+1$ węzłów\n",
    "- Jak go wyznaczyć?\n"
   ]
  },
  {
   "cell_type": "markdown",
   "metadata": {
    "slideshow": {
     "slide_type": "slide"
    }
   },
   "source": [
    "# Jednoznaczność\n",
    "- Czy jest inny wielomian $q(x)$ stopnia $n$, ktĂłry interpoluje dane tak samo dobrze jak $p(x)$?\n",
    "$$r(x)=p(x)-q(x)$$\n",
    "- $r(x)$ jest wielomianem\n",
    "- $r(x)$ jest stopnia co najwyżej $n$\n",
    "- We wszystkich punktach zachodzi\n",
    "$$r(x_i)=p(x_i)-q(x_i)=y_i-y_i=0$$\n"
   ]
  },
  {
   "cell_type": "markdown",
   "metadata": {
    "slideshow": {
     "slide_type": "subslide"
    }
   },
   "source": [
    "# Jednoznaczność\n",
    "- Skoro wielomian $r(x)$ zeruje się we wszystkich tych punktach musi mieć on postać\n",
    "\n",
    "$$r(x)=\\underbrace{(x-x_0)(x-x_1)\\dots(x-x_n)}_{n+1\\ \\mathsf{czynników}}$$\n",
    "\n",
    "- Ponieważ ma być stopnia $n$ lub niższego, jest to niemożliwe więc\n",
    "\n",
    "- $$r(x)=0\\Rightarrow q(x)\\equiv p(x)$$\n",
    "\n"
   ]
  },
  {
   "cell_type": "markdown",
   "metadata": {
    "slideshow": {
     "slide_type": "slide"
    }
   },
   "source": [
    "# Wzór Lagrange’a\n",
    "\n",
    "- Klasyczny wzór na określenie wielomianu interpolacyjnego.\n",
    "- Najbardziej uniwersalny\n",
    "- Potrzebny do wyprowadzania innych wzorów\n",
    "- Pojęciowo najprostszy\n"
   ]
  },
  {
   "cell_type": "markdown",
   "metadata": {
    "slideshow": {
     "slide_type": "subslide"
    }
   },
   "source": [
    "# Wzór Lagrange’a\n",
    "\n",
    "<div class='left' style='float:left;width:48%'>\n",
    "Chcemy przedstawić wielomian jako sumę innych prostszych wielomianów\n",
    "$$L(x)=\\sum_{j=0}^{n}y_jl_j(x)$$\n",
    "$$l_i(x)=\\left\\{ \\begin{array}{ll}\n",
    "1 & \\mathrm{dla}\\  x=x_i\\\\\n",
    "0 &  \\mathrm{dla}\\ x=x_k,\\ k\\neq i\\\\\n",
    "\\end{array} \\right.$$\n",
    "</div>    \n",
    "<div class='right' style='float:right;width:48%'>\n",
    "\n",
    "![](img/1.png)\n",
    "\n",
    "\n",
    "    \n",
    "</div>\n",
    "\n",
    "\n",
    "\n",
    "\n"
   ]
  },
  {
   "cell_type": "markdown",
   "metadata": {
    "slideshow": {
     "slide_type": "subslide"
    }
   },
   "source": [
    "# Funkcje bazowe Lagrange'a\n",
    "\n",
    "$$\n",
    "\\begin{aligned}\n",
    "l_j(x)={}&\\prod_{0\\le m\\le n\\hspace{1mm} m\\neq j} \\frac{x-x_m}{x_j-x_m}=\\\\\n",
    "={}&\\frac{(x-x_0)}{(x_j-x_0)}\\dots \\frac{(x-x_{j-1})}{(x_j-x_{j-1})}\\frac{(x-x_{j+1})}{(x_j-x_{j+1})}\\dots\\frac{(x-x_n)}{(x_j-x_n)}\n",
    "\\end{aligned}\n",
    "$$"
   ]
  },
  {
   "cell_type": "markdown",
   "metadata": {
    "slideshow": {
     "slide_type": "subslide"
    }
   },
   "source": [
    "# Funkcje bazowe Lagrange'a\n",
    "\n",
    "$$l_{j\\neq i}(x_i)=\\prod_{m\\neq j}\\frac{x_i-x_m}{x_j-x_m} =\\frac{(x_i-x_0)}{(x_j-x_0)}\\dots\\frac{(x_i-x_i)}{(x_j-x_i)}\\dots \\frac{(x_i-x_k)}{(x_j-x_k)}=0$$\n",
    "\n",
    "\n",
    "$$l_i(x_i)=\\prod_{m\\neq i}\\frac{x_i-x_m}{x_i-x_m}=1$$\n"
   ]
  },
  {
   "cell_type": "markdown",
   "metadata": {
    "slideshow": {
     "slide_type": "slide"
    }
   },
   "source": [
    "# Przykład\n"
   ]
  },
  {
   "cell_type": "code",
   "execution_count": 3,
   "metadata": {},
   "outputs": [],
   "source": [
    "import matplotlib.pyplot as plt\n",
    "import numpy as np\n",
    "x_i=np.array([-1.5, -0.75, 0, 0.75, 1.5])\n",
    "y_i=np.array([-14.1014,-0.931596,0,0.931596,14.1014])\n",
    "\n",
    "lag_base= lambda i,x : np.prod(x-np.delete(x_i,i))/np.prod(x_i[i]-np.delete(x_i,i))\n",
    "Y=[]\n",
    "X=np.linspace(-1.499,1.499,100)\n",
    "for x in np.nditer(X):\n",
    "    L=np.array([lag_base(0,x),lag_base(1,x),lag_base(2,x),lag_base(3,x),lag_base( 4,x)])\n",
    "    Y.append(y_i@L.transpose())\n",
    "Y=np.array(Y)"
   ]
  },
  {
   "cell_type": "code",
   "execution_count": 4,
   "metadata": {
    "slideshow": {
     "slide_type": "subslide"
    }
   },
   "outputs": [
    {
     "data": {
      "text/plain": [
       "<matplotlib.collections.PathCollection at 0x11484cba8>"
      ]
     },
     "execution_count": 4,
     "metadata": {},
     "output_type": "execute_result"
    },
    {
     "data": {
      "image/png": "[encoded data removed]",
      "text/plain": [
       "<Figure size 432x288 with 1 Axes>"
      ]
     },
     "metadata": {
      "needs_background": "light"
     },
     "output_type": "display_data"
    }
   ],
   "source": [
    "plt.plot(X,Y)\n",
    "plt.scatter(x_i,y_i)"
   ]
  },
  {
   "cell_type": "markdown",
   "metadata": {
    "slideshow": {
     "slide_type": "subslide"
    }
   },
   "source": [
    "# Wada wzoru Lagrange'a\n",
    "\n",
    "Złożoność obliczeniowa wyliczenia wartości wielomianu w punkcie $x$ -  $O(n^2)$\n",
    "\n",
    "$$\n",
    "L(x)=\\sum_{j=0}^n y_j l_j(x)\n",
    "$$"
   ]
  },
  {
   "cell_type": "markdown",
   "metadata": {
    "slideshow": {
     "slide_type": "slide"
    }
   },
   "source": [
    "## Interpolacja barycentryczna\n",
    "\n",
    "Modyfikacja interpolacji Lagrange’a\n",
    "\n",
    "$$l(x)=(x-x_0)(x-x_1)\\ldots(x-x_n)$$\n",
    "\n",
    "Wagi barycentryczne:\n",
    "$$\n",
    "w_j=\\frac{1}{\\prod_{k\\neq j} (x_j-x_k)},\\ j=0,\\ldots,\\ n\n",
    "$$\n",
    "\n",
    "Funkcje bazowe\n",
    "$$\n",
    "l_j(x)=l(x)\\frac{w_j}{x-x_j}\n",
    "$$"
   ]
  },
  {
   "cell_type": "markdown",
   "metadata": {
    "slideshow": {
     "slide_type": "subslide"
    }
   },
   "source": [
    "# Pierwsza forma wzoru barycentrycznego\n",
    "\n",
    "\n",
    "$$L(x)=l(x)\\sum_{j=0}^{n}y_j\\frac{w_j}{x-x_j}$$\n",
    "\n",
    "Złożoność O(n)\n",
    "\n"
   ]
  },
  {
   "cell_type": "markdown",
   "metadata": {
    "slideshow": {
     "slide_type": "subslide"
    }
   },
   "source": [
    "# Usprawnienie\n",
    "Interpolacja funkcji stałej równej 1\n",
    "$$\n",
    "1=\\sum_{j=0}^n  l_j(x)=l(x)\\sum_{j=0}^{n}\\frac{w_j}{x-x_j}\n",
    "$$\n",
    "Podzielenie funkcji przez 1\n",
    "\n",
    "$$\n",
    "L(x)=\\frac{L(x)}{1}=\\frac{l(x)\\sum_{j=0}^{n}y_j\\frac{w_j}{x-x_j}}{l(x)\\sum_{j=0}^{n}\\frac{w_j}{x-x_j}}\n",
    "$$\n"
   ]
  },
  {
   "cell_type": "markdown",
   "metadata": {
    "slideshow": {
     "slide_type": "subslide"
    }
   },
   "source": [
    "# Druga forma wzoru barycentrycznego\n",
    "\n",
    "$$\n",
    "L(x)=\\frac{\\sum_{j=0}^{n}y_j\\frac{w_j}{x-x_j}}{\\sum_{j=0}^{n}\\frac{w_j}{x-x_j}}\n",
    "$$\n",
    "\n"
   ]
  },
  {
   "cell_type": "markdown",
   "metadata": {
    "slideshow": {
     "slide_type": "slide"
    }
   },
   "source": [
    "# Przykład\n"
   ]
  },
  {
   "cell_type": "code",
   "execution_count": 15,
   "metadata": {},
   "outputs": [],
   "source": [
    "x_i=np.array([-1.5, -0.75, 0, 0.75, 1.5])\n",
    "y_i=np.array([-14.1014,-0.931596,0,0.931596,14.1014])\n",
    "\n",
    "bar_w= lambda i : 1/np.prod(x_i[i]-np.delete(x_i,i))\n",
    "w_i=np.array([bar_w(0),bar_w(1),bar_w(2),bar_w(3),bar_w(4)])\n",
    "\n",
    "Y=[]\n",
    "X=np.linspace(-1.499,1.499,100)\n",
    "for x in np.nditer(X):\n",
    "    # pierwsza forma\n",
    "    #Y.append(np.prod(x-x_i)*y_i*w_i@(1/(x-x_i))) \n",
    "    #druga forma\n",
    "    L=w_i/(x-x_i)\n",
    "    Y.append(y_i@L/sum(L))\n",
    "    \n",
    "Y=np.array(Y)"
   ]
  },
  {
   "cell_type": "code",
   "execution_count": 16,
   "metadata": {
    "slideshow": {
     "slide_type": "subslide"
    }
   },
   "outputs": [
    {
     "data": {
      "text/plain": [
       "<matplotlib.collections.PathCollection at 0x114aaeb38>"
      ]
     },
     "execution_count": 16,
     "metadata": {},
     "output_type": "execute_result"
    },
    {
     "data": {
      "image/png": "[encoded data removed]",
      "text/plain": [
       "<Figure size 432x288 with 1 Axes>"
      ]
     },
     "metadata": {
      "needs_background": "light"
     },
     "output_type": "display_data"
    }
   ],
   "source": [
    "plt.plot(X,Y)\n",
    "plt.scatter(x_i,y_i)"
   ]
  },
  {
   "cell_type": "markdown",
   "metadata": {
    "slideshow": {
     "slide_type": "slide"
    }
   },
   "source": [
    "# Węzły interpolacji\n",
    "- Jak dobrać węzły interpolacji?\n",
    "- Węzły równoodległe:\n",
    "- Dla przedziału $[-1,1]$\n",
    "$$\n",
    "x_i=-1+\\frac{2 i}{n}\n",
    "$$"
   ]
  },
  {
   "cell_type": "markdown",
   "metadata": {
    "slideshow": {
     "slide_type": "subslide"
    }
   },
   "source": [
    "# Wagi barycentryczne\n",
    "Zależą tylko od węzłów!\n",
    "\n",
    "Np. Dla węzłów równoodległych na $[-1,1]$\n",
    "\n",
    "$$\n",
    "w_j=\\frac{(-1)^{n-j}}{h^n n!}{n \\choose j}\n",
    "$$\n",
    "\n",
    "W drugiej postaci uproszczenie\n",
    "\n",
    "$$\n",
    "w_j=(-1)^{j}{n \\choose j}\n",
    "$$"
   ]
  },
  {
   "cell_type": "markdown",
   "metadata": {
    "slideshow": {
     "slide_type": "subslide"
    }
   },
   "source": [
    "# Efekt Rungego\n",
    "W przypadku węzłów równooodległych może wystąpić tzw. Efekt Rungego, który można zilustrować dla funkcji\n",
    "$$\n",
    "f(x)=\\frac{1}{1+25 x^2}\n",
    "$$"
   ]
  },
  {
   "cell_type": "code",
   "execution_count": 21,
   "metadata": {},
   "outputs": [
    {
     "data": {
      "text/plain": [
       "[<matplotlib.lines.Line2D at 0x114d7bac8>]"
      ]
     },
     "execution_count": 21,
     "metadata": {},
     "output_type": "execute_result"
    },
    {
     "data": {
      "image/png": "[encoded data removed]",
      "text/plain": [
       "<Figure size 432x288 with 1 Axes>"
      ]
     },
     "metadata": {
      "needs_background": "light"
     },
     "output_type": "display_data"
    }
   ],
   "source": [
    "runge = lambda x:1/(1+25*x**2)\n",
    "\n",
    "plt.plot(X,runge(X))"
   ]
  },
  {
   "cell_type": "code",
   "execution_count": 60,
   "metadata": {
    "slideshow": {
     "slide_type": "subslide"
    }
   },
   "outputs": [],
   "source": [
    "N=5\n",
    "X=np.linspace(-1,1,101)\n",
    "x_i=np.linspace(-1,1,N)\n",
    "y_i=runge(x_i)\n",
    "w_i=[bar_w(i) for i in range(0,np.size(x_i))]\n",
    "\n",
    "def barycentric_interpolate(x_i,y_i,w_i,X):\n",
    "    Y=[]\n",
    "    for x in np.nditer(X):\n",
    "        if x in x_i:\n",
    "            #omijamy dzielenie przez 0\n",
    "            Y.append(y_i[np.where(x_i==x)[0]])\n",
    "        else:\n",
    "            #wzór w drugiej formie\n",
    "            L=w_i/(x-x_i)\n",
    "            Y.append(y_i@L/sum(L)) \n",
    "    return np.array(Y)\n",
    "\n",
    "Y=barycentric_interpolate(x_i,y_i,w_i,X)"
   ]
  },
  {
   "cell_type": "code",
   "execution_count": 61,
   "metadata": {
    "slideshow": {
     "slide_type": "subslide"
    }
   },
   "outputs": [
    {
     "data": {
      "text/plain": [
       "[<matplotlib.lines.Line2D at 0x11599eb70>]"
      ]
     },
     "execution_count": 61,
     "metadata": {},
     "output_type": "execute_result"
    },
    {
     "data": {
      "image/png": "[encoded data removed]",
      "text/plain": [
       "<Figure size 432x288 with 1 Axes>"
      ]
     },
     "metadata": {
      "needs_background": "light"
     },
     "output_type": "display_data"
    }
   ],
   "source": [
    "plt.plot(X,runge(X))\n",
    "plt.plot(X,Y)"
   ]
  },
  {
   "cell_type": "markdown",
   "metadata": {
    "slideshow": {
     "slide_type": "subslide"
    }
   },
   "source": [
    "# Dlaczego tak jest?\n",
    "Wagi barycentryczne dla węzłów równoodległych są co do wartości bardzo duże na środku przedziału"
   ]
  },
  {
   "cell_type": "code",
   "execution_count": 55,
   "metadata": {},
   "outputs": [
    {
     "data": {
      "text/plain": [
       "<matplotlib.collections.PathCollection at 0x1157a0c18>"
      ]
     },
     "execution_count": 55,
     "metadata": {},
     "output_type": "execute_result"
    },
    {
     "data": {
      "image/png": "[encoded data removed]",
      "text/plain": [
       "<Figure size 432x288 with 1 Axes>"
      ]
     },
     "metadata": {
      "needs_background": "light"
     },
     "output_type": "display_data"
    }
   ],
   "source": [
    "plt.scatter(x_i,w_i)"
   ]
  },
  {
   "cell_type": "code",
   "execution_count": null,
   "metadata": {},
   "outputs": [],
   "source": []
  }
 ],
 "metadata": {
  "celltoolbar": "Slideshow",
  "kernelspec": {
   "display_name": "Python 3",
   "language": "python",
   "name": "python3"
  },
  "language_info": {
   "codemirror_mode": {
    "name": "ipython",
    "version": 3
   },
   "file_extension": ".py",
   "mimetype": "text/x-python",
   "name": "python",
   "nbconvert_exporter": "python",
   "pygments_lexer": "ipython3",
   "version": "3.7.3"
  },
  "rise": {
   "enable_chalkboard": true
  }
 },
 "nbformat": 4,
 "nbformat_minor": 2
}
