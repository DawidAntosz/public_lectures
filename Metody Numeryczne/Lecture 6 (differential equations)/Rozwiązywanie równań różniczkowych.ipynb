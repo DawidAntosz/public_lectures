{
 "cells": [
  {
   "cell_type": "markdown",
   "metadata": {
    "slideshow": {
     "slide_type": "slide"
    }
   },
   "source": [
    "# Metody Numeryczne\n",
    "\n",
    "## Rozwiązywanie równań różniczkowych\n",
    "\n",
    "\n",
    "\n",
    "### dr hab. inż. Jerzy Baranowski, Prof.AGH"
   ]
  },
  {
   "cell_type": "markdown",
   "metadata": {
    "slideshow": {
     "slide_type": "slide"
    }
   },
   "source": [
    "## Isaac Newton\n",
    "\n",
    "*Data aequatione quodcunque fluentes quantitiae involvente fluxiones invenire et vice versa* 24 października 1676\n",
    "\n",
    "Rozwiązywanie równań różniczkowych jest rzeczą pożyteczną"
   ]
  },
  {
   "cell_type": "markdown",
   "metadata": {
    "slideshow": {
     "slide_type": "slide"
    }
   },
   "source": [
    "## Równania różniczkowe\n",
    "Równanie różniczkowe\n",
    "$$ \n",
    "\\dot{x}=f(t,x)\n",
    "$$\n",
    "Rozwiązanie równania różniczkowego $x(t)$ to funkcja, która dla każdego $t$ spełnia\n",
    "$$ \n",
    "\\dot{x(t)}=f(t,x(t))\n",
    "$$"
   ]
  },
  {
   "cell_type": "markdown",
   "metadata": {
    "slideshow": {
     "slide_type": "subslide"
    }
   },
   "source": [
    "## Problem Cauchy'ego\n",
    "\n",
    "Wyznaczyć rozwiązanie równania dla $t\\geq t_0$ przy czym\n",
    "$$\n",
    "x(t_0)=x_0\n",
    "$$\n",
    "\n",
    "Inaczej problem początkowy.\n",
    "\n",
    "Wymiennie będziemy mówić o rozwiązywaniu i całkowaniu równań różniczkowych"
   ]
  },
  {
   "cell_type": "markdown",
   "metadata": {
    "slideshow": {
     "slide_type": "subslide"
    }
   },
   "source": [
    "## Metoda Eulera\n",
    "\n",
    "**Istitutiones Calculi Integralis I** 1768\n",
    "\n",
    "$$ \n",
    "\\dot{x}=f(t,x),\\quad x(t_0)=x_0, \\quad x(T)=?\n",
    "$$\n",
    "\n",
    "W zależności od tego ile razy $f$ jest różniczkowalne możemy rozwinąć $x(t)$ w szereg Taylora. \n",
    "W szczególności\n",
    "$$\n",
    "x(t_0+\\Delta t)=x_0+\\Delta t\\cdot f(t_0,x_0)+ \\frac{\\Delta t^2}{2}(f_t+f_x f)(t_0,x_0)+...\n",
    "$$\n",
    "\n"
   ]
  },
  {
   "cell_type": "markdown",
   "metadata": {
    "slideshow": {
     "slide_type": "subslide"
    }
   },
   "source": [
    "## Metoda Eulera cd..\n",
    "Podzielmy przedział $T$ na elementy (tzw. kroki)\n",
    "$$\n",
    "t_0,\\ t_1,\\ \\ldots,\\ t_{n-1},\\ t_n\n",
    "$$\n",
    "i rozwiązanie w każdym podprzedziale zastępujemy pierwszym wyrazem szeregu Taylora\n",
    "$$\n",
    "\\begin{aligned}\n",
    "x_1-x_0={}&(t_1-t_0)f(t_0,x_0)\\\\\n",
    "x_2-x_1={}&(t_2-t_1)f(t_1,x_1)\\\\\n",
    "{}&\\vdots\\\\\n",
    "x_n-x_{n-1}={}&(t_n-t_{n-1})f(t_{n-1},x_{n-1})\n",
    "\\end{aligned}\n",
    "$$\n",
    "Oznaczając $h_i=t_{i+1}-t_i$ mamy rekurencję\n",
    "$$\n",
    "x_{k+1}=x_k + h_k f(t_k,x_k)\n",
    "$$\n"
   ]
  },
  {
   "cell_type": "markdown",
   "metadata": {
    "slideshow": {
     "slide_type": "subslide"
    }
   },
   "source": [
    "## Metoda Eulera cd..\n",
    "Niech $f (t, x)$ będzie ciągła, $|f|\\leq A$  oraz $f$ spełnia warunek Lipshitza na zbiorze\n",
    "$$\n",
    "D=\\left\\{(t,x)\\colon t_0 \\leq t\\leq T, |x−x0|\\leq b \\right\\}\n",
    "$$\n",
    "Jeżeli $X − x_0 \\leq b/A$ , mamy:\n",
    "\n",
    "1. Dla $|\\max_i h_i|\\rightarrow0$ rozwiązanie rekurencuyjne zmierza do ciągłej funckji $ \\phi(t)$.\n",
    "2. $ \\phi(t)$ jest ciągłym różniczkowalnym rozwiązaniem równania różniczkowego dla $t_0 \\leq t\\leq T$. \n",
    "3. Nie iestnieją inne rozwiązania równania na przedziale $t_0 \\leq t\\leq T$."
   ]
  },
  {
   "cell_type": "markdown",
   "metadata": {
    "slideshow": {
     "slide_type": "subslide"
    }
   },
   "source": [
    "## Metoda Eulera cd..\n",
    "Jeżeli w otoczeniu rozwiązania \n",
    "$$\n",
    "f|\\leq A,\\quad \\left|\\frac{\\partial f}{\\partial x}\\right|\\leq L,\\quad \\left|\\frac{\\partial f}{\\partial t}\\right|\\leq M\n",
    "$$\n",
    "Zachodzi oszacowanie\n",
    "$$\n",
    "\\mathrm{error}(t)\\leq\\frac{M+AL}{L}\\left(\\mathrm{e}^{L(t-t_0)}-1\\right)\\cdot|h|\n",
    "$$\n",
    "przy założeniu dostatecznie małego $|h|$"
   ]
  },
  {
   "cell_type": "markdown",
   "metadata": {
    "slideshow": {
     "slide_type": "subslide"
    }
   },
   "source": [
    "## Konsekwencje\n",
    "1. Błąd z kroku na krok jest rzędu $h$ (bo zgadza się szereg Taylora)\n",
    "2. Metoda jest zbieżna do rozwiązania.\n",
    "3. Błąd globalny (na całym przedziale) jest zależny od długości kroku i długości przedziału\n",
    "\n",
    "Własności te przenoszą się też na bardziej skomplikowane metody."
   ]
  },
  {
   "cell_type": "code",
   "execution_count": 20,
   "metadata": {},
   "outputs": [
    {
     "name": "stdout",
     "output_type": "stream",
     "text": [
      "(2, 1)\n"
     ]
    }
   ],
   "source": [
    "import numpy as np\n",
    "import matplotlib.pyplot as plt\n",
    "test=lambda t,x: -x\n",
    "\n",
    "def euler(f, x0,t0,tk,n):\n",
    "    \n",
    "    h=(tk-t0)/n\n",
    "    x=np.empty((x0.size,n))\n",
    "    print(x0.shape)\n",
    "    x[:,0]=x0[:,0]\n",
    "    for i in range(0,n-1):\n",
    "        x[:,i+1]=x[:,i]+h*f(i*h,x[:,i])\n",
    "    t=np.linspace(t0,tk,n)\n",
    "    return (t,x.transpose())\n",
    "\n",
    "(t,x)=euler(test,np.array([[1],[-1]]),0,10,1000)\n"
   ]
  },
  {
   "cell_type": "code",
   "execution_count": 21,
   "metadata": {},
   "outputs": [
    {
     "data": {
      "image/png": "[encoded data removed]",
      "text/plain": [
       "<Figure size 432x288 with 1 Axes>"
      ]
     },
     "metadata": {
      "needs_background": "light"
     },
     "output_type": "display_data"
    }
   ],
   "source": [
    "plt.plot(t,x)\n",
    "plt.show()"
   ]
  },
  {
   "cell_type": "code",
   "execution_count": 4,
   "metadata": {},
   "outputs": [
    {
     "data": {
      "text/plain": [
       "2"
      ]
     },
     "execution_count": 4,
     "metadata": {},
     "output_type": "execute_result"
    }
   ],
   "source": [
    "x0.size\n"
   ]
  },
  {
   "cell_type": "code",
   "execution_count": null,
   "metadata": {},
   "outputs": [],
   "source": []
  }
 ],
 "metadata": {
  "celltoolbar": "Slideshow",
  "kernelspec": {
   "display_name": "Python 3",
   "language": "python",
   "name": "python3"
  },
  "language_info": {
   "codemirror_mode": {
    "name": "ipython",
    "version": 3
   },
   "file_extension": ".py",
   "mimetype": "text/x-python",
   "name": "python",
   "nbconvert_exporter": "python",
   "pygments_lexer": "ipython3",
   "version": "3.7.3"
  }
 },
 "nbformat": 4,
 "nbformat_minor": 2
}
