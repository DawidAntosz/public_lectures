{
 "cells": [
  {
   "cell_type": "code",
   "execution_count": 1,
   "metadata": {
    "slideshow": {
     "slide_type": "skip"
    }
   },
   "outputs": [
    {
     "data": {
      "text/html": [
       "<style>\n",
       ".rendered_html table, .rendered_html th, .rendered_html tr, .rendered_html td {\n",
       "     font-size: 100%;\n",
       "}\n",
       "</style>\n"
      ],
      "text/plain": [
       "<IPython.core.display.HTML object>"
      ]
     },
     "metadata": {},
     "output_type": "display_data"
    }
   ],
   "source": [
    "%%HTML\n",
    "<style>\n",
    ".rendered_html table, .rendered_html th, .rendered_html tr, .rendered_html td {\n",
    "     font-size: 100%;\n",
    "}\n",
    "</style>"
   ]
  },
  {
   "cell_type": "markdown",
   "metadata": {
    "slideshow": {
     "slide_type": "slide"
    }
   },
   "source": [
    "# Metody Numeryczne\n",
    "\n",
    "## Układy równań liniowych – macierze prostokątne i rzadkie\n",
    "\n",
    "\n",
    "\n",
    "### dr hab. inż. Jerzy Baranowski, Prof.AGH\n"
   ]
  },
  {
   "cell_type": "markdown",
   "metadata": {
    "slideshow": {
     "slide_type": "subslide"
    }
   },
   "source": [
    "# Residuum\n",
    "\n",
    "- Ang. Residual\n",
    "- Użyteczna wielkość do oceny jakości rozwiązania równania liniowego\n",
    "$$\n",
    "r=b-Ax\n",
    "$$\n",
    "- Często wykorzystujemy również normę residuum\n",
    "$$\n",
    "\\Vert r\\Vert_2=\\sqrt{r^*r}\n",
    "$$"
   ]
  },
  {
   "cell_type": "markdown",
   "metadata": {
    "slideshow": {
     "slide_type": "subslide"
    }
   },
   "source": [
    "# Przykład motywacyjny\n",
    "\n",
    "Dopasowanie wielomianu do 11 punktów róownoodległych\n",
    "\n",
    "\n",
    "$$\n",
    "p(x)=c_0+c_1 x+c_2 x^2 +\\ldots +c_{m-1} x^{m-1} \n",
    "$$\n",
    "\n",
    "$$\n",
    "\\begin{bmatrix}\n",
    "1&x_1&x_1^2&&x_1^{m-1}\\\\\n",
    "1&x_2&x_2^2&\\dots&x_2^{m-1}\\\\\n",
    "1&x_3&x_3^2&&x_3^{m-1}\\\\\n",
    "&\\vdots&&\\ddots&\\vdots\\\\\n",
    "1&x_m&x_m^2&\\dots&x_m^{m-1}\n",
    "\\end{bmatrix}\n",
    "\\begin{bmatrix}\n",
    "c_0\\\\c_1\\\\c_2\\\\\\vdots\\\\ c_{m-1}\n",
    "\\end{bmatrix}\n",
    "=\n",
    "\\begin{bmatrix}\n",
    "y_1\\\\y_2\\\\y_3\\\\\\vdots\\\\ y_{m}\n",
    "\\end{bmatrix}\n",
    "$$"
   ]
  },
  {
   "cell_type": "code",
   "execution_count": 405,
   "metadata": {
    "slideshow": {
     "slide_type": "skip"
    }
   },
   "outputs": [],
   "source": [
    "import numpy as np\n",
    "import numpy.linalg as nplin\n",
    "import scipy\n",
    "import matplotlib.pyplot as plt\n"
   ]
  },
  {
   "cell_type": "code",
   "execution_count": 408,
   "metadata": {
    "slideshow": {
     "slide_type": "subslide"
    }
   },
   "outputs": [
    {
     "data": {
      "text/plain": [
       "<matplotlib.collections.PathCollection at 0x7f82c4b610f0>"
      ]
     },
     "execution_count": 408,
     "metadata": {},
     "output_type": "execute_result"
    },
    {
     "data": {
      "image/png": "[encoded data removed]",
      "text/plain": [
       "<Figure size 432x288 with 1 Axes>"
      ]
     },
     "metadata": {
      "needs_background": "light"
     },
     "output_type": "display_data"
    }
   ],
   "source": [
    "x=[i for i in range(-5,6)]\n",
    "y=[0,0,0,1,1,1,0,0,0,0,0]\n",
    "plt.scatter(x,y)\n",
    "A=np.vander(x,10,)"
   ]
  },
  {
   "cell_type": "code",
   "execution_count": 357,
   "metadata": {},
   "outputs": [
    {
     "data": {
      "text/plain": [
       "<matplotlib.lines.Line2D at 0x7f82c4c2c588>"
      ]
     },
     "execution_count": 357,
     "metadata": {},
     "output_type": "execute_result"
    },
    {
     "data": {
      "image/png": "[encoded data removed]",
      "text/plain": [
       "<Figure size 432x288 with 1 Axes>"
      ]
     },
     "metadata": {
      "needs_background": "light"
     },
     "output_type": "display_data"
    }
   ],
   "source": [
    "np.random.seed(12345)\n",
    "matrixSize = 50\n",
    "A=2*np.random.rand(matrixSize,matrixSize)-1\n",
    "A=(A+A.T)/2\n",
    "np.fill_diagonal(A, 1)\n",
    "A[A < 0.7] = 0\n",
    "b = np.matrix(np.ones((matrixSize, 1)))\n",
    "x1 = np.matrix(np.ones((matrixSize, 1)))\n",
    "spA = scipy.sparse.csc_matrix (A)\n",
    "plt.spy(spA,markersize=1)"
   ]
  },
  {
   "cell_type": "code",
   "execution_count": 347,
   "metadata": {},
   "outputs": [
    {
     "data": {
      "text/plain": [
       "130.8925614896482"
      ]
     },
     "execution_count": 347,
     "metadata": {},
     "output_type": "execute_result"
    }
   ],
   "source": []
  },
  {
   "cell_type": "code",
   "execution_count": null,
   "metadata": {},
   "outputs": [],
   "source": []
  },
  {
   "cell_type": "code",
   "execution_count": null,
   "metadata": {},
   "outputs": [],
   "source": []
  },
  {
   "cell_type": "code",
   "execution_count": 320,
   "metadata": {},
   "outputs": [],
   "source": [
    "import scipy.sparse.linalg as spla\n"
   ]
  },
  {
   "cell_type": "code",
   "execution_count": null,
   "metadata": {},
   "outputs": [],
   "source": []
  },
  {
   "cell_type": "code",
   "execution_count": 321,
   "metadata": {},
   "outputs": [],
   "source": [
    "import inspect\n",
    "A = scipy.sparse.csc_matrix (A)\n",
    "\n",
    "#M_i=scipy.sparse.linalg.spilu(A)\n",
    "#M2=scipy.sparse.linalg.LinearOperator((matrixSize,matrixSize),M_i.solve)\n",
    "\n",
    "nmax_iter = 1\n",
    "rstart = 1\n",
    "tol = 1e-12\n",
    "e = np.zeros((nmax_iter + 1, 1))\n",
    "rr = 1\n",
    "\n",
    "class gmres_counter(object):\n",
    "   def __init__(self, disp=False):\n",
    "      self._disp = disp\n",
    "      self.niter = 0\n",
    "      self.callbacks = []\n",
    "   def __call__(self, rk=None):\n",
    "      self.callbacks.append(str(rk))\n",
    "      self.niter += 1\n",
    "      if self._disp:\n",
    "          print('%s' %(str(rk)))\n",
    "        \n",
    "class cg_counter(object):\n",
    "   def __init__(self, disp=False):\n",
    "      self._disp = disp\n",
    "      self.niter = 0\n",
    "      self.callbacks = []\n",
    "   def __call__(self, rk=None):\n",
    "      res=inspect.currentframe().f_back.f_locals['resid'] \n",
    "      self.callbacks.append(res)\n",
    "      self.niter += 1\n",
    "      if self._disp:\n",
    "          print('%s' %(str(res)))        \n",
    "\n",
    "def report(xk):\n",
    "    frame = inspect.currentframe().f_back\n",
    "    print(frame.f_locals['resid'])"
   ]
  },
  {
   "cell_type": "code",
   "execution_count": 349,
   "metadata": {},
   "outputs": [
    {
     "name": "stdout",
     "output_type": "stream",
     "text": [
      "500\n"
     ]
    },
    {
     "data": {
      "application/vnd.plotly.v1+json": {
       "config": {
        "plotlyServerURL": "https://plot.ly"
       },
       "data": [
        {
         "hoverlabel": {
          "namelength": 0
         },
         "hovertemplate": "x=%{x}<br>y=%{y}",
         "legendgroup": "",
         "marker": {
          "color": "#636efa",
          "symbol": "circle"
         },
         "mode": "markers",
         "name": "",
         "showlegend": false,
         "type": "scatter",
         "x": [
          0,
          1,
          2,
          3,
          4,
          5,
          6,
          7,
          8,
          9,
          10,
          11,
          12,
          13,
          14,
          15,
          16,
          17,
          18,
          19,
          20,
          21,
          22,
          23,
          24,
          25,
          26,
          27,
          28,
          29,
          30,
          31,
          32,
          33,
          34,
          35,
          36,
          37,
          38,
          39,
          40,
          41,
          42,
          43,
          44,
          45,
          46,
          47,
          48,
          49,
          50,
          51,
          52,
          53,
          54,
          55,
          56,
          57,
          58,
          59,
          60,
          61,
          62,
          63,
          64,
          65,
          66,
          67,
          68,
          69,
          70,
          71,
          72,
          73,
          74,
          75,
          76,
          77,
          78,
          79,
          80,
          81,
          82,
          83,
          84,
          85,
          86,
          87,
          88,
          89,
          90,
          91,
          92,
          93,
          94,
          95,
          96,
          97,
          98,
          99,
          100,
          101,
          102,
          103,
          104,
          105,
          106,
          107,
          108,
          109,
          110,
          111,
          112,
          113,
          114,
          115,
          116,
          117,
          118,
          119,
          120,
          121,
          122,
          123,
          124,
          125,
          126,
          127,
          128,
          129,
          130,
          131,
          132,
          133,
          134,
          135,
          136,
          137,
          138,
          139,
          140,
          141,
          142,
          143,
          144,
          145,
          146,
          147,
          148,
          149,
          150,
          151,
          152,
          153,
          154,
          155,
          156,
          157,
          158,
          159,
          160,
          161,
          162,
          163,
          164,
          165,
          166,
          167,
          168,
          169,
          170,
          171,
          172,
          173,
          174,
          175,
          176,
          177,
          178,
          179,
          180,
          181,
          182,
          183,
          184,
          185,
          186,
          187,
          188,
          189,
          190,
          191,
          192,
          193,
          194,
          195,
          196,
          197,
          198,
          199,
          200,
          201,
          202,
          203,
          204,
          205,
          206,
          207,
          208,
          209,
          210,
          211,
          212,
          213,
          214,
          215,
          216,
          217,
          218,
          219,
          220,
          221,
          222,
          223,
          224,
          225,
          226,
          227,
          228,
          229,
          230,
          231,
          232,
          233,
          234,
          235,
          236,
          237,
          238,
          239,
          240,
          241,
          242,
          243,
          244,
          245,
          246,
          247,
          248,
          249,
          250,
          251,
          252,
          253,
          254,
          255,
          256,
          257,
          258,
          259,
          260,
          261,
          262,
          263,
          264,
          265,
          266,
          267,
          268,
          269,
          270,
          271,
          272,
          273,
          274,
          275,
          276,
          277,
          278,
          279,
          280,
          281,
          282,
          283,
          284,
          285,
          286,
          287,
          288,
          289,
          290,
          291,
          292,
          293,
          294,
          295,
          296,
          297,
          298,
          299,
          300,
          301,
          302,
          303,
          304,
          305,
          306,
          307,
          308,
          309,
          310,
          311,
          312,
          313,
          314,
          315,
          316,
          317,
          318,
          319,
          320,
          321,
          322,
          323,
          324,
          325,
          326,
          327,
          328,
          329,
          330,
          331,
          332,
          333,
          334,
          335,
          336,
          337,
          338,
          339,
          340,
          341,
          342,
          343,
          344,
          345,
          346,
          347,
          348,
          349,
          350,
          351,
          352,
          353,
          354,
          355,
          356,
          357,
          358,
          359,
          360,
          361,
          362,
          363,
          364,
          365,
          366,
          367,
          368,
          369,
          370,
          371,
          372,
          373,
          374,
          375,
          376,
          377,
          378,
          379,
          380,
          381,
          382,
          383,
          384,
          385,
          386,
          387,
          388,
          389,
          390,
          391,
          392,
          393,
          394,
          395,
          396,
          397,
          398,
          399,
          400,
          401,
          402,
          403,
          404,
          405,
          406,
          407,
          408,
          409,
          410,
          411,
          412,
          413,
          414,
          415,
          416,
          417,
          418,
          419,
          420,
          421,
          422,
          423,
          424,
          425,
          426,
          427,
          428,
          429,
          430,
          431,
          432,
          433,
          434,
          435,
          436,
          437,
          438,
          439,
          440,
          441,
          442,
          443,
          444,
          445,
          446,
          447,
          448,
          449,
          450,
          451,
          452,
          453,
          454,
          455,
          456,
          457,
          458,
          459,
          460,
          461,
          462,
          463,
          464,
          465,
          466,
          467,
          468,
          469,
          470,
          471,
          472,
          473,
          474,
          475,
          476,
          477,
          478,
          479,
          480,
          481,
          482,
          483,
          484,
          485,
          486,
          487,
          488,
          489,
          490,
          491,
          492,
          493,
          494,
          495,
          496,
          497,
          498,
          499
         ],
         "xaxis": "x",
         "y": [
          "0.30071084014985694",
          "0.30059634909768546",
          "0.19033342922191163",
          "0.1662448128471848",
          "0.1647752043369029",
          "0.15060493374599246",
          "0.13996909390008433",
          "0.13953802419368802",
          "0.1222175274722071",
          "0.11357236820538465",
          "0.11235193710561643",
          "0.10014337013810773",
          "0.0922709222260549",
          "0.09085660781930724",
          "0.05405470344021867",
          "0.0403163065305394",
          "0.038083980487465106",
          "0.02884100194188362",
          "0.02408511155092344",
          "0.023407150487459016",
          "0.023217963638737654",
          "0.02268598674096719",
          "0.022606772721441678",
          "0.022439452055779675",
          "0.02103138817456906",
          "0.02018615859937398",
          "0.019667481346664604",
          "0.018329779960541127",
          "0.017720537155456965",
          "0.017719732235958064",
          "0.016634872491157162",
          "0.016490224068607333",
          "0.015673073015560653",
          "0.013631020440687798",
          "0.013310345086166736",
          "0.012725590056515326",
          "0.011257194542499046",
          "0.011084298537704146",
          "0.010571478650840769",
          "0.009989513067399184",
          "0.009960356596050384",
          "0.009874608724748069",
          "0.009494824547331976",
          "0.009418637906205098",
          "0.009327798128353774",
          "0.009001307360783202",
          "0.008995543389442343",
          "0.008805588323395798",
          "0.008565181476504589",
          "0.00856510829587486",
          "0.008177402203368265",
          "0.007998844047085502",
          "0.007924541038921708",
          "0.007607519416231324",
          "0.007274302817780329",
          "0.007144502811593355",
          "0.007119837584756415",
          "0.006927091969591231",
          "0.006515650214764523",
          "0.006460009674711043",
          "0.006428507482225019",
          "0.006327735338666864",
          "0.0062709609879677474",
          "0.0062519848384964575",
          "0.0062194061692079266",
          "0.006139763611455743",
          "0.006139449669056895",
          "0.006079307082791252",
          "0.00603952375335384",
          "0.006038622341138589",
          "0.006006149751828736",
          "0.005989545822163532",
          "0.0059887759397347865",
          "0.005969508336108579",
          "0.005964782040455262",
          "0.005958379169379774",
          "0.005922630922947923",
          "0.005906795588666514",
          "0.005893474427094516",
          "0.00582590010082285",
          "0.005802663329150225",
          "0.0058025353205909715",
          "0.005770515483155218",
          "0.005736418787003967",
          "0.005731061199842733",
          "0.005727963864308475",
          "0.005714783919548896",
          "0.005714630798237466",
          "0.005702991549700999",
          "0.005683711587655849",
          "0.00568287327151699",
          "0.005645855118290094",
          "0.005606121889205901",
          "0.0056002661008221705",
          "0.005584742412381539",
          "0.005551046511718611",
          "0.005547666102788664",
          "0.00548445421626454",
          "0.00547346741045409",
          "0.005457797661395299",
          "0.005445234609055861",
          "0.0054433886155719055",
          "0.005398584381728857",
          "0.005396065536412272",
          "0.00537336745189539",
          "0.005355232356716114",
          "0.005352872657519414",
          "0.005328501656959537",
          "0.005309133181423196",
          "0.005308850741033114",
          "0.005280976198674669",
          "0.0052716452689462534",
          "0.0052696733603522835",
          "0.0052480707646038105",
          "0.005240106595495432",
          "0.005237474537501686",
          "0.0052186004663880665",
          "0.005214094216979078",
          "0.005206793435115157",
          "0.005172397793221977",
          "0.005143211311809471",
          "0.00513649186147546",
          "0.0051330324475599935",
          "0.005115924273824185",
          "0.0051142962548912626",
          "0.005106935689904011",
          "0.005089193585395842",
          "0.005088075305825485",
          "0.005079980419171875",
          "0.005058916056395671",
          "0.005058869242505135",
          "0.005038588052445947",
          "0.005016061743284541",
          "0.005014440763246523",
          "0.004996921817244418",
          "0.004974378178338913",
          "0.004972315393153324",
          "0.004927636609126719",
          "0.0049236197237950375",
          "0.004911009559861436",
          "0.004899443790181079",
          "0.004897663993193892",
          "0.004854435287919156",
          "0.00485184346615394",
          "0.0048315294596265705",
          "0.004815699752187021",
          "0.004814395101359325",
          "0.0047933900507346455",
          "0.004776912094125495",
          "0.0047768874131752185",
          "0.004756534117013924",
          "0.0047478472358141845",
          "0.004746328947719329",
          "0.004730199675881165",
          "0.0047229649988663755",
          "0.00472092113289483",
          "0.0047047257605703245",
          "0.004701285258116229",
          "0.004695406851339554",
          "0.004665520118827996",
          "0.004638985907406602",
          "0.004632490384904423",
          "0.004630028089372387",
          "0.004613692195578901",
          "0.004612040761220574",
          "0.004605339609184041",
          "0.004590699363150572",
          "0.0045895121881320946",
          "0.004581236593361048",
          "0.004564403260536618",
          "0.0045643881017086736",
          "0.004548308575882072",
          "0.00452745009346752",
          "0.004526561679504936",
          "0.0045125057583232245",
          "0.004492364116876629",
          "0.0044902933508298515",
          "0.004447141838787519",
          "0.004445105818704861",
          "0.004434068153717773",
          "0.004423339258228039",
          "0.004421746013890419",
          "0.004379923130693987",
          "0.0043777101070422465",
          "0.004358354550583184",
          "0.004345332708967526",
          "0.004344478417703222",
          "0.0043247715582240805",
          "0.004310272172773327",
          "0.004310235413706799",
          "0.004294260790843544",
          "0.004286437796464344",
          "0.0042851775214852875",
          "0.004271287410293523",
          "0.00426524595243887",
          "0.004263577556375137",
          "0.004248337285504765",
          "0.004245925650661945",
          "0.004239530837941214",
          "0.004214861113613304",
          "0.00419078180288205",
          "0.004184625209527175",
          "0.00418228462646862",
          "0.004167628704915538",
          "0.004166091938318588",
          "0.004160165404905767",
          "0.004147156035165991",
          "0.004146026370022509",
          "0.004138566029382048",
          "0.004123731401211182",
          "0.0041237200387868305",
          "0.004109645770550755",
          "0.004090999033432538",
          "0.004090288818716571",
          "0.004077793199851031",
          "0.00405979973070201",
          "0.004057643998605872",
          "0.0040185977585558506",
          "0.004016978606417426",
          "0.004006978321359716",
          "0.003997118048053786",
          "0.003995680957552377",
          "0.003957580282182656",
          "0.0039552884531954486",
          "0.003937885477894321",
          "0.0039259197954665224",
          "0.00392525343343729",
          "0.003907608600678206",
          "0.003894372602414415",
          "0.003894360210654749",
          "0.0038803795503257283",
          "0.003873372500058253",
          "0.003872299821447143",
          "0.0038601680291343696",
          "0.003854611711783166",
          "0.0038531752649080203",
          "0.003839762659054144",
          "0.00383743653533376",
          "0.003831795392450966",
          "0.003809707505795259",
          "0.0037879978382282407",
          "0.0037823966641203004",
          "0.0037801978646193344",
          "0.0037670472131037715",
          "0.0037656330578136835",
          "0.003760224996277468",
          "0.0037486254768496294",
          "0.003747578920320829",
          "0.003740913627752027",
          "0.0037275148572521346",
          "0.003727506311200661",
          "0.0037148636598134405",
          "0.003698173139072382",
          "0.003697536843004485",
          "0.0036862242477207273",
          "0.0036700234684744473",
          "0.0036679320822453447",
          "0.0036329305425095715",
          "0.0036314354363649786",
          "0.0036223220926620238",
          "0.0036133500585142256",
          "0.003612031181310721",
          "0.0035777559189287206",
          "0.003575495447548759",
          "0.0035597477322516966",
          "0.003548831536043808",
          "0.00354824014011842",
          "0.0035324749621634373",
          "0.003520398592876795",
          "0.003520392270212879",
          "0.003507789605319263",
          "0.003501542680067185",
          "0.003500590818249324",
          "0.0034897874162563877",
          "0.0034846922773440103",
          "0.0034833942625108315",
          "0.003471392952734168",
          "0.0034692532886648076",
          "0.003464292307959633",
          "0.0034442962478745415",
          "0.0034246633534445684",
          "0.003419654870746308",
          "0.003417685847783824",
          "0.003405804848435196",
          "0.0034044877809084823",
          "0.0033995238316455612",
          "0.0033891576515560733",
          "0.0033881970695820466",
          "0.003382278935641457",
          "0.003370057210203663",
          "0.003370050849575098",
          "0.0033585626188088005",
          "0.003343671982578461",
          "0.003343076430683527",
          "0.003332779538505188",
          "0.0033181250168187668",
          "0.0033161186260195204",
          "0.003284820527577498",
          "0.0032834011495357493",
          "0.0032751020068191696",
          "0.0032669578107467007",
          "0.00326573646366816",
          "0.0032350734682495925",
          "0.003232854497498733",
          "0.0032185704715515916",
          "0.003208599867110517",
          "0.0032080467097935607",
          "0.0031940090554347187",
          "0.003182972300309074",
          "0.0031829683609903812",
          "0.0031714655335262874",
          "0.0031659266083844725",
          "0.003165060566829059",
          "0.0031554123848087307",
          "0.0031507337689441702",
          "0.0031495268481904863",
          "0.0031387024108092583",
          "0.003136798001423485",
          "0.0031324107886883477",
          "0.0031143072413455223",
          "0.003096537308508841",
          "0.0030920852399360047",
          "0.003090345825024939",
          "0.003079599249109892",
          "0.003078366316849506",
          "0.003073802102092097",
          "0.0030645309503254258",
          "0.0030636525348784987",
          "0.0030584067989095644",
          "0.003047224507280277",
          "0.0030472199467189653",
          "0.0030367207684537153",
          "0.0030234670100968567",
          "0.0030229093052349457",
          "0.003013515976413961",
          "0.0030002108131763896",
          "0.002998229018277603",
          "0.0029702520354917684",
          "0.0029689652009303505",
          "0.002961456750711665",
          "0.002954072009562121",
          "0.0029529410622035944",
          "0.0029255026214637355",
          "0.002923359593473032",
          "0.0029103990287973227",
          "0.0029013038190245735",
          "0.0029007816083075305",
          "0.0028882565323170794",
          "0.0028781934291020866",
          "0.0028781906264523883",
          "0.0028676628705345433",
          "0.0028627523957268685",
          "0.0028619528919329408",
          "0.0028533294164377943",
          "0.002849042457402791",
          "0.0028479089149724174",
          "0.002838077311139022",
          "0.002836425225930979",
          "0.002832474147298873",
          "0.002816164944162579",
          "0.0028000843212846907",
          "0.0027961116744968277",
          "0.002794563873058276",
          "0.002784843996309926",
          "0.002783703455274732",
          "0.0027795234761289304",
          "0.0027712025105567847",
          "0.0027704049953535133",
          "0.0027657225981108802",
          "0.002755530001868762",
          "0.002755526750182751",
          "0.0027459429866489846",
          "0.00273410475437308",
          "0.0027335920797705382",
          "0.002725038176088799",
          "0.0027129509067371793",
          "0.002710999220546852",
          "0.0026858974857543357",
          "0.002684784870328962",
          "0.0026780308786318236",
          "0.0026713430431408738",
          "0.0026703049177795",
          "0.0026456405293285427",
          "0.0026436363445533156",
          "0.0026318950978048744",
          "0.00262363039664769",
          "0.0026231457506891895",
          "0.002611898868228235",
          "0.0026027670152532034",
          "0.002602764779161771",
          "0.002593184583567172",
          "0.0025887917204430295",
          "0.0025880604159388455",
          "0.0025803108804047215",
          "0.0025764046529312633",
          "0.00257535534546392",
          "0.0025664397972250267",
          "0.0025649877197996326",
          "0.0025614299932263784",
          "0.002546738547087519",
          "0.0025321980105612076",
          "0.002528653841692888",
          "0.0025272646704824616",
          "0.002518493547856521",
          "0.0025174444112808212",
          "0.002513644293679758",
          "0.0025061230382113224",
          "0.0025054060113570927",
          "0.002501211464903283",
          "0.0024920007772917755",
          "0.0024919965389541858",
          "0.002483376718366827",
          "0.0024726248767538224",
          "0.002472148506661073",
          "0.0024643899064222537",
          "0.0024535322198428436",
          "0.0024518372347501183",
          "0.0024295861886578923",
          "0.0024283200372598466",
          "0.0024220967254537963",
          "0.002416023534151313",
          "0.0024149431205588473",
          "0.002393823752805697",
          "0.0023916549035915583",
          "0.0023817357691320396",
          "0.002373360731099477",
          "0.0023730151031789632",
          "0.0023623983893907544",
          "0.002354588415238666",
          "0.0023545833845210885",
          "0.002347268958895825",
          "0.002342399467430408",
          "0.002342092531225964",
          "0.002334125094827175",
          "0.0023304253278095114",
          "0.0023296269067498124",
          "0.002323369702494253",
          "0.00232123897350696",
          "0.002319943695707392",
          "0.0023065237619871283",
          "0.002293903038785604",
          "0.0022923718563769794",
          "0.0022909199620647323",
          "0.002284450802755832",
          "0.0022832531370626237",
          "0.0022796100736325537",
          "0.0022716099550320326",
          "0.002271302837683477",
          "0.0022672935417805107",
          "0.0022604607258178986",
          "0.002260407915533672",
          "0.002254003757356906",
          "0.002242314407425399",
          "0.002241831137733161",
          "0.0022337789353929815",
          "0.0022252436330987466",
          "0.002224211893132353",
          "0.0022080239192479745",
          "0.002204355167050435",
          "0.002198408914144885",
          "0.002192865764544314",
          "0.002190367085772912",
          "0.002176270335487911",
          "0.0021739144862098843",
          "0.002167022545474592",
          "0.0021569944482189387",
          "0.0021568199168356373",
          "0.0021443677427844645",
          "0.0021381753274065988",
          "0.002138134507097887",
          "0.002132432594541301",
          "0.0021285655202613507",
          "0.0021284533342142797",
          "0.00212104612952387",
          "0.0021169322500112016",
          "0.002115856448822652",
          "0.002109661546053328",
          "0.002108328318202735",
          "0.0021070085457050927",
          "0.0020966478247790065",
          "0.0020865108792757344",
          "0.002085149707484759",
          "0.0020839627621400403",
          "0.002077844973554679",
          "0.002076685959277806",
          "0.002072740668032036",
          "0.002065351360029613",
          "0.002065235693217825",
          "0.0020614857024687113",
          "0.002056052828574992",
          "0.002056004806038957",
          "0.002050345174539298",
          "0.002038508117925162",
          "0.002038273810888119",
          "0.0020289199532716696",
          "0.0020222505953345414",
          "0.0020201397836928296",
          "0.002006972557652173",
          "0.002004667025371651",
          "0.001999702011672806"
         ],
         "yaxis": "y"
        }
       ],
       "layout": {
        "height": 600,
        "legend": {
         "tracegroupgap": 0
        },
        "margin": {
         "t": 60
        },
        "template": {
         "data": {
          "bar": [
           {
            "error_x": {
             "color": "#2a3f5f"
            },
            "error_y": {
             "color": "#2a3f5f"
            },
            "marker": {
             "line": {
              "color": "#E5ECF6",
              "width": 0.5
             }
            },
            "type": "bar"
           }
          ],
          "barpolar": [
           {
            "marker": {
             "line": {
              "color": "#E5ECF6",
              "width": 0.5
             }
            },
            "type": "barpolar"
           }
          ],
          "carpet": [
           {
            "aaxis": {
             "endlinecolor": "#2a3f5f",
             "gridcolor": "white",
             "linecolor": "white",
             "minorgridcolor": "white",
             "startlinecolor": "#2a3f5f"
            },
            "baxis": {
             "endlinecolor": "#2a3f5f",
             "gridcolor": "white",
             "linecolor": "white",
             "minorgridcolor": "white",
             "startlinecolor": "#2a3f5f"
            },
            "type": "carpet"
           }
          ],
          "choropleth": [
           {
            "colorbar": {
             "outlinewidth": 0,
             "ticks": ""
            },
            "type": "choropleth"
           }
          ],
          "contour": [
           {
            "colorbar": {
             "outlinewidth": 0,
             "ticks": ""
            },
            "colorscale": [
             [
              0,
              "#0d0887"
             ],
             [
              0.1111111111111111,
              "#46039f"
             ],
             [
              0.2222222222222222,
              "#7201a8"
             ],
             [
              0.3333333333333333,
              "#9c179e"
             ],
             [
              0.4444444444444444,
              "#bd3786"
             ],
             [
              0.5555555555555556,
              "#d8576b"
             ],
             [
              0.6666666666666666,
              "#ed7953"
             ],
             [
              0.7777777777777778,
              "#fb9f3a"
             ],
             [
              0.8888888888888888,
              "#fdca26"
             ],
             [
              1,
              "#f0f921"
             ]
            ],
            "type": "contour"
           }
          ],
          "contourcarpet": [
           {
            "colorbar": {
             "outlinewidth": 0,
             "ticks": ""
            },
            "type": "contourcarpet"
           }
          ],
          "heatmap": [
           {
            "colorbar": {
             "outlinewidth": 0,
             "ticks": ""
            },
            "colorscale": [
             [
              0,
              "#0d0887"
             ],
             [
              0.1111111111111111,
              "#46039f"
             ],
             [
              0.2222222222222222,
              "#7201a8"
             ],
             [
              0.3333333333333333,
              "#9c179e"
             ],
             [
              0.4444444444444444,
              "#bd3786"
             ],
             [
              0.5555555555555556,
              "#d8576b"
             ],
             [
              0.6666666666666666,
              "#ed7953"
             ],
             [
              0.7777777777777778,
              "#fb9f3a"
             ],
             [
              0.8888888888888888,
              "#fdca26"
             ],
             [
              1,
              "#f0f921"
             ]
            ],
            "type": "heatmap"
           }
          ],
          "heatmapgl": [
           {
            "colorbar": {
             "outlinewidth": 0,
             "ticks": ""
            },
            "colorscale": [
             [
              0,
              "#0d0887"
             ],
             [
              0.1111111111111111,
              "#46039f"
             ],
             [
              0.2222222222222222,
              "#7201a8"
             ],
             [
              0.3333333333333333,
              "#9c179e"
             ],
             [
              0.4444444444444444,
              "#bd3786"
             ],
             [
              0.5555555555555556,
              "#d8576b"
             ],
             [
              0.6666666666666666,
              "#ed7953"
             ],
             [
              0.7777777777777778,
              "#fb9f3a"
             ],
             [
              0.8888888888888888,
              "#fdca26"
             ],
             [
              1,
              "#f0f921"
             ]
            ],
            "type": "heatmapgl"
           }
          ],
          "histogram": [
           {
            "marker": {
             "colorbar": {
              "outlinewidth": 0,
              "ticks": ""
             }
            },
            "type": "histogram"
           }
          ],
          "histogram2d": [
           {
            "colorbar": {
             "outlinewidth": 0,
             "ticks": ""
            },
            "colorscale": [
             [
              0,
              "#0d0887"
             ],
             [
              0.1111111111111111,
              "#46039f"
             ],
             [
              0.2222222222222222,
              "#7201a8"
             ],
             [
              0.3333333333333333,
              "#9c179e"
             ],
             [
              0.4444444444444444,
              "#bd3786"
             ],
             [
              0.5555555555555556,
              "#d8576b"
             ],
             [
              0.6666666666666666,
              "#ed7953"
             ],
             [
              0.7777777777777778,
              "#fb9f3a"
             ],
             [
              0.8888888888888888,
              "#fdca26"
             ],
             [
              1,
              "#f0f921"
             ]
            ],
            "type": "histogram2d"
           }
          ],
          "histogram2dcontour": [
           {
            "colorbar": {
             "outlinewidth": 0,
             "ticks": ""
            },
            "colorscale": [
             [
              0,
              "#0d0887"
             ],
             [
              0.1111111111111111,
              "#46039f"
             ],
             [
              0.2222222222222222,
              "#7201a8"
             ],
             [
              0.3333333333333333,
              "#9c179e"
             ],
             [
              0.4444444444444444,
              "#bd3786"
             ],
             [
              0.5555555555555556,
              "#d8576b"
             ],
             [
              0.6666666666666666,
              "#ed7953"
             ],
             [
              0.7777777777777778,
              "#fb9f3a"
             ],
             [
              0.8888888888888888,
              "#fdca26"
             ],
             [
              1,
              "#f0f921"
             ]
            ],
            "type": "histogram2dcontour"
           }
          ],
          "mesh3d": [
           {
            "colorbar": {
             "outlinewidth": 0,
             "ticks": ""
            },
            "type": "mesh3d"
           }
          ],
          "parcoords": [
           {
            "line": {
             "colorbar": {
              "outlinewidth": 0,
              "ticks": ""
             }
            },
            "type": "parcoords"
           }
          ],
          "scatter": [
           {
            "marker": {
             "colorbar": {
              "outlinewidth": 0,
              "ticks": ""
             }
            },
            "type": "scatter"
           }
          ],
          "scatter3d": [
           {
            "line": {
             "colorbar": {
              "outlinewidth": 0,
              "ticks": ""
             }
            },
            "marker": {
             "colorbar": {
              "outlinewidth": 0,
              "ticks": ""
             }
            },
            "type": "scatter3d"
           }
          ],
          "scattercarpet": [
           {
            "marker": {
             "colorbar": {
              "outlinewidth": 0,
              "ticks": ""
             }
            },
            "type": "scattercarpet"
           }
          ],
          "scattergeo": [
           {
            "marker": {
             "colorbar": {
              "outlinewidth": 0,
              "ticks": ""
             }
            },
            "type": "scattergeo"
           }
          ],
          "scattergl": [
           {
            "marker": {
             "colorbar": {
              "outlinewidth": 0,
              "ticks": ""
             }
            },
            "type": "scattergl"
           }
          ],
          "scattermapbox": [
           {
            "marker": {
             "colorbar": {
              "outlinewidth": 0,
              "ticks": ""
             }
            },
            "type": "scattermapbox"
           }
          ],
          "scatterpolar": [
           {
            "marker": {
             "colorbar": {
              "outlinewidth": 0,
              "ticks": ""
             }
            },
            "type": "scatterpolar"
           }
          ],
          "scatterpolargl": [
           {
            "marker": {
             "colorbar": {
              "outlinewidth": 0,
              "ticks": ""
             }
            },
            "type": "scatterpolargl"
           }
          ],
          "scatterternary": [
           {
            "marker": {
             "colorbar": {
              "outlinewidth": 0,
              "ticks": ""
             }
            },
            "type": "scatterternary"
           }
          ],
          "surface": [
           {
            "colorbar": {
             "outlinewidth": 0,
             "ticks": ""
            },
            "colorscale": [
             [
              0,
              "#0d0887"
             ],
             [
              0.1111111111111111,
              "#46039f"
             ],
             [
              0.2222222222222222,
              "#7201a8"
             ],
             [
              0.3333333333333333,
              "#9c179e"
             ],
             [
              0.4444444444444444,
              "#bd3786"
             ],
             [
              0.5555555555555556,
              "#d8576b"
             ],
             [
              0.6666666666666666,
              "#ed7953"
             ],
             [
              0.7777777777777778,
              "#fb9f3a"
             ],
             [
              0.8888888888888888,
              "#fdca26"
             ],
             [
              1,
              "#f0f921"
             ]
            ],
            "type": "surface"
           }
          ],
          "table": [
           {
            "cells": {
             "fill": {
              "color": "#EBF0F8"
             },
             "line": {
              "color": "white"
             }
            },
            "header": {
             "fill": {
              "color": "#C8D4E3"
             },
             "line": {
              "color": "white"
             }
            },
            "type": "table"
           }
          ]
         },
         "layout": {
          "annotationdefaults": {
           "arrowcolor": "#2a3f5f",
           "arrowhead": 0,
           "arrowwidth": 1
          },
          "colorscale": {
           "diverging": [
            [
             0,
             "#8e0152"
            ],
            [
             0.1,
             "#c51b7d"
            ],
            [
             0.2,
             "#de77ae"
            ],
            [
             0.3,
             "#f1b6da"
            ],
            [
             0.4,
             "#fde0ef"
            ],
            [
             0.5,
             "#f7f7f7"
            ],
            [
             0.6,
             "#e6f5d0"
            ],
            [
             0.7,
             "#b8e186"
            ],
            [
             0.8,
             "#7fbc41"
            ],
            [
             0.9,
             "#4d9221"
            ],
            [
             1,
             "#276419"
            ]
           ],
           "sequential": [
            [
             0,
             "#0d0887"
            ],
            [
             0.1111111111111111,
             "#46039f"
            ],
            [
             0.2222222222222222,
             "#7201a8"
            ],
            [
             0.3333333333333333,
             "#9c179e"
            ],
            [
             0.4444444444444444,
             "#bd3786"
            ],
            [
             0.5555555555555556,
             "#d8576b"
            ],
            [
             0.6666666666666666,
             "#ed7953"
            ],
            [
             0.7777777777777778,
             "#fb9f3a"
            ],
            [
             0.8888888888888888,
             "#fdca26"
            ],
            [
             1,
             "#f0f921"
            ]
           ],
           "sequentialminus": [
            [
             0,
             "#0d0887"
            ],
            [
             0.1111111111111111,
             "#46039f"
            ],
            [
             0.2222222222222222,
             "#7201a8"
            ],
            [
             0.3333333333333333,
             "#9c179e"
            ],
            [
             0.4444444444444444,
             "#bd3786"
            ],
            [
             0.5555555555555556,
             "#d8576b"
            ],
            [
             0.6666666666666666,
             "#ed7953"
            ],
            [
             0.7777777777777778,
             "#fb9f3a"
            ],
            [
             0.8888888888888888,
             "#fdca26"
            ],
            [
             1,
             "#f0f921"
            ]
           ]
          },
          "colorway": [
           "#636efa",
           "#EF553B",
           "#00cc96",
           "#ab63fa",
           "#FFA15A",
           "#19d3f3",
           "#FF6692",
           "#B6E880",
           "#FF97FF",
           "#FECB52"
          ],
          "font": {
           "color": "#2a3f5f"
          },
          "geo": {
           "bgcolor": "white",
           "lakecolor": "white",
           "landcolor": "#E5ECF6",
           "showlakes": true,
           "showland": true,
           "subunitcolor": "white"
          },
          "hoverlabel": {
           "align": "left"
          },
          "hovermode": "closest",
          "mapbox": {
           "style": "light"
          },
          "paper_bgcolor": "white",
          "plot_bgcolor": "#E5ECF6",
          "polar": {
           "angularaxis": {
            "gridcolor": "white",
            "linecolor": "white",
            "ticks": ""
           },
           "bgcolor": "#E5ECF6",
           "radialaxis": {
            "gridcolor": "white",
            "linecolor": "white",
            "ticks": ""
           }
          },
          "scene": {
           "xaxis": {
            "backgroundcolor": "#E5ECF6",
            "gridcolor": "white",
            "gridwidth": 2,
            "linecolor": "white",
            "showbackground": true,
            "ticks": "",
            "zerolinecolor": "white"
           },
           "yaxis": {
            "backgroundcolor": "#E5ECF6",
            "gridcolor": "white",
            "gridwidth": 2,
            "linecolor": "white",
            "showbackground": true,
            "ticks": "",
            "zerolinecolor": "white"
           },
           "zaxis": {
            "backgroundcolor": "#E5ECF6",
            "gridcolor": "white",
            "gridwidth": 2,
            "linecolor": "white",
            "showbackground": true,
            "ticks": "",
            "zerolinecolor": "white"
           }
          },
          "shapedefaults": {
           "line": {
            "color": "#2a3f5f"
           }
          },
          "ternary": {
           "aaxis": {
            "gridcolor": "white",
            "linecolor": "white",
            "ticks": ""
           },
           "baxis": {
            "gridcolor": "white",
            "linecolor": "white",
            "ticks": ""
           },
           "bgcolor": "#E5ECF6",
           "caxis": {
            "gridcolor": "white",
            "linecolor": "white",
            "ticks": ""
           }
          },
          "title": {
           "x": 0.05
          },
          "xaxis": {
           "automargin": true,
           "gridcolor": "white",
           "linecolor": "white",
           "ticks": "",
           "zerolinecolor": "white",
           "zerolinewidth": 2
          },
          "yaxis": {
           "automargin": true,
           "gridcolor": "white",
           "linecolor": "white",
           "ticks": "",
           "zerolinecolor": "white",
           "zerolinewidth": 2
          }
         }
        },
        "xaxis": {
         "anchor": "y",
         "domain": [
          0,
          0.98
         ],
         "title": {
          "text": "x"
         }
        },
        "yaxis": {
         "anchor": "x",
         "domain": [
          0,
          1
         ],
         "title": {
          "text": "y"
         },
         "type": "log"
        }
       }
      },
      "text/html": [
       "<div>\n",
       "        \n",
       "        \n",
       "            <div id=\"33cbedac-2ab0-437f-8133-c6255650930c\" class=\"plotly-graph-div\" style=\"height:600px; width:100%;\"></div>\n",
       "            <script type=\"text/javascript\">\n",
       "                require([\"plotly\"], function(Plotly) {\n",
       "                    window.PLOTLYENV=window.PLOTLYENV || {};\n",
       "                    \n",
       "                if (document.getElementById(\"33cbedac-2ab0-437f-8133-c6255650930c\")) {\n",
       "                    Plotly.newPlot(\n",
       "                        '33cbedac-2ab0-437f-8133-c6255650930c',\n",
       "                        [{\"hoverlabel\": {\"namelength\": 0}, \"hovertemplate\": \"x=%{x}<br>y=%{y}\", \"legendgroup\": \"\", \"marker\": {\"color\": \"#636efa\", \"symbol\": \"circle\"}, \"mode\": \"markers\", \"name\": \"\", \"showlegend\": false, \"type\": \"scatter\", \"x\": [0, 1, 2, 3, 4, 5, 6, 7, 8, 9, 10, 11, 12, 13, 14, 15, 16, 17, 18, 19, 20, 21, 22, 23, 24, 25, 26, 27, 28, 29, 30, 31, 32, 33, 34, 35, 36, 37, 38, 39, 40, 41, 42, 43, 44, 45, 46, 47, 48, 49, 50, 51, 52, 53, 54, 55, 56, 57, 58, 59, 60, 61, 62, 63, 64, 65, 66, 67, 68, 69, 70, 71, 72, 73, 74, 75, 76, 77, 78, 79, 80, 81, 82, 83, 84, 85, 86, 87, 88, 89, 90, 91, 92, 93, 94, 95, 96, 97, 98, 99, 100, 101, 102, 103, 104, 105, 106, 107, 108, 109, 110, 111, 112, 113, 114, 115, 116, 117, 118, 119, 120, 121, 122, 123, 124, 125, 126, 127, 128, 129, 130, 131, 132, 133, 134, 135, 136, 137, 138, 139, 140, 141, 142, 143, 144, 145, 146, 147, 148, 149, 150, 151, 152, 153, 154, 155, 156, 157, 158, 159, 160, 161, 162, 163, 164, 165, 166, 167, 168, 169, 170, 171, 172, 173, 174, 175, 176, 177, 178, 179, 180, 181, 182, 183, 184, 185, 186, 187, 188, 189, 190, 191, 192, 193, 194, 195, 196, 197, 198, 199, 200, 201, 202, 203, 204, 205, 206, 207, 208, 209, 210, 211, 212, 213, 214, 215, 216, 217, 218, 219, 220, 221, 222, 223, 224, 225, 226, 227, 228, 229, 230, 231, 232, 233, 234, 235, 236, 237, 238, 239, 240, 241, 242, 243, 244, 245, 246, 247, 248, 249, 250, 251, 252, 253, 254, 255, 256, 257, 258, 259, 260, 261, 262, 263, 264, 265, 266, 267, 268, 269, 270, 271, 272, 273, 274, 275, 276, 277, 278, 279, 280, 281, 282, 283, 284, 285, 286, 287, 288, 289, 290, 291, 292, 293, 294, 295, 296, 297, 298, 299, 300, 301, 302, 303, 304, 305, 306, 307, 308, 309, 310, 311, 312, 313, 314, 315, 316, 317, 318, 319, 320, 321, 322, 323, 324, 325, 326, 327, 328, 329, 330, 331, 332, 333, 334, 335, 336, 337, 338, 339, 340, 341, 342, 343, 344, 345, 346, 347, 348, 349, 350, 351, 352, 353, 354, 355, 356, 357, 358, 359, 360, 361, 362, 363, 364, 365, 366, 367, 368, 369, 370, 371, 372, 373, 374, 375, 376, 377, 378, 379, 380, 381, 382, 383, 384, 385, 386, 387, 388, 389, 390, 391, 392, 393, 394, 395, 396, 397, 398, 399, 400, 401, 402, 403, 404, 405, 406, 407, 408, 409, 410, 411, 412, 413, 414, 415, 416, 417, 418, 419, 420, 421, 422, 423, 424, 425, 426, 427, 428, 429, 430, 431, 432, 433, 434, 435, 436, 437, 438, 439, 440, 441, 442, 443, 444, 445, 446, 447, 448, 449, 450, 451, 452, 453, 454, 455, 456, 457, 458, 459, 460, 461, 462, 463, 464, 465, 466, 467, 468, 469, 470, 471, 472, 473, 474, 475, 476, 477, 478, 479, 480, 481, 482, 483, 484, 485, 486, 487, 488, 489, 490, 491, 492, 493, 494, 495, 496, 497, 498, 499], \"xaxis\": \"x\", \"y\": [\"0.30071084014985694\", \"0.30059634909768546\", \"0.19033342922191163\", \"0.1662448128471848\", \"0.1647752043369029\", \"0.15060493374599246\", \"0.13996909390008433\", \"0.13953802419368802\", \"0.1222175274722071\", \"0.11357236820538465\", \"0.11235193710561643\", \"0.10014337013810773\", \"0.0922709222260549\", \"0.09085660781930724\", \"0.05405470344021867\", \"0.0403163065305394\", \"0.038083980487465106\", \"0.02884100194188362\", \"0.02408511155092344\", \"0.023407150487459016\", \"0.023217963638737654\", \"0.02268598674096719\", \"0.022606772721441678\", \"0.022439452055779675\", \"0.02103138817456906\", \"0.02018615859937398\", \"0.019667481346664604\", \"0.018329779960541127\", \"0.017720537155456965\", \"0.017719732235958064\", \"0.016634872491157162\", \"0.016490224068607333\", \"0.015673073015560653\", \"0.013631020440687798\", \"0.013310345086166736\", \"0.012725590056515326\", \"0.011257194542499046\", \"0.011084298537704146\", \"0.010571478650840769\", \"0.009989513067399184\", \"0.009960356596050384\", \"0.009874608724748069\", \"0.009494824547331976\", \"0.009418637906205098\", \"0.009327798128353774\", \"0.009001307360783202\", \"0.008995543389442343\", \"0.008805588323395798\", \"0.008565181476504589\", \"0.00856510829587486\", \"0.008177402203368265\", \"0.007998844047085502\", \"0.007924541038921708\", \"0.007607519416231324\", \"0.007274302817780329\", \"0.007144502811593355\", \"0.007119837584756415\", \"0.006927091969591231\", \"0.006515650214764523\", \"0.006460009674711043\", \"0.006428507482225019\", \"0.006327735338666864\", \"0.0062709609879677474\", \"0.0062519848384964575\", \"0.0062194061692079266\", \"0.006139763611455743\", \"0.006139449669056895\", \"0.006079307082791252\", \"0.00603952375335384\", \"0.006038622341138589\", \"0.006006149751828736\", \"0.005989545822163532\", \"0.0059887759397347865\", \"0.005969508336108579\", \"0.005964782040455262\", \"0.005958379169379774\", \"0.005922630922947923\", \"0.005906795588666514\", \"0.005893474427094516\", \"0.00582590010082285\", \"0.005802663329150225\", \"0.0058025353205909715\", \"0.005770515483155218\", \"0.005736418787003967\", \"0.005731061199842733\", \"0.005727963864308475\", \"0.005714783919548896\", \"0.005714630798237466\", \"0.005702991549700999\", \"0.005683711587655849\", \"0.00568287327151699\", \"0.005645855118290094\", \"0.005606121889205901\", \"0.0056002661008221705\", \"0.005584742412381539\", \"0.005551046511718611\", \"0.005547666102788664\", \"0.00548445421626454\", \"0.00547346741045409\", \"0.005457797661395299\", \"0.005445234609055861\", \"0.0054433886155719055\", \"0.005398584381728857\", \"0.005396065536412272\", \"0.00537336745189539\", \"0.005355232356716114\", \"0.005352872657519414\", \"0.005328501656959537\", \"0.005309133181423196\", \"0.005308850741033114\", \"0.005280976198674669\", \"0.0052716452689462534\", \"0.0052696733603522835\", \"0.0052480707646038105\", \"0.005240106595495432\", \"0.005237474537501686\", \"0.0052186004663880665\", \"0.005214094216979078\", \"0.005206793435115157\", \"0.005172397793221977\", \"0.005143211311809471\", \"0.00513649186147546\", \"0.0051330324475599935\", \"0.005115924273824185\", \"0.0051142962548912626\", \"0.005106935689904011\", \"0.005089193585395842\", \"0.005088075305825485\", \"0.005079980419171875\", \"0.005058916056395671\", \"0.005058869242505135\", \"0.005038588052445947\", \"0.005016061743284541\", \"0.005014440763246523\", \"0.004996921817244418\", \"0.004974378178338913\", \"0.004972315393153324\", \"0.004927636609126719\", \"0.0049236197237950375\", \"0.004911009559861436\", \"0.004899443790181079\", \"0.004897663993193892\", \"0.004854435287919156\", \"0.00485184346615394\", \"0.0048315294596265705\", \"0.004815699752187021\", \"0.004814395101359325\", \"0.0047933900507346455\", \"0.004776912094125495\", \"0.0047768874131752185\", \"0.004756534117013924\", \"0.0047478472358141845\", \"0.004746328947719329\", \"0.004730199675881165\", \"0.0047229649988663755\", \"0.00472092113289483\", \"0.0047047257605703245\", \"0.004701285258116229\", \"0.004695406851339554\", \"0.004665520118827996\", \"0.004638985907406602\", \"0.004632490384904423\", \"0.004630028089372387\", \"0.004613692195578901\", \"0.004612040761220574\", \"0.004605339609184041\", \"0.004590699363150572\", \"0.0045895121881320946\", \"0.004581236593361048\", \"0.004564403260536618\", \"0.0045643881017086736\", \"0.004548308575882072\", \"0.00452745009346752\", \"0.004526561679504936\", \"0.0045125057583232245\", \"0.004492364116876629\", \"0.0044902933508298515\", \"0.004447141838787519\", \"0.004445105818704861\", \"0.004434068153717773\", \"0.004423339258228039\", \"0.004421746013890419\", \"0.004379923130693987\", \"0.0043777101070422465\", \"0.004358354550583184\", \"0.004345332708967526\", \"0.004344478417703222\", \"0.0043247715582240805\", \"0.004310272172773327\", \"0.004310235413706799\", \"0.004294260790843544\", \"0.004286437796464344\", \"0.0042851775214852875\", \"0.004271287410293523\", \"0.00426524595243887\", \"0.004263577556375137\", \"0.004248337285504765\", \"0.004245925650661945\", \"0.004239530837941214\", \"0.004214861113613304\", \"0.00419078180288205\", \"0.004184625209527175\", \"0.00418228462646862\", \"0.004167628704915538\", \"0.004166091938318588\", \"0.004160165404905767\", \"0.004147156035165991\", \"0.004146026370022509\", \"0.004138566029382048\", \"0.004123731401211182\", \"0.0041237200387868305\", \"0.004109645770550755\", \"0.004090999033432538\", \"0.004090288818716571\", \"0.004077793199851031\", \"0.00405979973070201\", \"0.004057643998605872\", \"0.0040185977585558506\", \"0.004016978606417426\", \"0.004006978321359716\", \"0.003997118048053786\", \"0.003995680957552377\", \"0.003957580282182656\", \"0.0039552884531954486\", \"0.003937885477894321\", \"0.0039259197954665224\", \"0.00392525343343729\", \"0.003907608600678206\", \"0.003894372602414415\", \"0.003894360210654749\", \"0.0038803795503257283\", \"0.003873372500058253\", \"0.003872299821447143\", \"0.0038601680291343696\", \"0.003854611711783166\", \"0.0038531752649080203\", \"0.003839762659054144\", \"0.00383743653533376\", \"0.003831795392450966\", \"0.003809707505795259\", \"0.0037879978382282407\", \"0.0037823966641203004\", \"0.0037801978646193344\", \"0.0037670472131037715\", \"0.0037656330578136835\", \"0.003760224996277468\", \"0.0037486254768496294\", \"0.003747578920320829\", \"0.003740913627752027\", \"0.0037275148572521346\", \"0.003727506311200661\", \"0.0037148636598134405\", \"0.003698173139072382\", \"0.003697536843004485\", \"0.0036862242477207273\", \"0.0036700234684744473\", \"0.0036679320822453447\", \"0.0036329305425095715\", \"0.0036314354363649786\", \"0.0036223220926620238\", \"0.0036133500585142256\", \"0.003612031181310721\", \"0.0035777559189287206\", \"0.003575495447548759\", \"0.0035597477322516966\", \"0.003548831536043808\", \"0.00354824014011842\", \"0.0035324749621634373\", \"0.003520398592876795\", \"0.003520392270212879\", \"0.003507789605319263\", \"0.003501542680067185\", \"0.003500590818249324\", \"0.0034897874162563877\", \"0.0034846922773440103\", \"0.0034833942625108315\", \"0.003471392952734168\", \"0.0034692532886648076\", \"0.003464292307959633\", \"0.0034442962478745415\", \"0.0034246633534445684\", \"0.003419654870746308\", \"0.003417685847783824\", \"0.003405804848435196\", \"0.0034044877809084823\", \"0.0033995238316455612\", \"0.0033891576515560733\", \"0.0033881970695820466\", \"0.003382278935641457\", \"0.003370057210203663\", \"0.003370050849575098\", \"0.0033585626188088005\", \"0.003343671982578461\", \"0.003343076430683527\", \"0.003332779538505188\", \"0.0033181250168187668\", \"0.0033161186260195204\", \"0.003284820527577498\", \"0.0032834011495357493\", \"0.0032751020068191696\", \"0.0032669578107467007\", \"0.00326573646366816\", \"0.0032350734682495925\", \"0.003232854497498733\", \"0.0032185704715515916\", \"0.003208599867110517\", \"0.0032080467097935607\", \"0.0031940090554347187\", \"0.003182972300309074\", \"0.0031829683609903812\", \"0.0031714655335262874\", \"0.0031659266083844725\", \"0.003165060566829059\", \"0.0031554123848087307\", \"0.0031507337689441702\", \"0.0031495268481904863\", \"0.0031387024108092583\", \"0.003136798001423485\", \"0.0031324107886883477\", \"0.0031143072413455223\", \"0.003096537308508841\", \"0.0030920852399360047\", \"0.003090345825024939\", \"0.003079599249109892\", \"0.003078366316849506\", \"0.003073802102092097\", \"0.0030645309503254258\", \"0.0030636525348784987\", \"0.0030584067989095644\", \"0.003047224507280277\", \"0.0030472199467189653\", \"0.0030367207684537153\", \"0.0030234670100968567\", \"0.0030229093052349457\", \"0.003013515976413961\", \"0.0030002108131763896\", \"0.002998229018277603\", \"0.0029702520354917684\", \"0.0029689652009303505\", \"0.002961456750711665\", \"0.002954072009562121\", \"0.0029529410622035944\", \"0.0029255026214637355\", \"0.002923359593473032\", \"0.0029103990287973227\", \"0.0029013038190245735\", \"0.0029007816083075305\", \"0.0028882565323170794\", \"0.0028781934291020866\", \"0.0028781906264523883\", \"0.0028676628705345433\", \"0.0028627523957268685\", \"0.0028619528919329408\", \"0.0028533294164377943\", \"0.002849042457402791\", \"0.0028479089149724174\", \"0.002838077311139022\", \"0.002836425225930979\", \"0.002832474147298873\", \"0.002816164944162579\", \"0.0028000843212846907\", \"0.0027961116744968277\", \"0.002794563873058276\", \"0.002784843996309926\", \"0.002783703455274732\", \"0.0027795234761289304\", \"0.0027712025105567847\", \"0.0027704049953535133\", \"0.0027657225981108802\", \"0.002755530001868762\", \"0.002755526750182751\", \"0.0027459429866489846\", \"0.00273410475437308\", \"0.0027335920797705382\", \"0.002725038176088799\", \"0.0027129509067371793\", \"0.002710999220546852\", \"0.0026858974857543357\", \"0.002684784870328962\", \"0.0026780308786318236\", \"0.0026713430431408738\", \"0.0026703049177795\", \"0.0026456405293285427\", \"0.0026436363445533156\", \"0.0026318950978048744\", \"0.00262363039664769\", \"0.0026231457506891895\", \"0.002611898868228235\", \"0.0026027670152532034\", \"0.002602764779161771\", \"0.002593184583567172\", \"0.0025887917204430295\", \"0.0025880604159388455\", \"0.0025803108804047215\", \"0.0025764046529312633\", \"0.00257535534546392\", \"0.0025664397972250267\", \"0.0025649877197996326\", \"0.0025614299932263784\", \"0.002546738547087519\", \"0.0025321980105612076\", \"0.002528653841692888\", \"0.0025272646704824616\", \"0.002518493547856521\", \"0.0025174444112808212\", \"0.002513644293679758\", \"0.0025061230382113224\", \"0.0025054060113570927\", \"0.002501211464903283\", \"0.0024920007772917755\", \"0.0024919965389541858\", \"0.002483376718366827\", \"0.0024726248767538224\", \"0.002472148506661073\", \"0.0024643899064222537\", \"0.0024535322198428436\", \"0.0024518372347501183\", \"0.0024295861886578923\", \"0.0024283200372598466\", \"0.0024220967254537963\", \"0.002416023534151313\", \"0.0024149431205588473\", \"0.002393823752805697\", \"0.0023916549035915583\", \"0.0023817357691320396\", \"0.002373360731099477\", \"0.0023730151031789632\", \"0.0023623983893907544\", \"0.002354588415238666\", \"0.0023545833845210885\", \"0.002347268958895825\", \"0.002342399467430408\", \"0.002342092531225964\", \"0.002334125094827175\", \"0.0023304253278095114\", \"0.0023296269067498124\", \"0.002323369702494253\", \"0.00232123897350696\", \"0.002319943695707392\", \"0.0023065237619871283\", \"0.002293903038785604\", \"0.0022923718563769794\", \"0.0022909199620647323\", \"0.002284450802755832\", \"0.0022832531370626237\", \"0.0022796100736325537\", \"0.0022716099550320326\", \"0.002271302837683477\", \"0.0022672935417805107\", \"0.0022604607258178986\", \"0.002260407915533672\", \"0.002254003757356906\", \"0.002242314407425399\", \"0.002241831137733161\", \"0.0022337789353929815\", \"0.0022252436330987466\", \"0.002224211893132353\", \"0.0022080239192479745\", \"0.002204355167050435\", \"0.002198408914144885\", \"0.002192865764544314\", \"0.002190367085772912\", \"0.002176270335487911\", \"0.0021739144862098843\", \"0.002167022545474592\", \"0.0021569944482189387\", \"0.0021568199168356373\", \"0.0021443677427844645\", \"0.0021381753274065988\", \"0.002138134507097887\", \"0.002132432594541301\", \"0.0021285655202613507\", \"0.0021284533342142797\", \"0.00212104612952387\", \"0.0021169322500112016\", \"0.002115856448822652\", \"0.002109661546053328\", \"0.002108328318202735\", \"0.0021070085457050927\", \"0.0020966478247790065\", \"0.0020865108792757344\", \"0.002085149707484759\", \"0.0020839627621400403\", \"0.002077844973554679\", \"0.002076685959277806\", \"0.002072740668032036\", \"0.002065351360029613\", \"0.002065235693217825\", \"0.0020614857024687113\", \"0.002056052828574992\", \"0.002056004806038957\", \"0.002050345174539298\", \"0.002038508117925162\", \"0.002038273810888119\", \"0.0020289199532716696\", \"0.0020222505953345414\", \"0.0020201397836928296\", \"0.002006972557652173\", \"0.002004667025371651\", \"0.001999702011672806\"], \"yaxis\": \"y\"}],\n",
       "                        {\"height\": 600, \"legend\": {\"tracegroupgap\": 0}, \"margin\": {\"t\": 60}, \"template\": {\"data\": {\"bar\": [{\"error_x\": {\"color\": \"#2a3f5f\"}, \"error_y\": {\"color\": \"#2a3f5f\"}, \"marker\": {\"line\": {\"color\": \"#E5ECF6\", \"width\": 0.5}}, \"type\": \"bar\"}], \"barpolar\": [{\"marker\": {\"line\": {\"color\": \"#E5ECF6\", \"width\": 0.5}}, \"type\": \"barpolar\"}], \"carpet\": [{\"aaxis\": {\"endlinecolor\": \"#2a3f5f\", \"gridcolor\": \"white\", \"linecolor\": \"white\", \"minorgridcolor\": \"white\", \"startlinecolor\": \"#2a3f5f\"}, \"baxis\": {\"endlinecolor\": \"#2a3f5f\", \"gridcolor\": \"white\", \"linecolor\": \"white\", \"minorgridcolor\": \"white\", \"startlinecolor\": \"#2a3f5f\"}, \"type\": \"carpet\"}], \"choropleth\": [{\"colorbar\": {\"outlinewidth\": 0, \"ticks\": \"\"}, \"type\": \"choropleth\"}], \"contour\": [{\"colorbar\": {\"outlinewidth\": 0, \"ticks\": \"\"}, \"colorscale\": [[0.0, \"#0d0887\"], [0.1111111111111111, \"#46039f\"], [0.2222222222222222, \"#7201a8\"], [0.3333333333333333, \"#9c179e\"], [0.4444444444444444, \"#bd3786\"], [0.5555555555555556, \"#d8576b\"], [0.6666666666666666, \"#ed7953\"], [0.7777777777777778, \"#fb9f3a\"], [0.8888888888888888, \"#fdca26\"], [1.0, \"#f0f921\"]], \"type\": \"contour\"}], \"contourcarpet\": [{\"colorbar\": {\"outlinewidth\": 0, \"ticks\": \"\"}, \"type\": \"contourcarpet\"}], \"heatmap\": [{\"colorbar\": {\"outlinewidth\": 0, \"ticks\": \"\"}, \"colorscale\": [[0.0, \"#0d0887\"], [0.1111111111111111, \"#46039f\"], [0.2222222222222222, \"#7201a8\"], [0.3333333333333333, \"#9c179e\"], [0.4444444444444444, \"#bd3786\"], [0.5555555555555556, \"#d8576b\"], [0.6666666666666666, \"#ed7953\"], [0.7777777777777778, \"#fb9f3a\"], [0.8888888888888888, \"#fdca26\"], [1.0, \"#f0f921\"]], \"type\": \"heatmap\"}], \"heatmapgl\": [{\"colorbar\": {\"outlinewidth\": 0, \"ticks\": \"\"}, \"colorscale\": [[0.0, \"#0d0887\"], [0.1111111111111111, \"#46039f\"], [0.2222222222222222, \"#7201a8\"], [0.3333333333333333, \"#9c179e\"], [0.4444444444444444, \"#bd3786\"], [0.5555555555555556, \"#d8576b\"], [0.6666666666666666, \"#ed7953\"], [0.7777777777777778, \"#fb9f3a\"], [0.8888888888888888, \"#fdca26\"], [1.0, \"#f0f921\"]], \"type\": \"heatmapgl\"}], \"histogram\": [{\"marker\": {\"colorbar\": {\"outlinewidth\": 0, \"ticks\": \"\"}}, \"type\": \"histogram\"}], \"histogram2d\": [{\"colorbar\": {\"outlinewidth\": 0, \"ticks\": \"\"}, \"colorscale\": [[0.0, \"#0d0887\"], [0.1111111111111111, \"#46039f\"], [0.2222222222222222, \"#7201a8\"], [0.3333333333333333, \"#9c179e\"], [0.4444444444444444, \"#bd3786\"], [0.5555555555555556, \"#d8576b\"], [0.6666666666666666, \"#ed7953\"], [0.7777777777777778, \"#fb9f3a\"], [0.8888888888888888, \"#fdca26\"], [1.0, \"#f0f921\"]], \"type\": \"histogram2d\"}], \"histogram2dcontour\": [{\"colorbar\": {\"outlinewidth\": 0, \"ticks\": \"\"}, \"colorscale\": [[0.0, \"#0d0887\"], [0.1111111111111111, \"#46039f\"], [0.2222222222222222, \"#7201a8\"], [0.3333333333333333, \"#9c179e\"], [0.4444444444444444, \"#bd3786\"], [0.5555555555555556, \"#d8576b\"], [0.6666666666666666, \"#ed7953\"], [0.7777777777777778, \"#fb9f3a\"], [0.8888888888888888, \"#fdca26\"], [1.0, \"#f0f921\"]], \"type\": \"histogram2dcontour\"}], \"mesh3d\": [{\"colorbar\": {\"outlinewidth\": 0, \"ticks\": \"\"}, \"type\": \"mesh3d\"}], \"parcoords\": [{\"line\": {\"colorbar\": {\"outlinewidth\": 0, \"ticks\": \"\"}}, \"type\": \"parcoords\"}], \"scatter\": [{\"marker\": {\"colorbar\": {\"outlinewidth\": 0, \"ticks\": \"\"}}, \"type\": \"scatter\"}], \"scatter3d\": [{\"line\": {\"colorbar\": {\"outlinewidth\": 0, \"ticks\": \"\"}}, \"marker\": {\"colorbar\": {\"outlinewidth\": 0, \"ticks\": \"\"}}, \"type\": \"scatter3d\"}], \"scattercarpet\": [{\"marker\": {\"colorbar\": {\"outlinewidth\": 0, \"ticks\": \"\"}}, \"type\": \"scattercarpet\"}], \"scattergeo\": [{\"marker\": {\"colorbar\": {\"outlinewidth\": 0, \"ticks\": \"\"}}, \"type\": \"scattergeo\"}], \"scattergl\": [{\"marker\": {\"colorbar\": {\"outlinewidth\": 0, \"ticks\": \"\"}}, \"type\": \"scattergl\"}], \"scattermapbox\": [{\"marker\": {\"colorbar\": {\"outlinewidth\": 0, \"ticks\": \"\"}}, \"type\": \"scattermapbox\"}], \"scatterpolar\": [{\"marker\": {\"colorbar\": {\"outlinewidth\": 0, \"ticks\": \"\"}}, \"type\": \"scatterpolar\"}], \"scatterpolargl\": [{\"marker\": {\"colorbar\": {\"outlinewidth\": 0, \"ticks\": \"\"}}, \"type\": \"scatterpolargl\"}], \"scatterternary\": [{\"marker\": {\"colorbar\": {\"outlinewidth\": 0, \"ticks\": \"\"}}, \"type\": \"scatterternary\"}], \"surface\": [{\"colorbar\": {\"outlinewidth\": 0, \"ticks\": \"\"}, \"colorscale\": [[0.0, \"#0d0887\"], [0.1111111111111111, \"#46039f\"], [0.2222222222222222, \"#7201a8\"], [0.3333333333333333, \"#9c179e\"], [0.4444444444444444, \"#bd3786\"], [0.5555555555555556, \"#d8576b\"], [0.6666666666666666, \"#ed7953\"], [0.7777777777777778, \"#fb9f3a\"], [0.8888888888888888, \"#fdca26\"], [1.0, \"#f0f921\"]], \"type\": \"surface\"}], \"table\": [{\"cells\": {\"fill\": {\"color\": \"#EBF0F8\"}, \"line\": {\"color\": \"white\"}}, \"header\": {\"fill\": {\"color\": \"#C8D4E3\"}, \"line\": {\"color\": \"white\"}}, \"type\": \"table\"}]}, \"layout\": {\"annotationdefaults\": {\"arrowcolor\": \"#2a3f5f\", \"arrowhead\": 0, \"arrowwidth\": 1}, \"colorscale\": {\"diverging\": [[0, \"#8e0152\"], [0.1, \"#c51b7d\"], [0.2, \"#de77ae\"], [0.3, \"#f1b6da\"], [0.4, \"#fde0ef\"], [0.5, \"#f7f7f7\"], [0.6, \"#e6f5d0\"], [0.7, \"#b8e186\"], [0.8, \"#7fbc41\"], [0.9, \"#4d9221\"], [1, \"#276419\"]], \"sequential\": [[0.0, \"#0d0887\"], [0.1111111111111111, \"#46039f\"], [0.2222222222222222, \"#7201a8\"], [0.3333333333333333, \"#9c179e\"], [0.4444444444444444, \"#bd3786\"], [0.5555555555555556, \"#d8576b\"], [0.6666666666666666, \"#ed7953\"], [0.7777777777777778, \"#fb9f3a\"], [0.8888888888888888, \"#fdca26\"], [1.0, \"#f0f921\"]], \"sequentialminus\": [[0.0, \"#0d0887\"], [0.1111111111111111, \"#46039f\"], [0.2222222222222222, \"#7201a8\"], [0.3333333333333333, \"#9c179e\"], [0.4444444444444444, \"#bd3786\"], [0.5555555555555556, \"#d8576b\"], [0.6666666666666666, \"#ed7953\"], [0.7777777777777778, \"#fb9f3a\"], [0.8888888888888888, \"#fdca26\"], [1.0, \"#f0f921\"]]}, \"colorway\": [\"#636efa\", \"#EF553B\", \"#00cc96\", \"#ab63fa\", \"#FFA15A\", \"#19d3f3\", \"#FF6692\", \"#B6E880\", \"#FF97FF\", \"#FECB52\"], \"font\": {\"color\": \"#2a3f5f\"}, \"geo\": {\"bgcolor\": \"white\", \"lakecolor\": \"white\", \"landcolor\": \"#E5ECF6\", \"showlakes\": true, \"showland\": true, \"subunitcolor\": \"white\"}, \"hoverlabel\": {\"align\": \"left\"}, \"hovermode\": \"closest\", \"mapbox\": {\"style\": \"light\"}, \"paper_bgcolor\": \"white\", \"plot_bgcolor\": \"#E5ECF6\", \"polar\": {\"angularaxis\": {\"gridcolor\": \"white\", \"linecolor\": \"white\", \"ticks\": \"\"}, \"bgcolor\": \"#E5ECF6\", \"radialaxis\": {\"gridcolor\": \"white\", \"linecolor\": \"white\", \"ticks\": \"\"}}, \"scene\": {\"xaxis\": {\"backgroundcolor\": \"#E5ECF6\", \"gridcolor\": \"white\", \"gridwidth\": 2, \"linecolor\": \"white\", \"showbackground\": true, \"ticks\": \"\", \"zerolinecolor\": \"white\"}, \"yaxis\": {\"backgroundcolor\": \"#E5ECF6\", \"gridcolor\": \"white\", \"gridwidth\": 2, \"linecolor\": \"white\", \"showbackground\": true, \"ticks\": \"\", \"zerolinecolor\": \"white\"}, \"zaxis\": {\"backgroundcolor\": \"#E5ECF6\", \"gridcolor\": \"white\", \"gridwidth\": 2, \"linecolor\": \"white\", \"showbackground\": true, \"ticks\": \"\", \"zerolinecolor\": \"white\"}}, \"shapedefaults\": {\"line\": {\"color\": \"#2a3f5f\"}}, \"ternary\": {\"aaxis\": {\"gridcolor\": \"white\", \"linecolor\": \"white\", \"ticks\": \"\"}, \"baxis\": {\"gridcolor\": \"white\", \"linecolor\": \"white\", \"ticks\": \"\"}, \"bgcolor\": \"#E5ECF6\", \"caxis\": {\"gridcolor\": \"white\", \"linecolor\": \"white\", \"ticks\": \"\"}}, \"title\": {\"x\": 0.05}, \"xaxis\": {\"automargin\": true, \"gridcolor\": \"white\", \"linecolor\": \"white\", \"ticks\": \"\", \"zerolinecolor\": \"white\", \"zerolinewidth\": 2}, \"yaxis\": {\"automargin\": true, \"gridcolor\": \"white\", \"linecolor\": \"white\", \"ticks\": \"\", \"zerolinecolor\": \"white\", \"zerolinewidth\": 2}}}, \"xaxis\": {\"anchor\": \"y\", \"domain\": [0.0, 0.98], \"title\": {\"text\": \"x\"}}, \"yaxis\": {\"anchor\": \"x\", \"domain\": [0.0, 1.0], \"title\": {\"text\": \"y\"}, \"type\": \"log\"}},\n",
       "                        {\"responsive\": true}\n",
       "                    ).then(function(){\n",
       "                            \n",
       "var gd = document.getElementById('33cbedac-2ab0-437f-8133-c6255650930c');\n",
       "var x = new MutationObserver(function (mutations, observer) {{\n",
       "        var display = window.getComputedStyle(gd).display;\n",
       "        if (!display || display === 'none') {{\n",
       "            console.log([gd, 'removed!']);\n",
       "            Plotly.purge(gd);\n",
       "            observer.disconnect();\n",
       "        }}\n",
       "}});\n",
       "\n",
       "// Listen for the removal of the full notebook cells\n",
       "var notebookContainer = gd.closest('#notebook-container');\n",
       "if (notebookContainer) {{\n",
       "    x.observe(notebookContainer, {childList: true});\n",
       "}}\n",
       "\n",
       "// Listen for the clearing of the current output cell\n",
       "var outputEl = gd.closest('.output');\n",
       "if (outputEl) {{\n",
       "    x.observe(outputEl, {childList: true});\n",
       "}}\n",
       "\n",
       "                        })\n",
       "                };\n",
       "                });\n",
       "            </script>\n",
       "        </div>"
      ]
     },
     "metadata": {},
     "output_type": "display_data"
    }
   ],
   "source": [
    "        \n",
    "counter = gmres_counter()\n",
    "x, info = scipy.sparse.linalg.gmres(A, b, x0=x1, tol=tol, \n",
    "                                    callback=counter)\n",
    "print(str(counter.niter))\n",
    "px.scatter(x=[i for i in range(0,counter.niter)],y=counter.callbacks,log_y=True)"
   ]
  },
  {
   "cell_type": "code",
   "execution_count": 323,
   "metadata": {},
   "outputs": [
    {
     "data": {
      "text/plain": [
       "['0.3411881547291509',\n",
       " '0.32707537836400125',\n",
       " '0.1719564104583624',\n",
       " '0.12589654458982152',\n",
       " '0.12344777099149115',\n",
       " '0.10978340158687105',\n",
       " '0.10439023317978036',\n",
       " '0.1031849713310492',\n",
       " '0.09400295014218923',\n",
       " '0.09359527471126262',\n",
       " '0.08987146180229322',\n",
       " '0.07824149749930674',\n",
       " '0.07362248652702831',\n",
       " '0.0712761999787359',\n",
       " '0.06230380574272964',\n",
       " '0.06225035290944941',\n",
       " '0.058642798903563456',\n",
       " '0.055322067373714374',\n",
       " '0.05531841782789943',\n",
       " '0.05169249450004007',\n",
       " '0.04968232845550413',\n",
       " '0.04967304074539307',\n",
       " '0.047856455908964736',\n",
       " '0.047341678430287665',\n",
       " '0.047033950054828993',\n",
       " '0.04408005785833989',\n",
       " '0.04320919380647072',\n",
       " '0.04297216379367134',\n",
       " '0.04073446390166683',\n",
       " '0.03901476686685885',\n",
       " '0.038921013234780075',\n",
       " '0.03801666828723672',\n",
       " '0.036982139245398976',\n",
       " '0.03694029306650381',\n",
       " '0.035293172865466356',\n",
       " '0.03461221737406953',\n",
       " '0.03373076869325756',\n",
       " '0.03141650017137823',\n",
       " '0.03112236279703855',\n",
       " '0.03063048153559577',\n",
       " '0.03025157073646916',\n",
       " '0.03017544109384024',\n",
       " '0.029480300607353953',\n",
       " '0.028958660294055638',\n",
       " '0.02891508230586973',\n",
       " '0.0281913599611757',\n",
       " '0.028010204476594254',\n",
       " '0.027924180201002156',\n",
       " '0.027412133928505486',\n",
       " '0.027395215917319683',\n",
       " '0.026798836538347682',\n",
       " '0.02624633233090978',\n",
       " '0.02622562038663802',\n",
       " '0.025922296147631304',\n",
       " '0.02548575584405689',\n",
       " '0.02548466709889332',\n",
       " '0.02490718554711261',\n",
       " '0.024043461996633153',\n",
       " '0.024025667843447868',\n",
       " '0.023251846908218753',\n",
       " '0.022683746687790284',\n",
       " '0.02268368349607492',\n",
       " '0.02198937504809457',\n",
       " '0.021533552871921983',\n",
       " '0.021533539215083938',\n",
       " '0.021226837734306832',\n",
       " '0.02098391842119214',\n",
       " '0.020977609199230227',\n",
       " '0.020678869505894378',\n",
       " '0.020329259724639257',\n",
       " '0.0203224803664493',\n",
       " '0.01996648778488483',\n",
       " '0.01990483133708265',\n",
       " '0.019788271304622178',\n",
       " '0.01943554145660662',\n",
       " '0.019428295248911914',\n",
       " '0.019134096489238465',\n",
       " '0.018732747133719273',\n",
       " '0.01871966232782045',\n",
       " '0.0184814418618886',\n",
       " '0.01826060489552246',\n",
       " '0.01825217734209749',\n",
       " '0.01791540948053175',\n",
       " '0.01768777736913261',\n",
       " '0.017676020805084493',\n",
       " '0.017376148603536496',\n",
       " '0.017286633342777514',\n",
       " '0.017235049415530203',\n",
       " '0.016957596923073328',\n",
       " '0.016954715665099363',\n",
       " '0.016676598421077406',\n",
       " '0.016420499563846915',\n",
       " '0.016417115310663623',\n",
       " '0.016252692025038228',\n",
       " '0.01605094470295044',\n",
       " '0.016050523285034483',\n",
       " '0.015768868087620874',\n",
       " '0.015368503082017027',\n",
       " '0.015368502931409116',\n",
       " '0.014974485759311512',\n",
       " '0.01464498840867925',\n",
       " '0.01464496938377425',\n",
       " '0.014263213198155308',\n",
       " '0.014033486369343054',\n",
       " '0.014033003085891478',\n",
       " '0.013820860406568745',\n",
       " '0.013681964010974887',\n",
       " '0.013676675696735585',\n",
       " '0.013485163190986747',\n",
       " '0.013271376639924544',\n",
       " '0.01326525256178602',\n",
       " '0.01302573391570553',\n",
       " '0.01298072289687699',\n",
       " '0.01291601925992759',\n",
       " '0.01272776425277055',\n",
       " '0.012724528429817724',\n",
       " '0.012547939411432568',\n",
       " '0.01230978800351791',\n",
       " '0.012299874861566286',\n",
       " '0.012155420214591817',\n",
       " '0.012020366039151636',\n",
       " '0.012012580673754141',\n",
       " '0.011802584144649707',\n",
       " '0.01168343985240964',\n",
       " '0.011664802013501513',\n",
       " '0.011449574109365335',\n",
       " '0.011392291786600447',\n",
       " '0.011356248553529773',\n",
       " '0.011183422669900552',\n",
       " '0.01118246737520149',\n",
       " '0.011006813415194609',\n",
       " '0.010813312908768085',\n",
       " '0.010807711218011837',\n",
       " '0.010724879675456699',\n",
       " '0.010579813717536385',\n",
       " '0.01057617915048255',\n",
       " '0.010403216102644835',\n",
       " '0.01017651296655346',\n",
       " '0.010176415010130582',\n",
       " '0.009898167404841297',\n",
       " '0.009710388839328827',\n",
       " '0.009704515187163663',\n",
       " '0.009451333415170236',\n",
       " '0.009330358583232088',\n",
       " '0.009327319638556602',\n",
       " '0.009160923570214667',\n",
       " '0.009076277022499598',\n",
       " '0.009069178716720257',\n",
       " '0.008937372161271889',\n",
       " '0.00878717500181678',\n",
       " '0.008786694018643865',\n",
       " '0.008635137882252442',\n",
       " '0.0086007822381035',\n",
       " '0.008558581222352493',\n",
       " '0.008424451242834419',\n",
       " '0.008418416156810417',\n",
       " '0.00831573679059127',\n",
       " '0.008164293782039119',\n",
       " '0.008156048353422396',\n",
       " '0.008067670040092382',\n",
       " '0.007985042440746026',\n",
       " '0.00797816743632044',\n",
       " '0.007843688569258114',\n",
       " '0.0077790746459763015',\n",
       " '0.0077578594126569535',\n",
       " '0.007608603630788751',\n",
       " '0.007571697261067926',\n",
       " '0.007543272227005071',\n",
       " '0.007425459891138696',\n",
       " '0.007425037139144041',\n",
       " '0.007310945525206848',\n",
       " '0.007179446402428319',\n",
       " '0.007172975359842834',\n",
       " '0.00712773953997195',\n",
       " '0.007009624624009914',\n",
       " '0.006987926837712055',\n",
       " '0.006911529535989357',\n",
       " '0.006748322929138095',\n",
       " '0.006744407889272772',\n",
       " '0.006585145897580105',\n",
       " '0.006470212006114102',\n",
       " '0.006459689868321838',\n",
       " '0.0062916282366358095',\n",
       " '0.006222816359242157',\n",
       " '0.006219207628937339',\n",
       " '0.006102131488699325',\n",
       " '0.006047972931050514',\n",
       " '0.006041762391371379',\n",
       " '0.005950488256130169',\n",
       " '0.005845110006310801',\n",
       " '0.005844848151849513',\n",
       " '0.005753079367182006',\n",
       " '0.005728122048872718',\n",
       " '0.005700098750271379',\n",
       " '0.0055945383163835604',\n",
       " '0.00557960087861964',\n",
       " '0.005531835125373997',\n",
       " '0.00543782838723472',\n",
       " '0.005432330220637266',\n",
       " '0.005376293033646469',\n",
       " '0.0053216459497081574',\n",
       " '0.005316851505194019',\n",
       " '0.00522703428057886',\n",
       " '0.005184318336880604',\n",
       " '0.005169721546676748',\n",
       " '0.005072015790626328',\n",
       " '0.005046501922157731',\n",
       " '0.005025458561539294',\n",
       " '0.004947210018647788',\n",
       " '0.004947203040209607',\n",
       " '0.004867571443215725',\n",
       " '0.00478476062095762',\n",
       " '0.004779786852986424',\n",
       " '0.004746996772954384',\n",
       " '0.004666418505094128',\n",
       " '0.00464868364297167',\n",
       " '0.004607249959420552',\n",
       " '0.0044867071390127',\n",
       " '0.0044740838775754466',\n",
       " '0.004390368937458204',\n",
       " '0.004313918102717475',\n",
       " '0.004305625059261237',\n",
       " '0.004192416706153935',\n",
       " '0.004149263138406017',\n",
       " '0.004146501550884477',\n",
       " '0.004068981942996627',\n",
       " '0.004032782768131938',\n",
       " '0.004028684952187104',\n",
       " '0.0039672752582503934',\n",
       " '0.003897787028661808',\n",
       " '0.003897547621966123',\n",
       " '0.0038373605882697764',\n",
       " '0.0038195858463151715',\n",
       " '0.003800918620109674',\n",
       " '0.003729626574616915',\n",
       " '0.0037183549646410043',\n",
       " '0.003688190044394577',\n",
       " '0.0036261370026358123',\n",
       " '0.0036224626086037125',\n",
       " '0.0035857263390166702',\n",
       " '0.003549692340164495',\n",
       " '0.0035464497376252705',\n",
       " '0.003486729176733058',\n",
       " '0.003458160122808388',\n",
       " '0.0034479433697268452',\n",
       " '0.0033835927948258483',\n",
       " '0.0033662196280974236',\n",
       " '0.0033511571572181764',\n",
       " '0.003299090090082715',\n",
       " '0.0032989348975108815',\n",
       " '0.0032422819747726828',\n",
       " '0.0031917494388530475',\n",
       " '0.003188308842609168',\n",
       " '0.0031615216054781013',\n",
       " '0.003102770361706206',\n",
       " '0.0030993380474191763',\n",
       " '0.0030695135135265107',\n",
       " '0.0029900961640488203',\n",
       " '0.0029815964363534148',\n",
       " '0.0029287565444541253',\n",
       " '0.002878060157900754',\n",
       " '0.0028729579332156356',\n",
       " '0.00279639380976893',\n",
       " '0.002768181164098959',\n",
       " '0.0027664600798769433',\n",
       " '0.0027142266811874126',\n",
       " '0.0026903892691559766',\n",
       " '0.002687626791691646',\n",
       " '0.0026465004795487236',\n",
       " '0.0026003201849118824',\n",
       " '0.0026001573798962404',\n",
       " '0.00256042492161677',\n",
       " '0.002548161234052158',\n",
       " '0.002535525175510727',\n",
       " '0.0024883897585262233',\n",
       " '0.0024805022841017394',\n",
       " '0.0024602386776321895',\n",
       " '0.0024192428255621914',\n",
       " '0.002416742265802912',\n",
       " '0.002392371715705212',\n",
       " '0.0023684851725719784',\n",
       " '0.002366312320815564',\n",
       " '0.00232681061034091',\n",
       " '0.0023074116836400713',\n",
       " '0.002300349551602598',\n",
       " '0.0022579823116840488',\n",
       " '0.0022461203645090014',\n",
       " '0.002235692025305994',\n",
       " '0.0022014027088885705',\n",
       " '0.0022013146857335266',\n",
       " '0.0021635456150049456',\n",
       " '0.002129802223389262',\n",
       " '0.0021274266753668093',\n",
       " '0.002109656420885845',\n",
       " '0.002070436322543538',\n",
       " '0.002068019484330543',\n",
       " '0.002048593602395592',\n",
       " '0.0019945680439777064',\n",
       " '0.0019892772660409165',\n",
       " '0.0019543573566123376',\n",
       " '0.0019207425015843429',\n",
       " '0.0019176127794380486',\n",
       " '0.0018659168160281383',\n",
       " '0.0018473968721313399',\n",
       " '0.0018463402004124383',\n",
       " '0.0018111262469991127',\n",
       " '0.001795441454013096',\n",
       " '0.0017936314694329554',\n",
       " '0.0017660620647224007',\n",
       " '0.0017353388031638769',\n",
       " '0.0017352244208133252',\n",
       " '0.0017088533189238769',\n",
       " '0.0017005045106351622',\n",
       " '0.0016919629411372619',\n",
       " '0.0016608074333143502',\n",
       " '0.0016553751302805276',\n",
       " '0.0016416391583607532',\n",
       " '0.0016145467027983463',\n",
       " '0.0016128584620147437',\n",
       " '0.001596656961192726',\n",
       " '0.001580778725972034',\n",
       " '0.001579307623515108',\n",
       " '0.0015532422762053399',\n",
       " '0.0015400295632858698',\n",
       " '0.0015351128342608142',\n",
       " '0.0015072100474184849',\n",
       " '0.0014991662300566908',\n",
       " '0.001491949033153729',\n",
       " '0.0014693497004523047',\n",
       " '0.0014692960163094032',\n",
       " '0.001443780662159248',\n",
       " '0.00142155866635969',\n",
       " '0.0014199496915914334',\n",
       " '0.0014078254148245993',\n",
       " '0.0013812179084924654',\n",
       " '0.001380140412292185',\n",
       " '0.0013665886725106988',\n",
       " '0.0013308225352363316',\n",
       " '0.0013276709843930436',\n",
       " '0.001304517387241066',\n",
       " '0.0012822085135583408',\n",
       " '0.0012802572445910325',\n",
       " '0.0012454855068975692',\n",
       " '0.001233243163386284',\n",
       " '0.0012325918992316396',\n",
       " '0.0012089831852580399',\n",
       " '0.001198563393087407',\n",
       " '0.0011974531387282626',\n",
       " '0.0011790788783122073',\n",
       " '0.0011584486069180242',\n",
       " '0.0011583642419632902',\n",
       " '0.001140860701179408',\n",
       " '0.001135146871475451',\n",
       " '0.0011294912391283602',\n",
       " '0.0011088480100959323',\n",
       " '0.001105052260551293',\n",
       " '0.0010957275671725694',\n",
       " '0.0010778923514155497',\n",
       " '0.001076718270159894',\n",
       " '0.001065913063717122',\n",
       " '0.0010553429975868021',\n",
       " '0.0010543365023929503',\n",
       " '0.0010371989682619966',\n",
       " '0.001028161886084221',\n",
       " '0.0010247099128984282',\n",
       " '0.0010063128003958619',\n",
       " '0.0010009176434458476',\n",
       " '0.0009959252983643661',\n",
       " '0.0009810292792107487',\n",
       " '0.00098099881188292',\n",
       " '0.0009637132714386484',\n",
       " '0.0009490581241721557',\n",
       " '0.0009480162928077563',\n",
       " '0.0009398265862405633',\n",
       " '0.000922125204494967',\n",
       " '0.0009214445504069491',\n",
       " '0.0009122894105146104',\n",
       " '0.0008886203518205953',\n",
       " '0.0008864639969098746',\n",
       " '0.0008710211591278114',\n",
       " '0.0008562089213738288',\n",
       " '0.0008549779530452491',\n",
       " '0.0008316373995814227',\n",
       " '0.000823511192294185',\n",
       " '0.0008231033187811764',\n",
       " '0.0008073563451402988',\n",
       " '0.0008003665967843',\n",
       " '0.0007997019791586732',\n",
       " '0.0007875495808260007',\n",
       " '0.0007735494066457389',\n",
       " '0.0007734949630485416',\n",
       " '0.0007619396309242364',\n",
       " '0.0007579842990445174',\n",
       " '0.000754200533125719',\n",
       " '0.0007405922949657394',\n",
       " '0.0007379200087377118',\n",
       " '0.0007315223639301094',\n",
       " '0.0007198089426479989',\n",
       " '0.0007190125689856648',\n",
       " '0.0007118276430800362',\n",
       " '0.0007047902397942247',\n",
       " '0.0007040961293564014',\n",
       " '0.0006928405669823103',\n",
       " '0.0006866583196529686',\n",
       " '0.0006842157270808365',\n",
       " '0.0006720664637210164',\n",
       " '0.0006684915651179678',\n",
       " '0.000665023935633622',\n",
       " '0.0006551899295707799',\n",
       " '0.0006551681931395964',\n",
       " '0.0006434349256218882',\n",
       " '0.0006337531207581055',\n",
       " '0.0006331309184507663',\n",
       " '0.000627616397225352',\n",
       " '0.0006158170852753771',\n",
       " '0.0006153929764734926',\n",
       " '0.0006093007762524694',\n",
       " '0.000593375563077997',\n",
       " '0.000592028577357632',\n",
       " '0.0005817677534319897',\n",
       " '0.0005719124810832299',\n",
       " '0.0005711160281337911',\n",
       " '0.0005554844105898179',\n",
       " '0.0005500709673388099',\n",
       " '0.0005498051494410358',\n",
       " '0.0005393279542651695',\n",
       " '0.0005346189043304725',\n",
       " '0.0005342018235644116',\n",
       " '0.0005261815494985627',\n",
       " '0.0005166671950212009',\n",
       " '0.0005166375651151833',\n",
       " '0.0005090213707759363',\n",
       " '0.0005062949493002795',\n",
       " '0.0005037066694395062',\n",
       " '0.0004947614506918757',\n",
       " '0.000492912770981358',\n",
       " '0.0004885115005760702',\n",
       " '0.0004807764596997474',\n",
       " '0.0004802644510538386',\n",
       " '0.00047550817327880843',\n",
       " '0.00047082287670484205',\n",
       " '0.00047034809387036275',\n",
       " '0.00046290737927472846',\n",
       " '0.000458718244225973',\n",
       " '0.0004570141424550671',\n",
       " '0.0004489567171246468',\n",
       " '0.00044659658931268817',\n",
       " '0.00044420482996617854',\n",
       " '0.00043768602119868187',\n",
       " '0.0004376678836802472']"
      ]
     },
     "execution_count": 323,
     "metadata": {},
     "output_type": "execute_result"
    }
   ],
   "source": [
    "counter.callbacks"
   ]
  },
  {
   "cell_type": "code",
   "execution_count": 330,
   "metadata": {},
   "outputs": [
    {
     "name": "stdout",
     "output_type": "stream",
     "text": [
      "49\n"
     ]
    },
    {
     "data": {
      "application/vnd.plotly.v1+json": {
       "config": {
        "plotlyServerURL": "https://plot.ly"
       },
       "data": [
        {
         "hoverlabel": {
          "namelength": 0
         },
         "hovertemplate": "x=%{x}<br>y=%{y}",
         "legendgroup": "",
         "marker": {
          "color": "#636efa",
          "symbol": "circle"
         },
         "mode": "markers",
         "name": "",
         "showlegend": false,
         "type": "scatter",
         "x": [
          0,
          1,
          2,
          3,
          4,
          5,
          6,
          7,
          8,
          9,
          10,
          11,
          12,
          13,
          14,
          15,
          16,
          17,
          18,
          19,
          20,
          21,
          22,
          23,
          24,
          25,
          26,
          27,
          28,
          29,
          30,
          31,
          32,
          33,
          34,
          35,
          36,
          37,
          38,
          39,
          40,
          41,
          42,
          43,
          44,
          45,
          46,
          47,
          48
         ],
         "xaxis": "x",
         "y": [
          2.3146903147628772,
          7.7084656832344205,
          1.3560506809536992,
          1.2398699861549294,
          4.219191785231427,
          1.610416077071202,
          2.262027149471702,
          4.568294888639785,
          1.5291668982566307,
          6.748853983612393,
          2.1587849985618965,
          1.0667813861280178,
          1.458988943232381,
          1.9091432929451324,
          0.860479379928501,
          10.08319507252607,
          1.172615131705098,
          1.1187085898268065,
          32.30709900525414,
          0.9738232874735034,
          0.7927228191076652,
          7.298328089687319,
          0.6382024557534649,
          0.6812171299887696,
          1.3141838825316667,
          1.1399834283353634,
          0.5479929627881958,
          0.6001757448204829,
          0.7818444418520135,
          4.684470440746377,
          0.8633703630829137,
          0.41563678877213595,
          0.4282608200440373,
          0.18429525827250584,
          0.15032502470547407,
          0.11935508671654783,
          0.05242281690069686,
          0.0025858541698741593,
          0.0060295850483465694,
          0.0001442432620620791,
          3.287303329665145e-06,
          1.0414170720762137e-06,
          4.278028176207535e-08,
          2.7272004678859452e-09,
          2.666996803263545e-09,
          1.886580346032585e-10,
          3.0311382964418794e-11,
          7.1235417988447805e-12,
          3.482114326206983e-12
         ],
         "yaxis": "y"
        }
       ],
       "layout": {
        "height": 600,
        "legend": {
         "tracegroupgap": 0
        },
        "margin": {
         "t": 60
        },
        "template": {
         "data": {
          "bar": [
           {
            "error_x": {
             "color": "#2a3f5f"
            },
            "error_y": {
             "color": "#2a3f5f"
            },
            "marker": {
             "line": {
              "color": "#E5ECF6",
              "width": 0.5
             }
            },
            "type": "bar"
           }
          ],
          "barpolar": [
           {
            "marker": {
             "line": {
              "color": "#E5ECF6",
              "width": 0.5
             }
            },
            "type": "barpolar"
           }
          ],
          "carpet": [
           {
            "aaxis": {
             "endlinecolor": "#2a3f5f",
             "gridcolor": "white",
             "linecolor": "white",
             "minorgridcolor": "white",
             "startlinecolor": "#2a3f5f"
            },
            "baxis": {
             "endlinecolor": "#2a3f5f",
             "gridcolor": "white",
             "linecolor": "white",
             "minorgridcolor": "white",
             "startlinecolor": "#2a3f5f"
            },
            "type": "carpet"
           }
          ],
          "choropleth": [
           {
            "colorbar": {
             "outlinewidth": 0,
             "ticks": ""
            },
            "type": "choropleth"
           }
          ],
          "contour": [
           {
            "colorbar": {
             "outlinewidth": 0,
             "ticks": ""
            },
            "colorscale": [
             [
              0,
              "#0d0887"
             ],
             [
              0.1111111111111111,
              "#46039f"
             ],
             [
              0.2222222222222222,
              "#7201a8"
             ],
             [
              0.3333333333333333,
              "#9c179e"
             ],
             [
              0.4444444444444444,
              "#bd3786"
             ],
             [
              0.5555555555555556,
              "#d8576b"
             ],
             [
              0.6666666666666666,
              "#ed7953"
             ],
             [
              0.7777777777777778,
              "#fb9f3a"
             ],
             [
              0.8888888888888888,
              "#fdca26"
             ],
             [
              1,
              "#f0f921"
             ]
            ],
            "type": "contour"
           }
          ],
          "contourcarpet": [
           {
            "colorbar": {
             "outlinewidth": 0,
             "ticks": ""
            },
            "type": "contourcarpet"
           }
          ],
          "heatmap": [
           {
            "colorbar": {
             "outlinewidth": 0,
             "ticks": ""
            },
            "colorscale": [
             [
              0,
              "#0d0887"
             ],
             [
              0.1111111111111111,
              "#46039f"
             ],
             [
              0.2222222222222222,
              "#7201a8"
             ],
             [
              0.3333333333333333,
              "#9c179e"
             ],
             [
              0.4444444444444444,
              "#bd3786"
             ],
             [
              0.5555555555555556,
              "#d8576b"
             ],
             [
              0.6666666666666666,
              "#ed7953"
             ],
             [
              0.7777777777777778,
              "#fb9f3a"
             ],
             [
              0.8888888888888888,
              "#fdca26"
             ],
             [
              1,
              "#f0f921"
             ]
            ],
            "type": "heatmap"
           }
          ],
          "heatmapgl": [
           {
            "colorbar": {
             "outlinewidth": 0,
             "ticks": ""
            },
            "colorscale": [
             [
              0,
              "#0d0887"
             ],
             [
              0.1111111111111111,
              "#46039f"
             ],
             [
              0.2222222222222222,
              "#7201a8"
             ],
             [
              0.3333333333333333,
              "#9c179e"
             ],
             [
              0.4444444444444444,
              "#bd3786"
             ],
             [
              0.5555555555555556,
              "#d8576b"
             ],
             [
              0.6666666666666666,
              "#ed7953"
             ],
             [
              0.7777777777777778,
              "#fb9f3a"
             ],
             [
              0.8888888888888888,
              "#fdca26"
             ],
             [
              1,
              "#f0f921"
             ]
            ],
            "type": "heatmapgl"
           }
          ],
          "histogram": [
           {
            "marker": {
             "colorbar": {
              "outlinewidth": 0,
              "ticks": ""
             }
            },
            "type": "histogram"
           }
          ],
          "histogram2d": [
           {
            "colorbar": {
             "outlinewidth": 0,
             "ticks": ""
            },
            "colorscale": [
             [
              0,
              "#0d0887"
             ],
             [
              0.1111111111111111,
              "#46039f"
             ],
             [
              0.2222222222222222,
              "#7201a8"
             ],
             [
              0.3333333333333333,
              "#9c179e"
             ],
             [
              0.4444444444444444,
              "#bd3786"
             ],
             [
              0.5555555555555556,
              "#d8576b"
             ],
             [
              0.6666666666666666,
              "#ed7953"
             ],
             [
              0.7777777777777778,
              "#fb9f3a"
             ],
             [
              0.8888888888888888,
              "#fdca26"
             ],
             [
              1,
              "#f0f921"
             ]
            ],
            "type": "histogram2d"
           }
          ],
          "histogram2dcontour": [
           {
            "colorbar": {
             "outlinewidth": 0,
             "ticks": ""
            },
            "colorscale": [
             [
              0,
              "#0d0887"
             ],
             [
              0.1111111111111111,
              "#46039f"
             ],
             [
              0.2222222222222222,
              "#7201a8"
             ],
             [
              0.3333333333333333,
              "#9c179e"
             ],
             [
              0.4444444444444444,
              "#bd3786"
             ],
             [
              0.5555555555555556,
              "#d8576b"
             ],
             [
              0.6666666666666666,
              "#ed7953"
             ],
             [
              0.7777777777777778,
              "#fb9f3a"
             ],
             [
              0.8888888888888888,
              "#fdca26"
             ],
             [
              1,
              "#f0f921"
             ]
            ],
            "type": "histogram2dcontour"
           }
          ],
          "mesh3d": [
           {
            "colorbar": {
             "outlinewidth": 0,
             "ticks": ""
            },
            "type": "mesh3d"
           }
          ],
          "parcoords": [
           {
            "line": {
             "colorbar": {
              "outlinewidth": 0,
              "ticks": ""
             }
            },
            "type": "parcoords"
           }
          ],
          "scatter": [
           {
            "marker": {
             "colorbar": {
              "outlinewidth": 0,
              "ticks": ""
             }
            },
            "type": "scatter"
           }
          ],
          "scatter3d": [
           {
            "line": {
             "colorbar": {
              "outlinewidth": 0,
              "ticks": ""
             }
            },
            "marker": {
             "colorbar": {
              "outlinewidth": 0,
              "ticks": ""
             }
            },
            "type": "scatter3d"
           }
          ],
          "scattercarpet": [
           {
            "marker": {
             "colorbar": {
              "outlinewidth": 0,
              "ticks": ""
             }
            },
            "type": "scattercarpet"
           }
          ],
          "scattergeo": [
           {
            "marker": {
             "colorbar": {
              "outlinewidth": 0,
              "ticks": ""
             }
            },
            "type": "scattergeo"
           }
          ],
          "scattergl": [
           {
            "marker": {
             "colorbar": {
              "outlinewidth": 0,
              "ticks": ""
             }
            },
            "type": "scattergl"
           }
          ],
          "scattermapbox": [
           {
            "marker": {
             "colorbar": {
              "outlinewidth": 0,
              "ticks": ""
             }
            },
            "type": "scattermapbox"
           }
          ],
          "scatterpolar": [
           {
            "marker": {
             "colorbar": {
              "outlinewidth": 0,
              "ticks": ""
             }
            },
            "type": "scatterpolar"
           }
          ],
          "scatterpolargl": [
           {
            "marker": {
             "colorbar": {
              "outlinewidth": 0,
              "ticks": ""
             }
            },
            "type": "scatterpolargl"
           }
          ],
          "scatterternary": [
           {
            "marker": {
             "colorbar": {
              "outlinewidth": 0,
              "ticks": ""
             }
            },
            "type": "scatterternary"
           }
          ],
          "surface": [
           {
            "colorbar": {
             "outlinewidth": 0,
             "ticks": ""
            },
            "colorscale": [
             [
              0,
              "#0d0887"
             ],
             [
              0.1111111111111111,
              "#46039f"
             ],
             [
              0.2222222222222222,
              "#7201a8"
             ],
             [
              0.3333333333333333,
              "#9c179e"
             ],
             [
              0.4444444444444444,
              "#bd3786"
             ],
             [
              0.5555555555555556,
              "#d8576b"
             ],
             [
              0.6666666666666666,
              "#ed7953"
             ],
             [
              0.7777777777777778,
              "#fb9f3a"
             ],
             [
              0.8888888888888888,
              "#fdca26"
             ],
             [
              1,
              "#f0f921"
             ]
            ],
            "type": "surface"
           }
          ],
          "table": [
           {
            "cells": {
             "fill": {
              "color": "#EBF0F8"
             },
             "line": {
              "color": "white"
             }
            },
            "header": {
             "fill": {
              "color": "#C8D4E3"
             },
             "line": {
              "color": "white"
             }
            },
            "type": "table"
           }
          ]
         },
         "layout": {
          "annotationdefaults": {
           "arrowcolor": "#2a3f5f",
           "arrowhead": 0,
           "arrowwidth": 1
          },
          "colorscale": {
           "diverging": [
            [
             0,
             "#8e0152"
            ],
            [
             0.1,
             "#c51b7d"
            ],
            [
             0.2,
             "#de77ae"
            ],
            [
             0.3,
             "#f1b6da"
            ],
            [
             0.4,
             "#fde0ef"
            ],
            [
             0.5,
             "#f7f7f7"
            ],
            [
             0.6,
             "#e6f5d0"
            ],
            [
             0.7,
             "#b8e186"
            ],
            [
             0.8,
             "#7fbc41"
            ],
            [
             0.9,
             "#4d9221"
            ],
            [
             1,
             "#276419"
            ]
           ],
           "sequential": [
            [
             0,
             "#0d0887"
            ],
            [
             0.1111111111111111,
             "#46039f"
            ],
            [
             0.2222222222222222,
             "#7201a8"
            ],
            [
             0.3333333333333333,
             "#9c179e"
            ],
            [
             0.4444444444444444,
             "#bd3786"
            ],
            [
             0.5555555555555556,
             "#d8576b"
            ],
            [
             0.6666666666666666,
             "#ed7953"
            ],
            [
             0.7777777777777778,
             "#fb9f3a"
            ],
            [
             0.8888888888888888,
             "#fdca26"
            ],
            [
             1,
             "#f0f921"
            ]
           ],
           "sequentialminus": [
            [
             0,
             "#0d0887"
            ],
            [
             0.1111111111111111,
             "#46039f"
            ],
            [
             0.2222222222222222,
             "#7201a8"
            ],
            [
             0.3333333333333333,
             "#9c179e"
            ],
            [
             0.4444444444444444,
             "#bd3786"
            ],
            [
             0.5555555555555556,
             "#d8576b"
            ],
            [
             0.6666666666666666,
             "#ed7953"
            ],
            [
             0.7777777777777778,
             "#fb9f3a"
            ],
            [
             0.8888888888888888,
             "#fdca26"
            ],
            [
             1,
             "#f0f921"
            ]
           ]
          },
          "colorway": [
           "#636efa",
           "#EF553B",
           "#00cc96",
           "#ab63fa",
           "#FFA15A",
           "#19d3f3",
           "#FF6692",
           "#B6E880",
           "#FF97FF",
           "#FECB52"
          ],
          "font": {
           "color": "#2a3f5f"
          },
          "geo": {
           "bgcolor": "white",
           "lakecolor": "white",
           "landcolor": "#E5ECF6",
           "showlakes": true,
           "showland": true,
           "subunitcolor": "white"
          },
          "hoverlabel": {
           "align": "left"
          },
          "hovermode": "closest",
          "mapbox": {
           "style": "light"
          },
          "paper_bgcolor": "white",
          "plot_bgcolor": "#E5ECF6",
          "polar": {
           "angularaxis": {
            "gridcolor": "white",
            "linecolor": "white",
            "ticks": ""
           },
           "bgcolor": "#E5ECF6",
           "radialaxis": {
            "gridcolor": "white",
            "linecolor": "white",
            "ticks": ""
           }
          },
          "scene": {
           "xaxis": {
            "backgroundcolor": "#E5ECF6",
            "gridcolor": "white",
            "gridwidth": 2,
            "linecolor": "white",
            "showbackground": true,
            "ticks": "",
            "zerolinecolor": "white"
           },
           "yaxis": {
            "backgroundcolor": "#E5ECF6",
            "gridcolor": "white",
            "gridwidth": 2,
            "linecolor": "white",
            "showbackground": true,
            "ticks": "",
            "zerolinecolor": "white"
           },
           "zaxis": {
            "backgroundcolor": "#E5ECF6",
            "gridcolor": "white",
            "gridwidth": 2,
            "linecolor": "white",
            "showbackground": true,
            "ticks": "",
            "zerolinecolor": "white"
           }
          },
          "shapedefaults": {
           "line": {
            "color": "#2a3f5f"
           }
          },
          "ternary": {
           "aaxis": {
            "gridcolor": "white",
            "linecolor": "white",
            "ticks": ""
           },
           "baxis": {
            "gridcolor": "white",
            "linecolor": "white",
            "ticks": ""
           },
           "bgcolor": "#E5ECF6",
           "caxis": {
            "gridcolor": "white",
            "linecolor": "white",
            "ticks": ""
           }
          },
          "title": {
           "x": 0.05
          },
          "xaxis": {
           "automargin": true,
           "gridcolor": "white",
           "linecolor": "white",
           "ticks": "",
           "zerolinecolor": "white",
           "zerolinewidth": 2
          },
          "yaxis": {
           "automargin": true,
           "gridcolor": "white",
           "linecolor": "white",
           "ticks": "",
           "zerolinecolor": "white",
           "zerolinewidth": 2
          }
         }
        },
        "xaxis": {
         "anchor": "y",
         "domain": [
          0,
          0.98
         ],
         "title": {
          "text": "x"
         }
        },
        "yaxis": {
         "anchor": "x",
         "domain": [
          0,
          1
         ],
         "title": {
          "text": "y"
         },
         "type": "log"
        }
       }
      },
      "text/html": [
       "<div>\n",
       "        \n",
       "        \n",
       "            <div id=\"96f13860-06fa-4fe5-9786-8edcbe42abfc\" class=\"plotly-graph-div\" style=\"height:600px; width:100%;\"></div>\n",
       "            <script type=\"text/javascript\">\n",
       "                require([\"plotly\"], function(Plotly) {\n",
       "                    window.PLOTLYENV=window.PLOTLYENV || {};\n",
       "                    \n",
       "                if (document.getElementById(\"96f13860-06fa-4fe5-9786-8edcbe42abfc\")) {\n",
       "                    Plotly.newPlot(\n",
       "                        '96f13860-06fa-4fe5-9786-8edcbe42abfc',\n",
       "                        [{\"hoverlabel\": {\"namelength\": 0}, \"hovertemplate\": \"x=%{x}<br>y=%{y}\", \"legendgroup\": \"\", \"marker\": {\"color\": \"#636efa\", \"symbol\": \"circle\"}, \"mode\": \"markers\", \"name\": \"\", \"showlegend\": false, \"type\": \"scatter\", \"x\": [0, 1, 2, 3, 4, 5, 6, 7, 8, 9, 10, 11, 12, 13, 14, 15, 16, 17, 18, 19, 20, 21, 22, 23, 24, 25, 26, 27, 28, 29, 30, 31, 32, 33, 34, 35, 36, 37, 38, 39, 40, 41, 42, 43, 44, 45, 46, 47, 48], \"xaxis\": \"x\", \"y\": [2.3146903147628772, 7.7084656832344205, 1.3560506809536992, 1.2398699861549294, 4.219191785231427, 1.610416077071202, 2.262027149471702, 4.568294888639785, 1.5291668982566307, 6.748853983612393, 2.1587849985618965, 1.0667813861280178, 1.458988943232381, 1.9091432929451324, 0.860479379928501, 10.08319507252607, 1.172615131705098, 1.1187085898268065, 32.30709900525414, 0.9738232874735034, 0.7927228191076652, 7.298328089687319, 0.6382024557534649, 0.6812171299887696, 1.3141838825316667, 1.1399834283353634, 0.5479929627881958, 0.6001757448204829, 0.7818444418520135, 4.684470440746377, 0.8633703630829137, 0.41563678877213595, 0.4282608200440373, 0.18429525827250584, 0.15032502470547407, 0.11935508671654783, 0.05242281690069686, 0.0025858541698741593, 0.0060295850483465694, 0.0001442432620620791, 3.287303329665145e-06, 1.0414170720762137e-06, 4.278028176207535e-08, 2.7272004678859452e-09, 2.666996803263545e-09, 1.886580346032585e-10, 3.0311382964418794e-11, 7.1235417988447805e-12, 3.482114326206983e-12], \"yaxis\": \"y\"}],\n",
       "                        {\"height\": 600, \"legend\": {\"tracegroupgap\": 0}, \"margin\": {\"t\": 60}, \"template\": {\"data\": {\"bar\": [{\"error_x\": {\"color\": \"#2a3f5f\"}, \"error_y\": {\"color\": \"#2a3f5f\"}, \"marker\": {\"line\": {\"color\": \"#E5ECF6\", \"width\": 0.5}}, \"type\": \"bar\"}], \"barpolar\": [{\"marker\": {\"line\": {\"color\": \"#E5ECF6\", \"width\": 0.5}}, \"type\": \"barpolar\"}], \"carpet\": [{\"aaxis\": {\"endlinecolor\": \"#2a3f5f\", \"gridcolor\": \"white\", \"linecolor\": \"white\", \"minorgridcolor\": \"white\", \"startlinecolor\": \"#2a3f5f\"}, \"baxis\": {\"endlinecolor\": \"#2a3f5f\", \"gridcolor\": \"white\", \"linecolor\": \"white\", \"minorgridcolor\": \"white\", \"startlinecolor\": \"#2a3f5f\"}, \"type\": \"carpet\"}], \"choropleth\": [{\"colorbar\": {\"outlinewidth\": 0, \"ticks\": \"\"}, \"type\": \"choropleth\"}], \"contour\": [{\"colorbar\": {\"outlinewidth\": 0, \"ticks\": \"\"}, \"colorscale\": [[0.0, \"#0d0887\"], [0.1111111111111111, \"#46039f\"], [0.2222222222222222, \"#7201a8\"], [0.3333333333333333, \"#9c179e\"], [0.4444444444444444, \"#bd3786\"], [0.5555555555555556, \"#d8576b\"], [0.6666666666666666, \"#ed7953\"], [0.7777777777777778, \"#fb9f3a\"], [0.8888888888888888, \"#fdca26\"], [1.0, \"#f0f921\"]], \"type\": \"contour\"}], \"contourcarpet\": [{\"colorbar\": {\"outlinewidth\": 0, \"ticks\": \"\"}, \"type\": \"contourcarpet\"}], \"heatmap\": [{\"colorbar\": {\"outlinewidth\": 0, \"ticks\": \"\"}, \"colorscale\": [[0.0, \"#0d0887\"], [0.1111111111111111, \"#46039f\"], [0.2222222222222222, \"#7201a8\"], [0.3333333333333333, \"#9c179e\"], [0.4444444444444444, \"#bd3786\"], [0.5555555555555556, \"#d8576b\"], [0.6666666666666666, \"#ed7953\"], [0.7777777777777778, \"#fb9f3a\"], [0.8888888888888888, \"#fdca26\"], [1.0, \"#f0f921\"]], \"type\": \"heatmap\"}], \"heatmapgl\": [{\"colorbar\": {\"outlinewidth\": 0, \"ticks\": \"\"}, \"colorscale\": [[0.0, \"#0d0887\"], [0.1111111111111111, \"#46039f\"], [0.2222222222222222, \"#7201a8\"], [0.3333333333333333, \"#9c179e\"], [0.4444444444444444, \"#bd3786\"], [0.5555555555555556, \"#d8576b\"], [0.6666666666666666, \"#ed7953\"], [0.7777777777777778, \"#fb9f3a\"], [0.8888888888888888, \"#fdca26\"], [1.0, \"#f0f921\"]], \"type\": \"heatmapgl\"}], \"histogram\": [{\"marker\": {\"colorbar\": {\"outlinewidth\": 0, \"ticks\": \"\"}}, \"type\": \"histogram\"}], \"histogram2d\": [{\"colorbar\": {\"outlinewidth\": 0, \"ticks\": \"\"}, \"colorscale\": [[0.0, \"#0d0887\"], [0.1111111111111111, \"#46039f\"], [0.2222222222222222, \"#7201a8\"], [0.3333333333333333, \"#9c179e\"], [0.4444444444444444, \"#bd3786\"], [0.5555555555555556, \"#d8576b\"], [0.6666666666666666, \"#ed7953\"], [0.7777777777777778, \"#fb9f3a\"], [0.8888888888888888, \"#fdca26\"], [1.0, \"#f0f921\"]], \"type\": \"histogram2d\"}], \"histogram2dcontour\": [{\"colorbar\": {\"outlinewidth\": 0, \"ticks\": \"\"}, \"colorscale\": [[0.0, \"#0d0887\"], [0.1111111111111111, \"#46039f\"], [0.2222222222222222, \"#7201a8\"], [0.3333333333333333, \"#9c179e\"], [0.4444444444444444, \"#bd3786\"], [0.5555555555555556, \"#d8576b\"], [0.6666666666666666, \"#ed7953\"], [0.7777777777777778, \"#fb9f3a\"], [0.8888888888888888, \"#fdca26\"], [1.0, \"#f0f921\"]], \"type\": \"histogram2dcontour\"}], \"mesh3d\": [{\"colorbar\": {\"outlinewidth\": 0, \"ticks\": \"\"}, \"type\": \"mesh3d\"}], \"parcoords\": [{\"line\": {\"colorbar\": {\"outlinewidth\": 0, \"ticks\": \"\"}}, \"type\": \"parcoords\"}], \"scatter\": [{\"marker\": {\"colorbar\": {\"outlinewidth\": 0, \"ticks\": \"\"}}, \"type\": \"scatter\"}], \"scatter3d\": [{\"line\": {\"colorbar\": {\"outlinewidth\": 0, \"ticks\": \"\"}}, \"marker\": {\"colorbar\": {\"outlinewidth\": 0, \"ticks\": \"\"}}, \"type\": \"scatter3d\"}], \"scattercarpet\": [{\"marker\": {\"colorbar\": {\"outlinewidth\": 0, \"ticks\": \"\"}}, \"type\": \"scattercarpet\"}], \"scattergeo\": [{\"marker\": {\"colorbar\": {\"outlinewidth\": 0, \"ticks\": \"\"}}, \"type\": \"scattergeo\"}], \"scattergl\": [{\"marker\": {\"colorbar\": {\"outlinewidth\": 0, \"ticks\": \"\"}}, \"type\": \"scattergl\"}], \"scattermapbox\": [{\"marker\": {\"colorbar\": {\"outlinewidth\": 0, \"ticks\": \"\"}}, \"type\": \"scattermapbox\"}], \"scatterpolar\": [{\"marker\": {\"colorbar\": {\"outlinewidth\": 0, \"ticks\": \"\"}}, \"type\": \"scatterpolar\"}], \"scatterpolargl\": [{\"marker\": {\"colorbar\": {\"outlinewidth\": 0, \"ticks\": \"\"}}, \"type\": \"scatterpolargl\"}], \"scatterternary\": [{\"marker\": {\"colorbar\": {\"outlinewidth\": 0, \"ticks\": \"\"}}, \"type\": \"scatterternary\"}], \"surface\": [{\"colorbar\": {\"outlinewidth\": 0, \"ticks\": \"\"}, \"colorscale\": [[0.0, \"#0d0887\"], [0.1111111111111111, \"#46039f\"], [0.2222222222222222, \"#7201a8\"], [0.3333333333333333, \"#9c179e\"], [0.4444444444444444, \"#bd3786\"], [0.5555555555555556, \"#d8576b\"], [0.6666666666666666, \"#ed7953\"], [0.7777777777777778, \"#fb9f3a\"], [0.8888888888888888, \"#fdca26\"], [1.0, \"#f0f921\"]], \"type\": \"surface\"}], \"table\": [{\"cells\": {\"fill\": {\"color\": \"#EBF0F8\"}, \"line\": {\"color\": \"white\"}}, \"header\": {\"fill\": {\"color\": \"#C8D4E3\"}, \"line\": {\"color\": \"white\"}}, \"type\": \"table\"}]}, \"layout\": {\"annotationdefaults\": {\"arrowcolor\": \"#2a3f5f\", \"arrowhead\": 0, \"arrowwidth\": 1}, \"colorscale\": {\"diverging\": [[0, \"#8e0152\"], [0.1, \"#c51b7d\"], [0.2, \"#de77ae\"], [0.3, \"#f1b6da\"], [0.4, \"#fde0ef\"], [0.5, \"#f7f7f7\"], [0.6, \"#e6f5d0\"], [0.7, \"#b8e186\"], [0.8, \"#7fbc41\"], [0.9, \"#4d9221\"], [1, \"#276419\"]], \"sequential\": [[0.0, \"#0d0887\"], [0.1111111111111111, \"#46039f\"], [0.2222222222222222, \"#7201a8\"], [0.3333333333333333, \"#9c179e\"], [0.4444444444444444, \"#bd3786\"], [0.5555555555555556, \"#d8576b\"], [0.6666666666666666, \"#ed7953\"], [0.7777777777777778, \"#fb9f3a\"], [0.8888888888888888, \"#fdca26\"], [1.0, \"#f0f921\"]], \"sequentialminus\": [[0.0, \"#0d0887\"], [0.1111111111111111, \"#46039f\"], [0.2222222222222222, \"#7201a8\"], [0.3333333333333333, \"#9c179e\"], [0.4444444444444444, \"#bd3786\"], [0.5555555555555556, \"#d8576b\"], [0.6666666666666666, \"#ed7953\"], [0.7777777777777778, \"#fb9f3a\"], [0.8888888888888888, \"#fdca26\"], [1.0, \"#f0f921\"]]}, \"colorway\": [\"#636efa\", \"#EF553B\", \"#00cc96\", \"#ab63fa\", \"#FFA15A\", \"#19d3f3\", \"#FF6692\", \"#B6E880\", \"#FF97FF\", \"#FECB52\"], \"font\": {\"color\": \"#2a3f5f\"}, \"geo\": {\"bgcolor\": \"white\", \"lakecolor\": \"white\", \"landcolor\": \"#E5ECF6\", \"showlakes\": true, \"showland\": true, \"subunitcolor\": \"white\"}, \"hoverlabel\": {\"align\": \"left\"}, \"hovermode\": \"closest\", \"mapbox\": {\"style\": \"light\"}, \"paper_bgcolor\": \"white\", \"plot_bgcolor\": \"#E5ECF6\", \"polar\": {\"angularaxis\": {\"gridcolor\": \"white\", \"linecolor\": \"white\", \"ticks\": \"\"}, \"bgcolor\": \"#E5ECF6\", \"radialaxis\": {\"gridcolor\": \"white\", \"linecolor\": \"white\", \"ticks\": \"\"}}, \"scene\": {\"xaxis\": {\"backgroundcolor\": \"#E5ECF6\", \"gridcolor\": \"white\", \"gridwidth\": 2, \"linecolor\": \"white\", \"showbackground\": true, \"ticks\": \"\", \"zerolinecolor\": \"white\"}, \"yaxis\": {\"backgroundcolor\": \"#E5ECF6\", \"gridcolor\": \"white\", \"gridwidth\": 2, \"linecolor\": \"white\", \"showbackground\": true, \"ticks\": \"\", \"zerolinecolor\": \"white\"}, \"zaxis\": {\"backgroundcolor\": \"#E5ECF6\", \"gridcolor\": \"white\", \"gridwidth\": 2, \"linecolor\": \"white\", \"showbackground\": true, \"ticks\": \"\", \"zerolinecolor\": \"white\"}}, \"shapedefaults\": {\"line\": {\"color\": \"#2a3f5f\"}}, \"ternary\": {\"aaxis\": {\"gridcolor\": \"white\", \"linecolor\": \"white\", \"ticks\": \"\"}, \"baxis\": {\"gridcolor\": \"white\", \"linecolor\": \"white\", \"ticks\": \"\"}, \"bgcolor\": \"#E5ECF6\", \"caxis\": {\"gridcolor\": \"white\", \"linecolor\": \"white\", \"ticks\": \"\"}}, \"title\": {\"x\": 0.05}, \"xaxis\": {\"automargin\": true, \"gridcolor\": \"white\", \"linecolor\": \"white\", \"ticks\": \"\", \"zerolinecolor\": \"white\", \"zerolinewidth\": 2}, \"yaxis\": {\"automargin\": true, \"gridcolor\": \"white\", \"linecolor\": \"white\", \"ticks\": \"\", \"zerolinecolor\": \"white\", \"zerolinewidth\": 2}}}, \"xaxis\": {\"anchor\": \"y\", \"domain\": [0.0, 0.98], \"title\": {\"text\": \"x\"}}, \"yaxis\": {\"anchor\": \"x\", \"domain\": [0.0, 1.0], \"title\": {\"text\": \"y\"}, \"type\": \"log\"}},\n",
       "                        {\"responsive\": true}\n",
       "                    ).then(function(){\n",
       "                            \n",
       "var gd = document.getElementById('96f13860-06fa-4fe5-9786-8edcbe42abfc');\n",
       "var x = new MutationObserver(function (mutations, observer) {{\n",
       "        var display = window.getComputedStyle(gd).display;\n",
       "        if (!display || display === 'none') {{\n",
       "            console.log([gd, 'removed!']);\n",
       "            Plotly.purge(gd);\n",
       "            observer.disconnect();\n",
       "        }}\n",
       "}});\n",
       "\n",
       "// Listen for the removal of the full notebook cells\n",
       "var notebookContainer = gd.closest('#notebook-container');\n",
       "if (notebookContainer) {{\n",
       "    x.observe(notebookContainer, {childList: true});\n",
       "}}\n",
       "\n",
       "// Listen for the clearing of the current output cell\n",
       "var outputEl = gd.closest('.output');\n",
       "if (outputEl) {{\n",
       "    x.observe(outputEl, {childList: true});\n",
       "}}\n",
       "\n",
       "                        })\n",
       "                };\n",
       "                });\n",
       "            </script>\n",
       "        </div>"
      ]
     },
     "metadata": {},
     "output_type": "display_data"
    }
   ],
   "source": [
    "cnt=cg_counter()\n",
    "x, info = scipy.sparse.linalg.cg(A, b, x0=x1, tol=tol,  \n",
    "                                    callback=cnt)\n",
    "print(str(cnt.niter))\n",
    "px.scatter(x=[i for i in range(0,cnt.niter)],y=cnt.callbacks,log_y=True)"
   ]
  },
  {
   "cell_type": "code",
   "execution_count": 317,
   "metadata": {},
   "outputs": [
    {
     "data": {
      "text/plain": [
       "[1.8771307943212814,\n",
       " 30.54875464448815,\n",
       " 1.0417966827123277,\n",
       " 0.666698689402731,\n",
       " 1.688866107091341,\n",
       " 0.8969330035351757,\n",
       " 0.443648145822958,\n",
       " 3.4736853645386736,\n",
       " 0.44948958666154987,\n",
       " 0.48109283910062417,\n",
       " 0.4390978295761517,\n",
       " 2.3414798226275844,\n",
       " 0.4865187627424978,\n",
       " 0.26249080118391505,\n",
       " 0.3432329421695934,\n",
       " 0.39336350717248864,\n",
       " 0.11884455118790042,\n",
       " 0.07789957315582882,\n",
       " 0.3464442644154846,\n",
       " 0.05087052831483144,\n",
       " 0.015460689420952831,\n",
       " 0.006357382746508213,\n",
       " 0.003028993848698672,\n",
       " 0.001365572378094548,\n",
       " 0.000579297926608733,\n",
       " 0.00024313685226580057,\n",
       " 5.270826345429091e-05,\n",
       " 5.899118385512337e-05,\n",
       " 7.698479090749423e-06,\n",
       " 6.359113249405409e-07,\n",
       " 9.237948098674296e-09,\n",
       " 7.053257283526364e-10,\n",
       " 3.544409515805293e-11,\n",
       " 8.576622258987618e-13]"
      ]
     },
     "execution_count": 317,
     "metadata": {},
     "output_type": "execute_result"
    }
   ],
   "source": [
    "cnt.callbacks\n"
   ]
  },
  {
   "cell_type": "code",
   "execution_count": 368,
   "metadata": {},
   "outputs": [
    {
     "name": "stdout",
     "output_type": "stream",
     "text": [
      "1502\n"
     ]
    },
    {
     "data": {
      "text/plain": [
       "<matplotlib.lines.Line2D at 0x7f82c3910208>"
      ]
     },
     "execution_count": 368,
     "metadata": {},
     "output_type": "execute_result"
    },
    {
     "data": {
      "image/png": "[encoded data removed]",
      "text/plain": [
       "<Figure size 432x288 with 1 Axes>"
      ]
     },
     "metadata": {
      "needs_background": "light"
     },
     "output_type": "display_data"
    }
   ],
   "source": [
    "np.random.seed(12345)\n",
    "matrixSize = 1000\n",
    "A=2*np.random.rand(matrixSize,matrixSize)-1\n",
    "#A=0.5*(A+A.T)\n",
    "A=A\n",
    "np.fill_diagonal(A, 1)\n",
    "A[A < 0.999] = 0\n",
    "b = np.matrix(np.ones((matrixSize, 1)))\n",
    "x1 = np.matrix(np.ones((matrixSize, 1)))\n",
    "spA = scipy.sparse.csc_matrix (A)\n",
    "print(spA.nnz)\n",
    "# u,s,vt=scipy.sparse.linalg.svds(spA)\n",
    "# max(s)/min(s)\n",
    "M_i=scipy.sparse.linalg.spilu(spA)\n",
    "plt.spy(spA,markersize=1)"
   ]
  },
  {
   "cell_type": "code",
   "execution_count": 382,
   "metadata": {},
   "outputs": [],
   "source": [
    "import time\n",
    "\n",
    "T_lu=[]\n",
    "T_gmres_sparse=[]\n",
    "\n",
    "M_i=scipy.sparse.linalg.spilu(spA)\n",
    "M2=scipy.sparse.linalg.LinearOperator((matrixSize,matrixSize),M_i.solve)\n",
    "x, info = scipy.sparse.linalg.gmres(spA, b, x0=x1, tol=tol)\n"
   ]
  },
  {
   "cell_type": "code",
   "execution_count": 283,
   "metadata": {},
   "outputs": [],
   "source": [
    "for k in range(1,100+1):\n",
    "\n",
    "    t = time.time()\n",
    "    x=nplin.solve(A, b)\n",
    "    elapsed = time.time() - t\n",
    "\n",
    "    T_lu.append(elapsed)\n",
    "# for k in range(1,100+1):\n",
    "#     t = time.time()\n",
    "#     x, info = scipy.sparse.linalg.gmres(A, b, x0=x1, tol=tol,M=M2)\n",
    "#     elapsed = time.time() - t\n",
    "#     T_gmres.append(elapsed)\n",
    "for k in range(1,100+1):\n",
    "    t = time.time()\n",
    "    #M_i=scipy.sparse.linalg.spilu(spA)\n",
    "    #M2=scipy.sparse.linalg.LinearOperator((matrixSize,matrixSize),M_i.solve)\n",
    "    x, info = scipy.sparse.linalg.gmres(spA, b, x0=x1, tol=tol)\n",
    "    elapsed = time.time() - t\n",
    "    T_gmres_sparse.append(elapsed)"
   ]
  },
  {
   "cell_type": "code",
   "execution_count": 284,
   "metadata": {},
   "outputs": [
    {
     "data": {
      "application/vnd.plotly.v1+json": {
       "config": {
        "plotlyServerURL": "https://plot.ly"
       },
       "data": [
        {
         "alignmentgroup": "True",
         "bingroup": "x",
         "hoverlabel": {
          "namelength": 0
         },
         "hovertemplate": "method=LU<br>T=%{x}<br>count=%{y}",
         "legendgroup": "method=LU",
         "marker": {
          "color": "#636efa"
         },
         "name": "method=LU",
         "offsetgroup": "method=LU",
         "orientation": "v",
         "showlegend": true,
         "type": "histogram",
         "x": [
          -3.331514288228108,
          -2.0649237940388177,
          -2.950814065724437,
          -3.4610092371009813,
          -3.4196203268496945,
          -3.377813228521149,
          -3.8784061660626157,
          -4.181662549155647,
          -4.1546045297116265,
          -4.03030779963473,
          -3.4751874719467972,
          -4.137865278636817,
          -2.2187223757461005,
          -4.077831457231434,
          -4.195099281389139,
          -4.287526192019847,
          -3.4342099122355574,
          -2.5476553917004354,
          -3.5406634903437517,
          -1.8949092701205466,
          -2.5823285853677045,
          -3.832658223135253,
          -4.116607068314789,
          -4.14850016121756,
          -3.42044393305216,
          -4.336679979776054,
          -3.0622615036796623,
          -3.8359560626771656,
          -1.5061733837848497,
          -2.301497065878097,
          -4.115496022062844,
          -4.1489986243000745,
          -3.362482555614018,
          -4.049613287751349,
          -4.12651468879082,
          -2.3986360752314377,
          -2.9375988323458833,
          -3.134672248157914,
          -2.715950090001516,
          -3.073732787555187,
          -4.024127922023362,
          -4.08334834283334,
          -2.6810427481929624,
          -2.894654808525409,
          -3.0074025083451015,
          -2.048780862182406,
          -2.444529395263199,
          -3.1225928070866718,
          -4.344897975565476,
          -4.1386126293135765,
          -4.145093105625052,
          -3.872750978577256,
          -4.062846294375314,
          -4.172850413211311,
          -2.101548036968459,
          -3.901965755459753,
          -1.9578966697121316,
          -2.5488197561865844,
          -2.6318970894535085,
          -3.9239441376614184,
          -4.069954752176728,
          -4.158562700117551,
          -4.105002197294117,
          -4.102403067982711,
          -4.040544104178254,
          -2.1550971303582975,
          -4.060119290518982,
          -2.163378841007553,
          -4.013450365924678,
          -3.209916729991717,
          -1.7708280483760312,
          -3.899796608356903,
          -2.703775920675383,
          -2.9417375341585097,
          -2.387216505718369,
          -3.3548669050846245,
          -3.3430819369087468,
          -3.935385590783811,
          -3.9946947107554873,
          -3.9968204957629943,
          -4.096120926926918,
          -2.1933007632041055,
          -4.116650950739153,
          -4.119038128487244,
          -4.1068111310232815,
          -4.162092573972141,
          -3.5316099507730465,
          -4.241918444080398,
          -4.340112707232551,
          -1.7107386235197788,
          -3.1720845148567296,
          -2.72942084863425,
          -4.173128973366629,
          -4.242631633976698,
          -4.219831053040655,
          -4.161052182201431,
          -4.093487576328983,
          -4.168588845733477,
          -4.217870633433991,
          -2.086562170202858,
          -2.7396480456716708,
          -2.7527220699175734,
          -3.0676117196935495,
          -3.711493073532056,
          -4.160945144470528,
          -4.070555231181498,
          -3.448572936549849,
          -3.3496361406925867,
          -2.9952326730333203,
          -2.760719439257092,
          -4.292763309140835,
          -4.156535986432278,
          -4.1162268346127275,
          -4.134613340272715,
          -4.156383767846095,
          -4.160104532149617,
          -4.174832973531088,
          -4.221340438293418,
          -1.8341139403198528,
          -2.7992235655038007,
          -2.890487159146918,
          -2.7369755827811026,
          -3.54298507137808,
          -3.540392167891799,
          -2.758983121733967,
          -3.3934322744320253,
          -2.293824503186001,
          -4.345964485421454,
          -4.193597364186529,
          -4.151631001009249,
          -3.4006405908981248,
          -4.173980610496833,
          -2.9967923674205186,
          -2.530027378506764,
          -2.764795226484291,
          -4.176058549433607,
          -4.11193729944585,
          -4.072302860094468,
          -2.6825302345982527,
          -1.3512363218075207,
          -3.906093032648212,
          -3.5371829989052466,
          -4.121622109253169,
          -4.093301786399692,
          -4.223389052943717,
          -4.2186802582980745,
          -2.8726506982587034,
          -2.0796017718011526,
          -4.085316944983081,
          -2.723635810897722,
          -2.458645102009275,
          -2.8445071095484606,
          -3.7112492317548993,
          -3.9332402165318854,
          -2.784704825947028,
          -3.9932843371609352,
          -4.015709000213577,
          -4.177736454311,
          -4.069605802163766,
          -4.204701440917303,
          -4.05624232735047,
          -4.104207301925523,
          -1.9162766111688572,
          -2.9062945162320526,
          -2.814528889034818,
          -2.757723261280189,
          -3.200462618677842,
          -3.1967070254159125,
          -3.892229746623547,
          -2.2404913217014357,
          -1.692933471213948,
          -3.645859559364141,
          -3.399997425932731,
          -2.8602897568216443,
          -2.2120774264905276,
          -4.2636402112140654,
          -1.6215508789231647,
          -3.852531766341271,
          -2.7042710257350335,
          -3.047841241860225,
          -3.8810955342973283,
          -3.1805154299875635,
          -4.149769465386285,
          -2.311535686286481,
          -2.349278419893678,
          -3.6421848446238703,
          -3.8608105382053384,
          -2.2643566382357307,
          -2.8749680496651866,
          -4.31638103385672,
          -4.117075246816391,
          -4.056710627567009,
          -3.5099341935244293,
          -4.147760477134592,
          -4.104337332482888,
          -4.145650103870607,
          -4.176524351786568,
          -4.157983219803667,
          -4.1682653382938355,
          -4.198840151540159
         ],
         "xaxis": "x",
         "yaxis": "y"
        },
        {
         "alignmentgroup": "True",
         "bingroup": "x",
         "hoverlabel": {
          "namelength": 0
         },
         "hovertemplate": "method=GMRES_sparse<br>T=%{x}<br>count=%{y}",
         "legendgroup": "method=GMRES_sparse",
         "marker": {
          "color": "#EF553B"
         },
         "name": "method=GMRES_sparse",
         "offsetgroup": "method=GMRES_sparse",
         "orientation": "v",
         "showlegend": true,
         "type": "histogram",
         "x": [
          -6.482999592065696,
          -6.536642484570074,
          -6.045620146103441,
          -6.756747393542931,
          -6.7602385152733415,
          -6.781865475886515,
          -6.780395041843606,
          -6.8132548363281025,
          -6.809790129527412,
          -6.83651680249927,
          -6.819783695210567,
          -6.828996306979009,
          -6.82965760976956,
          -6.840967188126746,
          -6.669633520781162,
          -6.665508257102315,
          -6.714794427496032,
          -6.81087156144853,
          -6.734648166772674,
          -6.765394760584114,
          -6.781024963124278,
          -6.786500966698618,
          -6.688410743882498,
          -6.6686944654017974,
          -6.687645193605875,
          -6.72884989000604,
          -6.645316777392735,
          -6.714008418416461,
          -6.702291822753212,
          -6.722292489459881,
          -6.721302684370658,
          -6.661772727917228,
          -6.694363713934871,
          -6.722094450049391,
          -6.701515575867736,
          -6.67490858953175,
          -6.6798319094556255,
          -6.703068672666042,
          -6.573333089747739,
          -6.628586072534329,
          -6.550890571860611,
          -4.046635631614738,
          -6.6608410218962275,
          -6.638554437815221,
          -6.6194306365334254,
          -6.690902837571384,
          -6.678314458481592,
          -6.674153302486782,
          -6.678314458481592,
          -6.6160411051462535,
          -6.6798319094556255,
          -6.740681974298223,
          -6.6249857086091515,
          -6.723481550242072,
          -6.6536033545959965,
          -6.717944656523778,
          -6.723878218236166,
          -6.715581054871894,
          -6.375209849762462,
          -6.630210475021292,
          -6.753268417354186,
          -6.708132960856246,
          -6.721302684370658,
          -6.680781486965018,
          -6.658608462829378,
          -6.72705723939152,
          -6.661027293667279,
          -6.667943855496036,
          -6.717944656523778,
          -6.688602223059723,
          -6.555573637786781,
          -6.579323693884896,
          -6.690135377825349,
          -6.345694536654078,
          -6.658422641031946,
          -6.643850770166643,
          -6.66644432381861,
          -6.702291822753212,
          -6.629488192577467,
          -6.679072896136454,
          -6.6815417987294525,
          -6.699771220352264,
          -6.7151876638361365,
          -6.663825541925416,
          -6.676042590787275,
          -6.694171128474478,
          -6.6563808769815695,
          -6.614439538828296,
          -6.67755659561849,
          -6.667943855496036,
          -6.669257792803794,
          -6.650649142698565,
          -6.6287664314490575,
          -6.659352095509119,
          -6.694171128474478,
          -6.695905734286686,
          -6.684016811891977,
          -6.546561560771026,
          -6.717156168408809,
          -6.718141875733568,
          -6.990038609652515,
          -7.299440756156945,
          -7.308298209991006,
          -7.357159551070677,
          -7.348971935551096,
          -7.337181084139791,
          -7.37297909001557,
          -7.339748479645038,
          -7.3871257606560485,
          -7.3474904537986525,
          -7.376020917456056,
          -7.3665457660297715,
          -7.379072025848951,
          -7.355292834082838,
          -7.360528448136782,
          -7.364661461722473,
          -7.337181084139791,
          -7.379836259741707,
          -7.371461639041537,
          -7.3855867068701455,
          -7.384433968990337,
          -7.3556658988138945,
          -7.352685270675757,
          -6.79882581459291,
          -6.554903284150147,
          -6.568566311910085,
          -6.348688958382496,
          -5.971612853537017,
          -6.556412212259401,
          -7.096463919574723,
          -6.593152782035941,
          -6.643118571708158,
          -6.439673718964647,
          -6.277027893965148,
          -6.571287402024446,
          -6.571287402024446,
          -6.641655781174879,
          -7.002279939750619,
          -7.222087865486022,
          -7.187435697780449,
          -7.224048650427962,
          -7.267163097237595,
          -7.341954362892449,
          -7.3556658988138945,
          -7.374498847146986,
          -7.381366481922475,
          -7.363532581075777,
          -7.340115789107386,
          -7.29486569978693,
          -7.251911149320699,
          -7.3665457660297715,
          -7.376020917456056,
          -7.284387084871484,
          -7.225030486540219,
          -7.114770402041234,
          -7.166526838081216,
          -7.0633304908364725,
          -7.173033445079771,
          -7.154859527345836,
          -7.156692708427498,
          -7.2729860285731736,
          -7.28299819575933,
          -7.236225861949881,
          -7.212664562611484,
          -7.251574845298697,
          -7.150899126129739,
          -7.307942401412265,
          -7.2185030482202555,
          -7.18240265790146,
          -7.117413187311602,
          -7.081885985262726,
          -6.584832401222172,
          -7.170549743088924,
          -7.135811332375142,
          -7.139712312565924,
          -7.212988030186681,
          -7.319031765634114,
          -7.096176025517747,
          -7.198215764128118,
          -7.2224143961011675,
          -7.0796184105949465,
          -7.199491681366605,
          -7.1745888972521445,
          -7.2675046856269105,
          -7.199491681366605,
          -7.129541719361547,
          -7.281957793376597,
          -7.221108912887037,
          -7.120652771944301,
          -7.048126327876038,
          -6.953939112816337,
          -6.576923144035259,
          -6.313202875752756,
          -7.050598517021427,
          -7.143326774332289,
          -7.218177792078179,
          -7.139712312565924,
          -6.554903284150147,
          -6.704624185326567,
          -7.020527173525109
         ],
         "xaxis": "x",
         "yaxis": "y"
        }
       ],
       "layout": {
        "barmode": "relative",
        "height": 600,
        "legend": {
         "tracegroupgap": 0
        },
        "margin": {
         "t": 60
        },
        "template": {
         "data": {
          "bar": [
           {
            "error_x": {
             "color": "#2a3f5f"
            },
            "error_y": {
             "color": "#2a3f5f"
            },
            "marker": {
             "line": {
              "color": "#E5ECF6",
              "width": 0.5
             }
            },
            "type": "bar"
           }
          ],
          "barpolar": [
           {
            "marker": {
             "line": {
              "color": "#E5ECF6",
              "width": 0.5
             }
            },
            "type": "barpolar"
           }
          ],
          "carpet": [
           {
            "aaxis": {
             "endlinecolor": "#2a3f5f",
             "gridcolor": "white",
             "linecolor": "white",
             "minorgridcolor": "white",
             "startlinecolor": "#2a3f5f"
            },
            "baxis": {
             "endlinecolor": "#2a3f5f",
             "gridcolor": "white",
             "linecolor": "white",
             "minorgridcolor": "white",
             "startlinecolor": "#2a3f5f"
            },
            "type": "carpet"
           }
          ],
          "choropleth": [
           {
            "colorbar": {
             "outlinewidth": 0,
             "ticks": ""
            },
            "type": "choropleth"
           }
          ],
          "contour": [
           {
            "colorbar": {
             "outlinewidth": 0,
             "ticks": ""
            },
            "colorscale": [
             [
              0,
              "#0d0887"
             ],
             [
              0.1111111111111111,
              "#46039f"
             ],
             [
              0.2222222222222222,
              "#7201a8"
             ],
             [
              0.3333333333333333,
              "#9c179e"
             ],
             [
              0.4444444444444444,
              "#bd3786"
             ],
             [
              0.5555555555555556,
              "#d8576b"
             ],
             [
              0.6666666666666666,
              "#ed7953"
             ],
             [
              0.7777777777777778,
              "#fb9f3a"
             ],
             [
              0.8888888888888888,
              "#fdca26"
             ],
             [
              1,
              "#f0f921"
             ]
            ],
            "type": "contour"
           }
          ],
          "contourcarpet": [
           {
            "colorbar": {
             "outlinewidth": 0,
             "ticks": ""
            },
            "type": "contourcarpet"
           }
          ],
          "heatmap": [
           {
            "colorbar": {
             "outlinewidth": 0,
             "ticks": ""
            },
            "colorscale": [
             [
              0,
              "#0d0887"
             ],
             [
              0.1111111111111111,
              "#46039f"
             ],
             [
              0.2222222222222222,
              "#7201a8"
             ],
             [
              0.3333333333333333,
              "#9c179e"
             ],
             [
              0.4444444444444444,
              "#bd3786"
             ],
             [
              0.5555555555555556,
              "#d8576b"
             ],
             [
              0.6666666666666666,
              "#ed7953"
             ],
             [
              0.7777777777777778,
              "#fb9f3a"
             ],
             [
              0.8888888888888888,
              "#fdca26"
             ],
             [
              1,
              "#f0f921"
             ]
            ],
            "type": "heatmap"
           }
          ],
          "heatmapgl": [
           {
            "colorbar": {
             "outlinewidth": 0,
             "ticks": ""
            },
            "colorscale": [
             [
              0,
              "#0d0887"
             ],
             [
              0.1111111111111111,
              "#46039f"
             ],
             [
              0.2222222222222222,
              "#7201a8"
             ],
             [
              0.3333333333333333,
              "#9c179e"
             ],
             [
              0.4444444444444444,
              "#bd3786"
             ],
             [
              0.5555555555555556,
              "#d8576b"
             ],
             [
              0.6666666666666666,
              "#ed7953"
             ],
             [
              0.7777777777777778,
              "#fb9f3a"
             ],
             [
              0.8888888888888888,
              "#fdca26"
             ],
             [
              1,
              "#f0f921"
             ]
            ],
            "type": "heatmapgl"
           }
          ],
          "histogram": [
           {
            "marker": {
             "colorbar": {
              "outlinewidth": 0,
              "ticks": ""
             }
            },
            "type": "histogram"
           }
          ],
          "histogram2d": [
           {
            "colorbar": {
             "outlinewidth": 0,
             "ticks": ""
            },
            "colorscale": [
             [
              0,
              "#0d0887"
             ],
             [
              0.1111111111111111,
              "#46039f"
             ],
             [
              0.2222222222222222,
              "#7201a8"
             ],
             [
              0.3333333333333333,
              "#9c179e"
             ],
             [
              0.4444444444444444,
              "#bd3786"
             ],
             [
              0.5555555555555556,
              "#d8576b"
             ],
             [
              0.6666666666666666,
              "#ed7953"
             ],
             [
              0.7777777777777778,
              "#fb9f3a"
             ],
             [
              0.8888888888888888,
              "#fdca26"
             ],
             [
              1,
              "#f0f921"
             ]
            ],
            "type": "histogram2d"
           }
          ],
          "histogram2dcontour": [
           {
            "colorbar": {
             "outlinewidth": 0,
             "ticks": ""
            },
            "colorscale": [
             [
              0,
              "#0d0887"
             ],
             [
              0.1111111111111111,
              "#46039f"
             ],
             [
              0.2222222222222222,
              "#7201a8"
             ],
             [
              0.3333333333333333,
              "#9c179e"
             ],
             [
              0.4444444444444444,
              "#bd3786"
             ],
             [
              0.5555555555555556,
              "#d8576b"
             ],
             [
              0.6666666666666666,
              "#ed7953"
             ],
             [
              0.7777777777777778,
              "#fb9f3a"
             ],
             [
              0.8888888888888888,
              "#fdca26"
             ],
             [
              1,
              "#f0f921"
             ]
            ],
            "type": "histogram2dcontour"
           }
          ],
          "mesh3d": [
           {
            "colorbar": {
             "outlinewidth": 0,
             "ticks": ""
            },
            "type": "mesh3d"
           }
          ],
          "parcoords": [
           {
            "line": {
             "colorbar": {
              "outlinewidth": 0,
              "ticks": ""
             }
            },
            "type": "parcoords"
           }
          ],
          "scatter": [
           {
            "marker": {
             "colorbar": {
              "outlinewidth": 0,
              "ticks": ""
             }
            },
            "type": "scatter"
           }
          ],
          "scatter3d": [
           {
            "line": {
             "colorbar": {
              "outlinewidth": 0,
              "ticks": ""
             }
            },
            "marker": {
             "colorbar": {
              "outlinewidth": 0,
              "ticks": ""
             }
            },
            "type": "scatter3d"
           }
          ],
          "scattercarpet": [
           {
            "marker": {
             "colorbar": {
              "outlinewidth": 0,
              "ticks": ""
             }
            },
            "type": "scattercarpet"
           }
          ],
          "scattergeo": [
           {
            "marker": {
             "colorbar": {
              "outlinewidth": 0,
              "ticks": ""
             }
            },
            "type": "scattergeo"
           }
          ],
          "scattergl": [
           {
            "marker": {
             "colorbar": {
              "outlinewidth": 0,
              "ticks": ""
             }
            },
            "type": "scattergl"
           }
          ],
          "scattermapbox": [
           {
            "marker": {
             "colorbar": {
              "outlinewidth": 0,
              "ticks": ""
             }
            },
            "type": "scattermapbox"
           }
          ],
          "scatterpolar": [
           {
            "marker": {
             "colorbar": {
              "outlinewidth": 0,
              "ticks": ""
             }
            },
            "type": "scatterpolar"
           }
          ],
          "scatterpolargl": [
           {
            "marker": {
             "colorbar": {
              "outlinewidth": 0,
              "ticks": ""
             }
            },
            "type": "scatterpolargl"
           }
          ],
          "scatterternary": [
           {
            "marker": {
             "colorbar": {
              "outlinewidth": 0,
              "ticks": ""
             }
            },
            "type": "scatterternary"
           }
          ],
          "surface": [
           {
            "colorbar": {
             "outlinewidth": 0,
             "ticks": ""
            },
            "colorscale": [
             [
              0,
              "#0d0887"
             ],
             [
              0.1111111111111111,
              "#46039f"
             ],
             [
              0.2222222222222222,
              "#7201a8"
             ],
             [
              0.3333333333333333,
              "#9c179e"
             ],
             [
              0.4444444444444444,
              "#bd3786"
             ],
             [
              0.5555555555555556,
              "#d8576b"
             ],
             [
              0.6666666666666666,
              "#ed7953"
             ],
             [
              0.7777777777777778,
              "#fb9f3a"
             ],
             [
              0.8888888888888888,
              "#fdca26"
             ],
             [
              1,
              "#f0f921"
             ]
            ],
            "type": "surface"
           }
          ],
          "table": [
           {
            "cells": {
             "fill": {
              "color": "#EBF0F8"
             },
             "line": {
              "color": "white"
             }
            },
            "header": {
             "fill": {
              "color": "#C8D4E3"
             },
             "line": {
              "color": "white"
             }
            },
            "type": "table"
           }
          ]
         },
         "layout": {
          "annotationdefaults": {
           "arrowcolor": "#2a3f5f",
           "arrowhead": 0,
           "arrowwidth": 1
          },
          "colorscale": {
           "diverging": [
            [
             0,
             "#8e0152"
            ],
            [
             0.1,
             "#c51b7d"
            ],
            [
             0.2,
             "#de77ae"
            ],
            [
             0.3,
             "#f1b6da"
            ],
            [
             0.4,
             "#fde0ef"
            ],
            [
             0.5,
             "#f7f7f7"
            ],
            [
             0.6,
             "#e6f5d0"
            ],
            [
             0.7,
             "#b8e186"
            ],
            [
             0.8,
             "#7fbc41"
            ],
            [
             0.9,
             "#4d9221"
            ],
            [
             1,
             "#276419"
            ]
           ],
           "sequential": [
            [
             0,
             "#0d0887"
            ],
            [
             0.1111111111111111,
             "#46039f"
            ],
            [
             0.2222222222222222,
             "#7201a8"
            ],
            [
             0.3333333333333333,
             "#9c179e"
            ],
            [
             0.4444444444444444,
             "#bd3786"
            ],
            [
             0.5555555555555556,
             "#d8576b"
            ],
            [
             0.6666666666666666,
             "#ed7953"
            ],
            [
             0.7777777777777778,
             "#fb9f3a"
            ],
            [
             0.8888888888888888,
             "#fdca26"
            ],
            [
             1,
             "#f0f921"
            ]
           ],
           "sequentialminus": [
            [
             0,
             "#0d0887"
            ],
            [
             0.1111111111111111,
             "#46039f"
            ],
            [
             0.2222222222222222,
             "#7201a8"
            ],
            [
             0.3333333333333333,
             "#9c179e"
            ],
            [
             0.4444444444444444,
             "#bd3786"
            ],
            [
             0.5555555555555556,
             "#d8576b"
            ],
            [
             0.6666666666666666,
             "#ed7953"
            ],
            [
             0.7777777777777778,
             "#fb9f3a"
            ],
            [
             0.8888888888888888,
             "#fdca26"
            ],
            [
             1,
             "#f0f921"
            ]
           ]
          },
          "colorway": [
           "#636efa",
           "#EF553B",
           "#00cc96",
           "#ab63fa",
           "#FFA15A",
           "#19d3f3",
           "#FF6692",
           "#B6E880",
           "#FF97FF",
           "#FECB52"
          ],
          "font": {
           "color": "#2a3f5f"
          },
          "geo": {
           "bgcolor": "white",
           "lakecolor": "white",
           "landcolor": "#E5ECF6",
           "showlakes": true,
           "showland": true,
           "subunitcolor": "white"
          },
          "hoverlabel": {
           "align": "left"
          },
          "hovermode": "closest",
          "mapbox": {
           "style": "light"
          },
          "paper_bgcolor": "white",
          "plot_bgcolor": "#E5ECF6",
          "polar": {
           "angularaxis": {
            "gridcolor": "white",
            "linecolor": "white",
            "ticks": ""
           },
           "bgcolor": "#E5ECF6",
           "radialaxis": {
            "gridcolor": "white",
            "linecolor": "white",
            "ticks": ""
           }
          },
          "scene": {
           "xaxis": {
            "backgroundcolor": "#E5ECF6",
            "gridcolor": "white",
            "gridwidth": 2,
            "linecolor": "white",
            "showbackground": true,
            "ticks": "",
            "zerolinecolor": "white"
           },
           "yaxis": {
            "backgroundcolor": "#E5ECF6",
            "gridcolor": "white",
            "gridwidth": 2,
            "linecolor": "white",
            "showbackground": true,
            "ticks": "",
            "zerolinecolor": "white"
           },
           "zaxis": {
            "backgroundcolor": "#E5ECF6",
            "gridcolor": "white",
            "gridwidth": 2,
            "linecolor": "white",
            "showbackground": true,
            "ticks": "",
            "zerolinecolor": "white"
           }
          },
          "shapedefaults": {
           "line": {
            "color": "#2a3f5f"
           }
          },
          "ternary": {
           "aaxis": {
            "gridcolor": "white",
            "linecolor": "white",
            "ticks": ""
           },
           "baxis": {
            "gridcolor": "white",
            "linecolor": "white",
            "ticks": ""
           },
           "bgcolor": "#E5ECF6",
           "caxis": {
            "gridcolor": "white",
            "linecolor": "white",
            "ticks": ""
           }
          },
          "title": {
           "x": 0.05
          },
          "xaxis": {
           "automargin": true,
           "gridcolor": "white",
           "linecolor": "white",
           "ticks": "",
           "zerolinecolor": "white",
           "zerolinewidth": 2
          },
          "yaxis": {
           "automargin": true,
           "gridcolor": "white",
           "linecolor": "white",
           "ticks": "",
           "zerolinecolor": "white",
           "zerolinewidth": 2
          }
         }
        },
        "xaxis": {
         "anchor": "y",
         "domain": [
          0,
          0.98
         ],
         "title": {
          "text": "T"
         }
        },
        "yaxis": {
         "anchor": "x",
         "domain": [
          0,
          1
         ],
         "title": {
          "text": "count"
         }
        }
       }
      },
      "text/html": [
       "<div>\n",
       "        \n",
       "        \n",
       "            <div id=\"1a1ab1cc-93d2-4ca0-8e97-f0a3a4c1782b\" class=\"plotly-graph-div\" style=\"height:600px; width:100%;\"></div>\n",
       "            <script type=\"text/javascript\">\n",
       "                require([\"plotly\"], function(Plotly) {\n",
       "                    window.PLOTLYENV=window.PLOTLYENV || {};\n",
       "                    \n",
       "                if (document.getElementById(\"1a1ab1cc-93d2-4ca0-8e97-f0a3a4c1782b\")) {\n",
       "                    Plotly.newPlot(\n",
       "                        '1a1ab1cc-93d2-4ca0-8e97-f0a3a4c1782b',\n",
       "                        [{\"alignmentgroup\": \"True\", \"bingroup\": \"x\", \"hoverlabel\": {\"namelength\": 0}, \"hovertemplate\": \"method=LU<br>T=%{x}<br>count=%{y}\", \"legendgroup\": \"method=LU\", \"marker\": {\"color\": \"#636efa\"}, \"name\": \"method=LU\", \"offsetgroup\": \"method=LU\", \"orientation\": \"v\", \"showlegend\": true, \"type\": \"histogram\", \"x\": [-3.331514288228108, -2.0649237940388177, -2.950814065724437, -3.4610092371009813, -3.4196203268496945, -3.377813228521149, -3.8784061660626157, -4.181662549155647, -4.1546045297116265, -4.03030779963473, -3.4751874719467972, -4.137865278636817, -2.2187223757461005, -4.077831457231434, -4.195099281389139, -4.287526192019847, -3.4342099122355574, -2.5476553917004354, -3.5406634903437517, -1.8949092701205466, -2.5823285853677045, -3.832658223135253, -4.116607068314789, -4.14850016121756, -3.42044393305216, -4.336679979776054, -3.0622615036796623, -3.8359560626771656, -1.5061733837848497, -2.301497065878097, -4.115496022062844, -4.1489986243000745, -3.362482555614018, -4.049613287751349, -4.12651468879082, -2.3986360752314377, -2.9375988323458833, -3.134672248157914, -2.715950090001516, -3.073732787555187, -4.024127922023362, -4.08334834283334, -2.6810427481929624, -2.894654808525409, -3.0074025083451015, -2.048780862182406, -2.444529395263199, -3.1225928070866718, -4.344897975565476, -4.1386126293135765, -4.145093105625052, -3.872750978577256, -4.062846294375314, -4.172850413211311, -2.101548036968459, -3.901965755459753, -1.9578966697121316, -2.5488197561865844, -2.6318970894535085, -3.9239441376614184, -4.069954752176728, -4.158562700117551, -4.105002197294117, -4.102403067982711, -4.040544104178254, -2.1550971303582975, -4.060119290518982, -2.163378841007553, -4.013450365924678, -3.209916729991717, -1.7708280483760312, -3.899796608356903, -2.703775920675383, -2.9417375341585097, -2.387216505718369, -3.3548669050846245, -3.3430819369087468, -3.935385590783811, -3.9946947107554873, -3.9968204957629943, -4.096120926926918, -2.1933007632041055, -4.116650950739153, -4.119038128487244, -4.1068111310232815, -4.162092573972141, -3.5316099507730465, -4.241918444080398, -4.340112707232551, -1.7107386235197788, -3.1720845148567296, -2.72942084863425, -4.173128973366629, -4.242631633976698, -4.219831053040655, -4.161052182201431, -4.093487576328983, -4.168588845733477, -4.217870633433991, -2.086562170202858, -2.7396480456716708, -2.7527220699175734, -3.0676117196935495, -3.711493073532056, -4.160945144470528, -4.070555231181498, -3.448572936549849, -3.3496361406925867, -2.9952326730333203, -2.760719439257092, -4.292763309140835, -4.156535986432278, -4.1162268346127275, -4.134613340272715, -4.156383767846095, -4.160104532149617, -4.174832973531088, -4.221340438293418, -1.8341139403198528, -2.7992235655038007, -2.890487159146918, -2.7369755827811026, -3.54298507137808, -3.540392167891799, -2.758983121733967, -3.3934322744320253, -2.293824503186001, -4.345964485421454, -4.193597364186529, -4.151631001009249, -3.4006405908981248, -4.173980610496833, -2.9967923674205186, -2.530027378506764, -2.764795226484291, -4.176058549433607, -4.11193729944585, -4.072302860094468, -2.6825302345982527, -1.3512363218075207, -3.906093032648212, -3.5371829989052466, -4.121622109253169, -4.093301786399692, -4.223389052943717, -4.2186802582980745, -2.8726506982587034, -2.0796017718011526, -4.085316944983081, -2.723635810897722, -2.458645102009275, -2.8445071095484606, -3.7112492317548993, -3.9332402165318854, -2.784704825947028, -3.9932843371609352, -4.015709000213577, -4.177736454311, -4.069605802163766, -4.204701440917303, -4.05624232735047, -4.104207301925523, -1.9162766111688572, -2.9062945162320526, -2.814528889034818, -2.757723261280189, -3.200462618677842, -3.1967070254159125, -3.892229746623547, -2.2404913217014357, -1.692933471213948, -3.645859559364141, -3.399997425932731, -2.8602897568216443, -2.2120774264905276, -4.2636402112140654, -1.6215508789231647, -3.852531766341271, -2.7042710257350335, -3.047841241860225, -3.8810955342973283, -3.1805154299875635, -4.149769465386285, -2.311535686286481, -2.349278419893678, -3.6421848446238703, -3.8608105382053384, -2.2643566382357307, -2.8749680496651866, -4.31638103385672, -4.117075246816391, -4.056710627567009, -3.5099341935244293, -4.147760477134592, -4.104337332482888, -4.145650103870607, -4.176524351786568, -4.157983219803667, -4.1682653382938355, -4.198840151540159], \"xaxis\": \"x\", \"yaxis\": \"y\"}, {\"alignmentgroup\": \"True\", \"bingroup\": \"x\", \"hoverlabel\": {\"namelength\": 0}, \"hovertemplate\": \"method=GMRES_sparse<br>T=%{x}<br>count=%{y}\", \"legendgroup\": \"method=GMRES_sparse\", \"marker\": {\"color\": \"#EF553B\"}, \"name\": \"method=GMRES_sparse\", \"offsetgroup\": \"method=GMRES_sparse\", \"orientation\": \"v\", \"showlegend\": true, \"type\": \"histogram\", \"x\": [-6.482999592065696, -6.536642484570074, -6.045620146103441, -6.756747393542931, -6.7602385152733415, -6.781865475886515, -6.780395041843606, -6.8132548363281025, -6.809790129527412, -6.83651680249927, -6.819783695210567, -6.828996306979009, -6.82965760976956, -6.840967188126746, -6.669633520781162, -6.665508257102315, -6.714794427496032, -6.81087156144853, -6.734648166772674, -6.765394760584114, -6.781024963124278, -6.786500966698618, -6.688410743882498, -6.6686944654017974, -6.687645193605875, -6.72884989000604, -6.645316777392735, -6.714008418416461, -6.702291822753212, -6.722292489459881, -6.721302684370658, -6.661772727917228, -6.694363713934871, -6.722094450049391, -6.701515575867736, -6.67490858953175, -6.6798319094556255, -6.703068672666042, -6.573333089747739, -6.628586072534329, -6.550890571860611, -4.046635631614738, -6.6608410218962275, -6.638554437815221, -6.6194306365334254, -6.690902837571384, -6.678314458481592, -6.674153302486782, -6.678314458481592, -6.6160411051462535, -6.6798319094556255, -6.740681974298223, -6.6249857086091515, -6.723481550242072, -6.6536033545959965, -6.717944656523778, -6.723878218236166, -6.715581054871894, -6.375209849762462, -6.630210475021292, -6.753268417354186, -6.708132960856246, -6.721302684370658, -6.680781486965018, -6.658608462829378, -6.72705723939152, -6.661027293667279, -6.667943855496036, -6.717944656523778, -6.688602223059723, -6.555573637786781, -6.579323693884896, -6.690135377825349, -6.345694536654078, -6.658422641031946, -6.643850770166643, -6.66644432381861, -6.702291822753212, -6.629488192577467, -6.679072896136454, -6.6815417987294525, -6.699771220352264, -6.7151876638361365, -6.663825541925416, -6.676042590787275, -6.694171128474478, -6.6563808769815695, -6.614439538828296, -6.67755659561849, -6.667943855496036, -6.669257792803794, -6.650649142698565, -6.6287664314490575, -6.659352095509119, -6.694171128474478, -6.695905734286686, -6.684016811891977, -6.546561560771026, -6.717156168408809, -6.718141875733568, -6.990038609652515, -7.299440756156945, -7.308298209991006, -7.357159551070677, -7.348971935551096, -7.337181084139791, -7.37297909001557, -7.339748479645038, -7.3871257606560485, -7.3474904537986525, -7.376020917456056, -7.3665457660297715, -7.379072025848951, -7.355292834082838, -7.360528448136782, -7.364661461722473, -7.337181084139791, -7.379836259741707, -7.371461639041537, -7.3855867068701455, -7.384433968990337, -7.3556658988138945, -7.352685270675757, -6.79882581459291, -6.554903284150147, -6.568566311910085, -6.348688958382496, -5.971612853537017, -6.556412212259401, -7.096463919574723, -6.593152782035941, -6.643118571708158, -6.439673718964647, -6.277027893965148, -6.571287402024446, -6.571287402024446, -6.641655781174879, -7.002279939750619, -7.222087865486022, -7.187435697780449, -7.224048650427962, -7.267163097237595, -7.341954362892449, -7.3556658988138945, -7.374498847146986, -7.381366481922475, -7.363532581075777, -7.340115789107386, -7.29486569978693, -7.251911149320699, -7.3665457660297715, -7.376020917456056, -7.284387084871484, -7.225030486540219, -7.114770402041234, -7.166526838081216, -7.0633304908364725, -7.173033445079771, -7.154859527345836, -7.156692708427498, -7.2729860285731736, -7.28299819575933, -7.236225861949881, -7.212664562611484, -7.251574845298697, -7.150899126129739, -7.307942401412265, -7.2185030482202555, -7.18240265790146, -7.117413187311602, -7.081885985262726, -6.584832401222172, -7.170549743088924, -7.135811332375142, -7.139712312565924, -7.212988030186681, -7.319031765634114, -7.096176025517747, -7.198215764128118, -7.2224143961011675, -7.0796184105949465, -7.199491681366605, -7.1745888972521445, -7.2675046856269105, -7.199491681366605, -7.129541719361547, -7.281957793376597, -7.221108912887037, -7.120652771944301, -7.048126327876038, -6.953939112816337, -6.576923144035259, -6.313202875752756, -7.050598517021427, -7.143326774332289, -7.218177792078179, -7.139712312565924, -6.554903284150147, -6.704624185326567, -7.020527173525109], \"xaxis\": \"x\", \"yaxis\": \"y\"}],\n",
       "                        {\"barmode\": \"relative\", \"height\": 600, \"legend\": {\"tracegroupgap\": 0}, \"margin\": {\"t\": 60}, \"template\": {\"data\": {\"bar\": [{\"error_x\": {\"color\": \"#2a3f5f\"}, \"error_y\": {\"color\": \"#2a3f5f\"}, \"marker\": {\"line\": {\"color\": \"#E5ECF6\", \"width\": 0.5}}, \"type\": \"bar\"}], \"barpolar\": [{\"marker\": {\"line\": {\"color\": \"#E5ECF6\", \"width\": 0.5}}, \"type\": \"barpolar\"}], \"carpet\": [{\"aaxis\": {\"endlinecolor\": \"#2a3f5f\", \"gridcolor\": \"white\", \"linecolor\": \"white\", \"minorgridcolor\": \"white\", \"startlinecolor\": \"#2a3f5f\"}, \"baxis\": {\"endlinecolor\": \"#2a3f5f\", \"gridcolor\": \"white\", \"linecolor\": \"white\", \"minorgridcolor\": \"white\", \"startlinecolor\": \"#2a3f5f\"}, \"type\": \"carpet\"}], \"choropleth\": [{\"colorbar\": {\"outlinewidth\": 0, \"ticks\": \"\"}, \"type\": \"choropleth\"}], \"contour\": [{\"colorbar\": {\"outlinewidth\": 0, \"ticks\": \"\"}, \"colorscale\": [[0.0, \"#0d0887\"], [0.1111111111111111, \"#46039f\"], [0.2222222222222222, \"#7201a8\"], [0.3333333333333333, \"#9c179e\"], [0.4444444444444444, \"#bd3786\"], [0.5555555555555556, \"#d8576b\"], [0.6666666666666666, \"#ed7953\"], [0.7777777777777778, \"#fb9f3a\"], [0.8888888888888888, \"#fdca26\"], [1.0, \"#f0f921\"]], \"type\": \"contour\"}], \"contourcarpet\": [{\"colorbar\": {\"outlinewidth\": 0, \"ticks\": \"\"}, \"type\": \"contourcarpet\"}], \"heatmap\": [{\"colorbar\": {\"outlinewidth\": 0, \"ticks\": \"\"}, \"colorscale\": [[0.0, \"#0d0887\"], [0.1111111111111111, \"#46039f\"], [0.2222222222222222, \"#7201a8\"], [0.3333333333333333, \"#9c179e\"], [0.4444444444444444, \"#bd3786\"], [0.5555555555555556, \"#d8576b\"], [0.6666666666666666, \"#ed7953\"], [0.7777777777777778, \"#fb9f3a\"], [0.8888888888888888, \"#fdca26\"], [1.0, \"#f0f921\"]], \"type\": \"heatmap\"}], \"heatmapgl\": [{\"colorbar\": {\"outlinewidth\": 0, \"ticks\": \"\"}, \"colorscale\": [[0.0, \"#0d0887\"], [0.1111111111111111, \"#46039f\"], [0.2222222222222222, \"#7201a8\"], [0.3333333333333333, \"#9c179e\"], [0.4444444444444444, \"#bd3786\"], [0.5555555555555556, \"#d8576b\"], [0.6666666666666666, \"#ed7953\"], [0.7777777777777778, \"#fb9f3a\"], [0.8888888888888888, \"#fdca26\"], [1.0, \"#f0f921\"]], \"type\": \"heatmapgl\"}], \"histogram\": [{\"marker\": {\"colorbar\": {\"outlinewidth\": 0, \"ticks\": \"\"}}, \"type\": \"histogram\"}], \"histogram2d\": [{\"colorbar\": {\"outlinewidth\": 0, \"ticks\": \"\"}, \"colorscale\": [[0.0, \"#0d0887\"], [0.1111111111111111, \"#46039f\"], [0.2222222222222222, \"#7201a8\"], [0.3333333333333333, \"#9c179e\"], [0.4444444444444444, \"#bd3786\"], [0.5555555555555556, \"#d8576b\"], [0.6666666666666666, \"#ed7953\"], [0.7777777777777778, \"#fb9f3a\"], [0.8888888888888888, \"#fdca26\"], [1.0, \"#f0f921\"]], \"type\": \"histogram2d\"}], \"histogram2dcontour\": [{\"colorbar\": {\"outlinewidth\": 0, \"ticks\": \"\"}, \"colorscale\": [[0.0, \"#0d0887\"], [0.1111111111111111, \"#46039f\"], [0.2222222222222222, \"#7201a8\"], [0.3333333333333333, \"#9c179e\"], [0.4444444444444444, \"#bd3786\"], [0.5555555555555556, \"#d8576b\"], [0.6666666666666666, \"#ed7953\"], [0.7777777777777778, \"#fb9f3a\"], [0.8888888888888888, \"#fdca26\"], [1.0, \"#f0f921\"]], \"type\": \"histogram2dcontour\"}], \"mesh3d\": [{\"colorbar\": {\"outlinewidth\": 0, \"ticks\": \"\"}, \"type\": \"mesh3d\"}], \"parcoords\": [{\"line\": {\"colorbar\": {\"outlinewidth\": 0, \"ticks\": \"\"}}, \"type\": \"parcoords\"}], \"scatter\": [{\"marker\": {\"colorbar\": {\"outlinewidth\": 0, \"ticks\": \"\"}}, \"type\": \"scatter\"}], \"scatter3d\": [{\"line\": {\"colorbar\": {\"outlinewidth\": 0, \"ticks\": \"\"}}, \"marker\": {\"colorbar\": {\"outlinewidth\": 0, \"ticks\": \"\"}}, \"type\": \"scatter3d\"}], \"scattercarpet\": [{\"marker\": {\"colorbar\": {\"outlinewidth\": 0, \"ticks\": \"\"}}, \"type\": \"scattercarpet\"}], \"scattergeo\": [{\"marker\": {\"colorbar\": {\"outlinewidth\": 0, \"ticks\": \"\"}}, \"type\": \"scattergeo\"}], \"scattergl\": [{\"marker\": {\"colorbar\": {\"outlinewidth\": 0, \"ticks\": \"\"}}, \"type\": \"scattergl\"}], \"scattermapbox\": [{\"marker\": {\"colorbar\": {\"outlinewidth\": 0, \"ticks\": \"\"}}, \"type\": \"scattermapbox\"}], \"scatterpolar\": [{\"marker\": {\"colorbar\": {\"outlinewidth\": 0, \"ticks\": \"\"}}, \"type\": \"scatterpolar\"}], \"scatterpolargl\": [{\"marker\": {\"colorbar\": {\"outlinewidth\": 0, \"ticks\": \"\"}}, \"type\": \"scatterpolargl\"}], \"scatterternary\": [{\"marker\": {\"colorbar\": {\"outlinewidth\": 0, \"ticks\": \"\"}}, \"type\": \"scatterternary\"}], \"surface\": [{\"colorbar\": {\"outlinewidth\": 0, \"ticks\": \"\"}, \"colorscale\": [[0.0, \"#0d0887\"], [0.1111111111111111, \"#46039f\"], [0.2222222222222222, \"#7201a8\"], [0.3333333333333333, \"#9c179e\"], [0.4444444444444444, \"#bd3786\"], [0.5555555555555556, \"#d8576b\"], [0.6666666666666666, \"#ed7953\"], [0.7777777777777778, \"#fb9f3a\"], [0.8888888888888888, \"#fdca26\"], [1.0, \"#f0f921\"]], \"type\": \"surface\"}], \"table\": [{\"cells\": {\"fill\": {\"color\": \"#EBF0F8\"}, \"line\": {\"color\": \"white\"}}, \"header\": {\"fill\": {\"color\": \"#C8D4E3\"}, \"line\": {\"color\": \"white\"}}, \"type\": \"table\"}]}, \"layout\": {\"annotationdefaults\": {\"arrowcolor\": \"#2a3f5f\", \"arrowhead\": 0, \"arrowwidth\": 1}, \"colorscale\": {\"diverging\": [[0, \"#8e0152\"], [0.1, \"#c51b7d\"], [0.2, \"#de77ae\"], [0.3, \"#f1b6da\"], [0.4, \"#fde0ef\"], [0.5, \"#f7f7f7\"], [0.6, \"#e6f5d0\"], [0.7, \"#b8e186\"], [0.8, \"#7fbc41\"], [0.9, \"#4d9221\"], [1, \"#276419\"]], \"sequential\": [[0.0, \"#0d0887\"], [0.1111111111111111, \"#46039f\"], [0.2222222222222222, \"#7201a8\"], [0.3333333333333333, \"#9c179e\"], [0.4444444444444444, \"#bd3786\"], [0.5555555555555556, \"#d8576b\"], [0.6666666666666666, \"#ed7953\"], [0.7777777777777778, \"#fb9f3a\"], [0.8888888888888888, \"#fdca26\"], [1.0, \"#f0f921\"]], \"sequentialminus\": [[0.0, \"#0d0887\"], [0.1111111111111111, \"#46039f\"], [0.2222222222222222, \"#7201a8\"], [0.3333333333333333, \"#9c179e\"], [0.4444444444444444, \"#bd3786\"], [0.5555555555555556, \"#d8576b\"], [0.6666666666666666, \"#ed7953\"], [0.7777777777777778, \"#fb9f3a\"], [0.8888888888888888, \"#fdca26\"], [1.0, \"#f0f921\"]]}, \"colorway\": [\"#636efa\", \"#EF553B\", \"#00cc96\", \"#ab63fa\", \"#FFA15A\", \"#19d3f3\", \"#FF6692\", \"#B6E880\", \"#FF97FF\", \"#FECB52\"], \"font\": {\"color\": \"#2a3f5f\"}, \"geo\": {\"bgcolor\": \"white\", \"lakecolor\": \"white\", \"landcolor\": \"#E5ECF6\", \"showlakes\": true, \"showland\": true, \"subunitcolor\": \"white\"}, \"hoverlabel\": {\"align\": \"left\"}, \"hovermode\": \"closest\", \"mapbox\": {\"style\": \"light\"}, \"paper_bgcolor\": \"white\", \"plot_bgcolor\": \"#E5ECF6\", \"polar\": {\"angularaxis\": {\"gridcolor\": \"white\", \"linecolor\": \"white\", \"ticks\": \"\"}, \"bgcolor\": \"#E5ECF6\", \"radialaxis\": {\"gridcolor\": \"white\", \"linecolor\": \"white\", \"ticks\": \"\"}}, \"scene\": {\"xaxis\": {\"backgroundcolor\": \"#E5ECF6\", \"gridcolor\": \"white\", \"gridwidth\": 2, \"linecolor\": \"white\", \"showbackground\": true, \"ticks\": \"\", \"zerolinecolor\": \"white\"}, \"yaxis\": {\"backgroundcolor\": \"#E5ECF6\", \"gridcolor\": \"white\", \"gridwidth\": 2, \"linecolor\": \"white\", \"showbackground\": true, \"ticks\": \"\", \"zerolinecolor\": \"white\"}, \"zaxis\": {\"backgroundcolor\": \"#E5ECF6\", \"gridcolor\": \"white\", \"gridwidth\": 2, \"linecolor\": \"white\", \"showbackground\": true, \"ticks\": \"\", \"zerolinecolor\": \"white\"}}, \"shapedefaults\": {\"line\": {\"color\": \"#2a3f5f\"}}, \"ternary\": {\"aaxis\": {\"gridcolor\": \"white\", \"linecolor\": \"white\", \"ticks\": \"\"}, \"baxis\": {\"gridcolor\": \"white\", \"linecolor\": \"white\", \"ticks\": \"\"}, \"bgcolor\": \"#E5ECF6\", \"caxis\": {\"gridcolor\": \"white\", \"linecolor\": \"white\", \"ticks\": \"\"}}, \"title\": {\"x\": 0.05}, \"xaxis\": {\"automargin\": true, \"gridcolor\": \"white\", \"linecolor\": \"white\", \"ticks\": \"\", \"zerolinecolor\": \"white\", \"zerolinewidth\": 2}, \"yaxis\": {\"automargin\": true, \"gridcolor\": \"white\", \"linecolor\": \"white\", \"ticks\": \"\", \"zerolinecolor\": \"white\", \"zerolinewidth\": 2}}}, \"xaxis\": {\"anchor\": \"y\", \"domain\": [0.0, 0.98], \"title\": {\"text\": \"T\"}}, \"yaxis\": {\"anchor\": \"x\", \"domain\": [0.0, 1.0], \"title\": {\"text\": \"count\"}}},\n",
       "                        {\"responsive\": true}\n",
       "                    ).then(function(){\n",
       "                            \n",
       "var gd = document.getElementById('1a1ab1cc-93d2-4ca0-8e97-f0a3a4c1782b');\n",
       "var x = new MutationObserver(function (mutations, observer) {{\n",
       "        var display = window.getComputedStyle(gd).display;\n",
       "        if (!display || display === 'none') {{\n",
       "            console.log([gd, 'removed!']);\n",
       "            Plotly.purge(gd);\n",
       "            observer.disconnect();\n",
       "        }}\n",
       "}});\n",
       "\n",
       "// Listen for the removal of the full notebook cells\n",
       "var notebookContainer = gd.closest('#notebook-container');\n",
       "if (notebookContainer) {{\n",
       "    x.observe(notebookContainer, {childList: true});\n",
       "}}\n",
       "\n",
       "// Listen for the clearing of the current output cell\n",
       "var outputEl = gd.closest('.output');\n",
       "if (outputEl) {{\n",
       "    x.observe(outputEl, {childList: true});\n",
       "}}\n",
       "\n",
       "                        })\n",
       "                };\n",
       "                });\n",
       "            </script>\n",
       "        </div>"
      ]
     },
     "metadata": {},
     "output_type": "display_data"
    }
   ],
   "source": [
    "import pandas as pd\n",
    "import plotly.express as px\n",
    "ans_df=pd.DataFrame({'T_LU':np.log(T_lu), \n",
    "                     #'T_GMRES' : np.log(T_gmres), \n",
    "                     'T_GMRES_sparse':np.log(T_gmres_sparse)} )\n",
    "ans_df['id']=ans_df.index\n",
    "tidy_ans_df=pd.wide_to_long(ans_df,stubnames='T',i='id',j='method', sep='_', suffix='\\w+').reset_index().drop(columns='id')\n",
    "#tidy_ans_df['method']=tidy_ans_df['method'].astype('category')\n",
    "px.histogram(tidy_ans_df, x='T', color='method')"
   ]
  },
  {
   "cell_type": "code",
   "execution_count": 388,
   "metadata": {},
   "outputs": [
    {
     "name": "stdout",
     "output_type": "stream",
     "text": [
      "1722\n"
     ]
    },
    {
     "data": {
      "text/plain": [
       "<matplotlib.lines.Line2D at 0x7f82c5898240>"
      ]
     },
     "execution_count": 388,
     "metadata": {},
     "output_type": "execute_result"
    },
    {
     "data": {
      "image/png": "[encoded data removed]",
      "text/plain": [
       "<Figure size 432x288 with 1 Axes>"
      ]
     },
     "metadata": {
      "needs_background": "light"
     },
     "output_type": "display_data"
    }
   ],
   "source": [
    "\n",
    "np.random.seed(12345)\n",
    "matrixSize = 1000\n",
    "A=2*np.random.rand(matrixSize,matrixSize)-1\n",
    "A=0.5*(A+A.T)\n",
    "np.fill_diagonal(A, 1)\n",
    "A[A < 0.96] = 0\n",
    "\n",
    "b = np.matrix(np.ones((matrixSize, 1)))\n",
    "x1 = np.matrix(np.ones((matrixSize, 1)))\n",
    "spA = scipy.sparse.csc_matrix (A)\n",
    "print(spA.nnz)\n",
    "plt.spy(spA,markersize=1)"
   ]
  },
  {
   "cell_type": "code",
   "execution_count": 397,
   "metadata": {},
   "outputs": [],
   "source": [
    "T_cg=[]\n",
    "T_gmres_sparse=[]\n",
    "\n",
    "for k in range(1,100+1):\n",
    "    t = time.time()\n",
    "    x, info = scipy.sparse.linalg.cg(spA, b, x0=x1, tol=tol)\n",
    "    elapsed = time.time() - t\n",
    "    T_cg.append(elapsed)\n",
    "\n",
    "for k in range(1,100+1):\n",
    "    t = time.time()\n",
    "    x, info = scipy.sparse.linalg.gmres(spA, b, x0=x1, tol=tol)\n",
    "    elapsed = time.time() - t\n",
    "    T_gmres_sparse.append(elapsed)    "
   ]
  },
  {
   "cell_type": "code",
   "execution_count": 399,
   "metadata": {},
   "outputs": [
    {
     "data": {
      "application/vnd.plotly.v1+json": {
       "config": {
        "plotlyServerURL": "https://plot.ly"
       },
       "data": [
        {
         "alignmentgroup": "True",
         "bingroup": "x",
         "hoverlabel": {
          "namelength": 0
         },
         "hovertemplate": "method=CG<br>T=%{x}<br>count=%{y}",
         "legendgroup": "method=CG",
         "marker": {
          "color": "#636efa"
         },
         "name": "method=CG",
         "offsetgroup": "method=CG",
         "orientation": "v",
         "showlegend": true,
         "type": "histogram",
         "x": [
          -4.049449149272817,
          -4.036458600660056,
          -4.2258496800967755,
          -4.170655599507585,
          -4.2855498382681265,
          -4.324217179213235,
          -4.3364612690747615,
          -4.387070921416727,
          -4.351073736513436,
          -4.361203087402532,
          -4.384849676990045,
          -3.795935131332541,
          -4.3720779656704085,
          -4.357120421850789,
          -4.309368207650693,
          -4.335823635947246,
          -4.364646204576512,
          -4.362156242698825,
          -4.348359078471964,
          -4.287370022002438,
          -4.333059193622199,
          -4.361763656955862,
          -3.9513390905608308,
          -4.39110473403205,
          -4.3754072035889315,
          -4.34188846766037,
          -4.353313793729226,
          -4.360661502038244,
          -4.386687596064645,
          -4.335386636668624,
          -4.342658332971971,
          -4.321269180457634,
          -4.264487769449672,
          -3.565068750095133,
          -4.346424538979801,
          -4.337135780763006,
          -4.33520460998301,
          -4.349595457699594,
          -4.34976165501312,
          -4.321197386506244,
          -4.341558706734051,
          -4.3749336245539485,
          -3.5679039557746104,
          -4.386017130065677,
          -4.324739377138111,
          -4.337044603943737,
          -4.377000073936151,
          -4.351166201538606,
          -4.33843138956095,
          -4.381069603760421,
          -4.352998771814067,
          -4.360437483518442,
          -3.5601767096417,
          -4.363016731359799,
          -4.370342083425425,
          -4.366390996441531,
          -4.35816280602648,
          -4.354166703873083,
          -4.2915429250914645,
          -4.347916567955119,
          -4.278388029119517,
          -4.2941773291203456,
          -3.479208206110928,
          -4.27888682942914,
          -4.307011993154988,
          -4.325568250818375,
          -4.302985639860291,
          -4.248806188215256,
          -4.283750249611291,
          -4.225295103192106,
          -4.252200925457021,
          -3.206007838045094,
          -3.6858475559423565,
          -4.210484813466524,
          -4.261355385686147,
          -4.320946148259283,
          -4.306162991565175,
          -4.313313546788858,
          -4.339344798466254,
          -4.221600347326721,
          -4.118481098906297,
          -4.084707538851736,
          -4.10981394025134,
          -4.097425857886233,
          -4.292676089443082,
          -3.9473916274617205,
          -4.154862855005388,
          -4.291595196729757,
          -4.274064069053815,
          -3.553124659226656,
          -4.282074700995455,
          -4.258249635869277,
          -4.208077687213965,
          -4.286797607176876,
          -4.2723362881376525,
          -4.254783952723448,
          -4.2573905075789105,
          -4.228103772717577,
          -3.483338346075685,
          -4.2847534669092555
         ],
         "xaxis": "x",
         "yaxis": "y"
        },
        {
         "alignmentgroup": "True",
         "bingroup": "x",
         "hoverlabel": {
          "namelength": 0
         },
         "hovertemplate": "method=GMRES_sparse<br>T=%{x}<br>count=%{y}",
         "legendgroup": "method=GMRES_sparse",
         "marker": {
          "color": "#EF553B"
         },
         "name": "method=GMRES_sparse",
         "offsetgroup": "method=GMRES_sparse",
         "orientation": "v",
         "showlegend": true,
         "type": "histogram",
         "x": [
          -0.9419470047944382,
          -0.9456861949667932,
          -0.8475181039332631,
          -0.9541770010161958,
          -1.0258073221872475,
          -1.0929352364164189,
          -0.9868069123658374,
          -1.0322904081667947,
          -1.0071729254732886,
          -1.062739885863249,
          -0.9940683084483242,
          -1.0869258522296117,
          -0.937100719968367,
          -1.0948972455559165,
          -1.088194917557304,
          -1.1217813577457798,
          -0.912916014818988,
          -1.0222901749760693,
          -1.008877413247826,
          -1.0098652414539095,
          -1.1001866130515834,
          -1.084992811652181,
          -1.069208614048745,
          -1.0463794347939475,
          -1.0634874921601525,
          -0.9797204268652976,
          -1.0557164115837963,
          -1.0152605301806825,
          -0.705855670885571,
          -0.7374287050822033,
          -0.8783910558435476,
          -0.7804214594259127,
          -0.1852108777740504,
          -0.5724721278839435,
          -0.8074767327781143,
          -1.0113625811070102,
          -0.9424369656532485,
          -0.926838127808455,
          -0.8133579373019555,
          -0.8688563169231548,
          -0.9362460302401683,
          -1.084655601099798,
          -0.9812076153939201,
          -1.0105356885768844,
          -0.9057963267815929,
          -0.930703746851919,
          -0.9595163985857957,
          -0.9153813401982855,
          -0.9557568555397442,
          -0.9991592712813626,
          -0.8351579818925028,
          -0.9727601150380878,
          -0.8598182649437157,
          -0.8942875119388927,
          -0.8107602382165081,
          -0.9774988521994139,
          -0.9687212516690794,
          -0.8682624803607755,
          -0.8580690002523887,
          -0.7794416515021985,
          -1.0255420096105734,
          -1.0534085050247264,
          -1.0203543235935675,
          -0.8928477711814266,
          -1.0418535839762244,
          -1.0324229497318225,
          -1.074709118211499,
          -1.0433942183350553,
          -0.9708132309488404,
          -0.9954602254339808,
          -1.1016505374757313,
          -0.7906605798908941,
          -0.9339356402362358,
          -1.0287397535395133,
          -0.726784336323092,
          -0.8452404391713457,
          -0.957500688802077,
          -0.9350628372742155,
          -0.9825237777111611,
          -1.0320380922297638,
          -1.121793802180464,
          -1.1646686848281564,
          -1.1755372338828276,
          -1.1774508732993731,
          -1.1738215539027597,
          -1.1452419147367994,
          -1.0872482713942846,
          -1.0435790103582516,
          -1.0093581216446592,
          -1.0430504471208846,
          -1.0537811600800364,
          -1.0861633487078712,
          -1.127975096667158,
          -1.108345014719916,
          -1.0039450486457033,
          -1.0015931117962247,
          -0.9515883433502821,
          -0.9938924420238956,
          -1.0685774847750933,
          -1.0054576535930948
         ],
         "xaxis": "x",
         "yaxis": "y"
        }
       ],
       "layout": {
        "barmode": "relative",
        "height": 600,
        "legend": {
         "tracegroupgap": 0
        },
        "margin": {
         "t": 60
        },
        "template": {
         "data": {
          "bar": [
           {
            "error_x": {
             "color": "#2a3f5f"
            },
            "error_y": {
             "color": "#2a3f5f"
            },
            "marker": {
             "line": {
              "color": "#E5ECF6",
              "width": 0.5
             }
            },
            "type": "bar"
           }
          ],
          "barpolar": [
           {
            "marker": {
             "line": {
              "color": "#E5ECF6",
              "width": 0.5
             }
            },
            "type": "barpolar"
           }
          ],
          "carpet": [
           {
            "aaxis": {
             "endlinecolor": "#2a3f5f",
             "gridcolor": "white",
             "linecolor": "white",
             "minorgridcolor": "white",
             "startlinecolor": "#2a3f5f"
            },
            "baxis": {
             "endlinecolor": "#2a3f5f",
             "gridcolor": "white",
             "linecolor": "white",
             "minorgridcolor": "white",
             "startlinecolor": "#2a3f5f"
            },
            "type": "carpet"
           }
          ],
          "choropleth": [
           {
            "colorbar": {
             "outlinewidth": 0,
             "ticks": ""
            },
            "type": "choropleth"
           }
          ],
          "contour": [
           {
            "colorbar": {
             "outlinewidth": 0,
             "ticks": ""
            },
            "colorscale": [
             [
              0,
              "#0d0887"
             ],
             [
              0.1111111111111111,
              "#46039f"
             ],
             [
              0.2222222222222222,
              "#7201a8"
             ],
             [
              0.3333333333333333,
              "#9c179e"
             ],
             [
              0.4444444444444444,
              "#bd3786"
             ],
             [
              0.5555555555555556,
              "#d8576b"
             ],
             [
              0.6666666666666666,
              "#ed7953"
             ],
             [
              0.7777777777777778,
              "#fb9f3a"
             ],
             [
              0.8888888888888888,
              "#fdca26"
             ],
             [
              1,
              "#f0f921"
             ]
            ],
            "type": "contour"
           }
          ],
          "contourcarpet": [
           {
            "colorbar": {
             "outlinewidth": 0,
             "ticks": ""
            },
            "type": "contourcarpet"
           }
          ],
          "heatmap": [
           {
            "colorbar": {
             "outlinewidth": 0,
             "ticks": ""
            },
            "colorscale": [
             [
              0,
              "#0d0887"
             ],
             [
              0.1111111111111111,
              "#46039f"
             ],
             [
              0.2222222222222222,
              "#7201a8"
             ],
             [
              0.3333333333333333,
              "#9c179e"
             ],
             [
              0.4444444444444444,
              "#bd3786"
             ],
             [
              0.5555555555555556,
              "#d8576b"
             ],
             [
              0.6666666666666666,
              "#ed7953"
             ],
             [
              0.7777777777777778,
              "#fb9f3a"
             ],
             [
              0.8888888888888888,
              "#fdca26"
             ],
             [
              1,
              "#f0f921"
             ]
            ],
            "type": "heatmap"
           }
          ],
          "heatmapgl": [
           {
            "colorbar": {
             "outlinewidth": 0,
             "ticks": ""
            },
            "colorscale": [
             [
              0,
              "#0d0887"
             ],
             [
              0.1111111111111111,
              "#46039f"
             ],
             [
              0.2222222222222222,
              "#7201a8"
             ],
             [
              0.3333333333333333,
              "#9c179e"
             ],
             [
              0.4444444444444444,
              "#bd3786"
             ],
             [
              0.5555555555555556,
              "#d8576b"
             ],
             [
              0.6666666666666666,
              "#ed7953"
             ],
             [
              0.7777777777777778,
              "#fb9f3a"
             ],
             [
              0.8888888888888888,
              "#fdca26"
             ],
             [
              1,
              "#f0f921"
             ]
            ],
            "type": "heatmapgl"
           }
          ],
          "histogram": [
           {
            "marker": {
             "colorbar": {
              "outlinewidth": 0,
              "ticks": ""
             }
            },
            "type": "histogram"
           }
          ],
          "histogram2d": [
           {
            "colorbar": {
             "outlinewidth": 0,
             "ticks": ""
            },
            "colorscale": [
             [
              0,
              "#0d0887"
             ],
             [
              0.1111111111111111,
              "#46039f"
             ],
             [
              0.2222222222222222,
              "#7201a8"
             ],
             [
              0.3333333333333333,
              "#9c179e"
             ],
             [
              0.4444444444444444,
              "#bd3786"
             ],
             [
              0.5555555555555556,
              "#d8576b"
             ],
             [
              0.6666666666666666,
              "#ed7953"
             ],
             [
              0.7777777777777778,
              "#fb9f3a"
             ],
             [
              0.8888888888888888,
              "#fdca26"
             ],
             [
              1,
              "#f0f921"
             ]
            ],
            "type": "histogram2d"
           }
          ],
          "histogram2dcontour": [
           {
            "colorbar": {
             "outlinewidth": 0,
             "ticks": ""
            },
            "colorscale": [
             [
              0,
              "#0d0887"
             ],
             [
              0.1111111111111111,
              "#46039f"
             ],
             [
              0.2222222222222222,
              "#7201a8"
             ],
             [
              0.3333333333333333,
              "#9c179e"
             ],
             [
              0.4444444444444444,
              "#bd3786"
             ],
             [
              0.5555555555555556,
              "#d8576b"
             ],
             [
              0.6666666666666666,
              "#ed7953"
             ],
             [
              0.7777777777777778,
              "#fb9f3a"
             ],
             [
              0.8888888888888888,
              "#fdca26"
             ],
             [
              1,
              "#f0f921"
             ]
            ],
            "type": "histogram2dcontour"
           }
          ],
          "mesh3d": [
           {
            "colorbar": {
             "outlinewidth": 0,
             "ticks": ""
            },
            "type": "mesh3d"
           }
          ],
          "parcoords": [
           {
            "line": {
             "colorbar": {
              "outlinewidth": 0,
              "ticks": ""
             }
            },
            "type": "parcoords"
           }
          ],
          "scatter": [
           {
            "marker": {
             "colorbar": {
              "outlinewidth": 0,
              "ticks": ""
             }
            },
            "type": "scatter"
           }
          ],
          "scatter3d": [
           {
            "line": {
             "colorbar": {
              "outlinewidth": 0,
              "ticks": ""
             }
            },
            "marker": {
             "colorbar": {
              "outlinewidth": 0,
              "ticks": ""
             }
            },
            "type": "scatter3d"
           }
          ],
          "scattercarpet": [
           {
            "marker": {
             "colorbar": {
              "outlinewidth": 0,
              "ticks": ""
             }
            },
            "type": "scattercarpet"
           }
          ],
          "scattergeo": [
           {
            "marker": {
             "colorbar": {
              "outlinewidth": 0,
              "ticks": ""
             }
            },
            "type": "scattergeo"
           }
          ],
          "scattergl": [
           {
            "marker": {
             "colorbar": {
              "outlinewidth": 0,
              "ticks": ""
             }
            },
            "type": "scattergl"
           }
          ],
          "scattermapbox": [
           {
            "marker": {
             "colorbar": {
              "outlinewidth": 0,
              "ticks": ""
             }
            },
            "type": "scattermapbox"
           }
          ],
          "scatterpolar": [
           {
            "marker": {
             "colorbar": {
              "outlinewidth": 0,
              "ticks": ""
             }
            },
            "type": "scatterpolar"
           }
          ],
          "scatterpolargl": [
           {
            "marker": {
             "colorbar": {
              "outlinewidth": 0,
              "ticks": ""
             }
            },
            "type": "scatterpolargl"
           }
          ],
          "scatterternary": [
           {
            "marker": {
             "colorbar": {
              "outlinewidth": 0,
              "ticks": ""
             }
            },
            "type": "scatterternary"
           }
          ],
          "surface": [
           {
            "colorbar": {
             "outlinewidth": 0,
             "ticks": ""
            },
            "colorscale": [
             [
              0,
              "#0d0887"
             ],
             [
              0.1111111111111111,
              "#46039f"
             ],
             [
              0.2222222222222222,
              "#7201a8"
             ],
             [
              0.3333333333333333,
              "#9c179e"
             ],
             [
              0.4444444444444444,
              "#bd3786"
             ],
             [
              0.5555555555555556,
              "#d8576b"
             ],
             [
              0.6666666666666666,
              "#ed7953"
             ],
             [
              0.7777777777777778,
              "#fb9f3a"
             ],
             [
              0.8888888888888888,
              "#fdca26"
             ],
             [
              1,
              "#f0f921"
             ]
            ],
            "type": "surface"
           }
          ],
          "table": [
           {
            "cells": {
             "fill": {
              "color": "#EBF0F8"
             },
             "line": {
              "color": "white"
             }
            },
            "header": {
             "fill": {
              "color": "#C8D4E3"
             },
             "line": {
              "color": "white"
             }
            },
            "type": "table"
           }
          ]
         },
         "layout": {
          "annotationdefaults": {
           "arrowcolor": "#2a3f5f",
           "arrowhead": 0,
           "arrowwidth": 1
          },
          "colorscale": {
           "diverging": [
            [
             0,
             "#8e0152"
            ],
            [
             0.1,
             "#c51b7d"
            ],
            [
             0.2,
             "#de77ae"
            ],
            [
             0.3,
             "#f1b6da"
            ],
            [
             0.4,
             "#fde0ef"
            ],
            [
             0.5,
             "#f7f7f7"
            ],
            [
             0.6,
             "#e6f5d0"
            ],
            [
             0.7,
             "#b8e186"
            ],
            [
             0.8,
             "#7fbc41"
            ],
            [
             0.9,
             "#4d9221"
            ],
            [
             1,
             "#276419"
            ]
           ],
           "sequential": [
            [
             0,
             "#0d0887"
            ],
            [
             0.1111111111111111,
             "#46039f"
            ],
            [
             0.2222222222222222,
             "#7201a8"
            ],
            [
             0.3333333333333333,
             "#9c179e"
            ],
            [
             0.4444444444444444,
             "#bd3786"
            ],
            [
             0.5555555555555556,
             "#d8576b"
            ],
            [
             0.6666666666666666,
             "#ed7953"
            ],
            [
             0.7777777777777778,
             "#fb9f3a"
            ],
            [
             0.8888888888888888,
             "#fdca26"
            ],
            [
             1,
             "#f0f921"
            ]
           ],
           "sequentialminus": [
            [
             0,
             "#0d0887"
            ],
            [
             0.1111111111111111,
             "#46039f"
            ],
            [
             0.2222222222222222,
             "#7201a8"
            ],
            [
             0.3333333333333333,
             "#9c179e"
            ],
            [
             0.4444444444444444,
             "#bd3786"
            ],
            [
             0.5555555555555556,
             "#d8576b"
            ],
            [
             0.6666666666666666,
             "#ed7953"
            ],
            [
             0.7777777777777778,
             "#fb9f3a"
            ],
            [
             0.8888888888888888,
             "#fdca26"
            ],
            [
             1,
             "#f0f921"
            ]
           ]
          },
          "colorway": [
           "#636efa",
           "#EF553B",
           "#00cc96",
           "#ab63fa",
           "#FFA15A",
           "#19d3f3",
           "#FF6692",
           "#B6E880",
           "#FF97FF",
           "#FECB52"
          ],
          "font": {
           "color": "#2a3f5f"
          },
          "geo": {
           "bgcolor": "white",
           "lakecolor": "white",
           "landcolor": "#E5ECF6",
           "showlakes": true,
           "showland": true,
           "subunitcolor": "white"
          },
          "hoverlabel": {
           "align": "left"
          },
          "hovermode": "closest",
          "mapbox": {
           "style": "light"
          },
          "paper_bgcolor": "white",
          "plot_bgcolor": "#E5ECF6",
          "polar": {
           "angularaxis": {
            "gridcolor": "white",
            "linecolor": "white",
            "ticks": ""
           },
           "bgcolor": "#E5ECF6",
           "radialaxis": {
            "gridcolor": "white",
            "linecolor": "white",
            "ticks": ""
           }
          },
          "scene": {
           "xaxis": {
            "backgroundcolor": "#E5ECF6",
            "gridcolor": "white",
            "gridwidth": 2,
            "linecolor": "white",
            "showbackground": true,
            "ticks": "",
            "zerolinecolor": "white"
           },
           "yaxis": {
            "backgroundcolor": "#E5ECF6",
            "gridcolor": "white",
            "gridwidth": 2,
            "linecolor": "white",
            "showbackground": true,
            "ticks": "",
            "zerolinecolor": "white"
           },
           "zaxis": {
            "backgroundcolor": "#E5ECF6",
            "gridcolor": "white",
            "gridwidth": 2,
            "linecolor": "white",
            "showbackground": true,
            "ticks": "",
            "zerolinecolor": "white"
           }
          },
          "shapedefaults": {
           "line": {
            "color": "#2a3f5f"
           }
          },
          "ternary": {
           "aaxis": {
            "gridcolor": "white",
            "linecolor": "white",
            "ticks": ""
           },
           "baxis": {
            "gridcolor": "white",
            "linecolor": "white",
            "ticks": ""
           },
           "bgcolor": "#E5ECF6",
           "caxis": {
            "gridcolor": "white",
            "linecolor": "white",
            "ticks": ""
           }
          },
          "title": {
           "x": 0.05
          },
          "xaxis": {
           "automargin": true,
           "gridcolor": "white",
           "linecolor": "white",
           "ticks": "",
           "zerolinecolor": "white",
           "zerolinewidth": 2
          },
          "yaxis": {
           "automargin": true,
           "gridcolor": "white",
           "linecolor": "white",
           "ticks": "",
           "zerolinecolor": "white",
           "zerolinewidth": 2
          }
         }
        },
        "xaxis": {
         "anchor": "y",
         "domain": [
          0,
          0.98
         ],
         "title": {
          "text": "T"
         }
        },
        "yaxis": {
         "anchor": "x",
         "domain": [
          0,
          1
         ],
         "title": {
          "text": "count"
         }
        }
       }
      },
      "text/html": [
       "<div>\n",
       "        \n",
       "        \n",
       "            <div id=\"ede1b309-ed26-4007-a13e-b1af8b7a7c5a\" class=\"plotly-graph-div\" style=\"height:600px; width:100%;\"></div>\n",
       "            <script type=\"text/javascript\">\n",
       "                require([\"plotly\"], function(Plotly) {\n",
       "                    window.PLOTLYENV=window.PLOTLYENV || {};\n",
       "                    \n",
       "                if (document.getElementById(\"ede1b309-ed26-4007-a13e-b1af8b7a7c5a\")) {\n",
       "                    Plotly.newPlot(\n",
       "                        'ede1b309-ed26-4007-a13e-b1af8b7a7c5a',\n",
       "                        [{\"alignmentgroup\": \"True\", \"bingroup\": \"x\", \"hoverlabel\": {\"namelength\": 0}, \"hovertemplate\": \"method=CG<br>T=%{x}<br>count=%{y}\", \"legendgroup\": \"method=CG\", \"marker\": {\"color\": \"#636efa\"}, \"name\": \"method=CG\", \"offsetgroup\": \"method=CG\", \"orientation\": \"v\", \"showlegend\": true, \"type\": \"histogram\", \"x\": [-4.049449149272817, -4.036458600660056, -4.2258496800967755, -4.170655599507585, -4.2855498382681265, -4.324217179213235, -4.3364612690747615, -4.387070921416727, -4.351073736513436, -4.361203087402532, -4.384849676990045, -3.795935131332541, -4.3720779656704085, -4.357120421850789, -4.309368207650693, -4.335823635947246, -4.364646204576512, -4.362156242698825, -4.348359078471964, -4.287370022002438, -4.333059193622199, -4.361763656955862, -3.9513390905608308, -4.39110473403205, -4.3754072035889315, -4.34188846766037, -4.353313793729226, -4.360661502038244, -4.386687596064645, -4.335386636668624, -4.342658332971971, -4.321269180457634, -4.264487769449672, -3.565068750095133, -4.346424538979801, -4.337135780763006, -4.33520460998301, -4.349595457699594, -4.34976165501312, -4.321197386506244, -4.341558706734051, -4.3749336245539485, -3.5679039557746104, -4.386017130065677, -4.324739377138111, -4.337044603943737, -4.377000073936151, -4.351166201538606, -4.33843138956095, -4.381069603760421, -4.352998771814067, -4.360437483518442, -3.5601767096417, -4.363016731359799, -4.370342083425425, -4.366390996441531, -4.35816280602648, -4.354166703873083, -4.2915429250914645, -4.347916567955119, -4.278388029119517, -4.2941773291203456, -3.479208206110928, -4.27888682942914, -4.307011993154988, -4.325568250818375, -4.302985639860291, -4.248806188215256, -4.283750249611291, -4.225295103192106, -4.252200925457021, -3.206007838045094, -3.6858475559423565, -4.210484813466524, -4.261355385686147, -4.320946148259283, -4.306162991565175, -4.313313546788858, -4.339344798466254, -4.221600347326721, -4.118481098906297, -4.084707538851736, -4.10981394025134, -4.097425857886233, -4.292676089443082, -3.9473916274617205, -4.154862855005388, -4.291595196729757, -4.274064069053815, -3.553124659226656, -4.282074700995455, -4.258249635869277, -4.208077687213965, -4.286797607176876, -4.2723362881376525, -4.254783952723448, -4.2573905075789105, -4.228103772717577, -3.483338346075685, -4.2847534669092555], \"xaxis\": \"x\", \"yaxis\": \"y\"}, {\"alignmentgroup\": \"True\", \"bingroup\": \"x\", \"hoverlabel\": {\"namelength\": 0}, \"hovertemplate\": \"method=GMRES_sparse<br>T=%{x}<br>count=%{y}\", \"legendgroup\": \"method=GMRES_sparse\", \"marker\": {\"color\": \"#EF553B\"}, \"name\": \"method=GMRES_sparse\", \"offsetgroup\": \"method=GMRES_sparse\", \"orientation\": \"v\", \"showlegend\": true, \"type\": \"histogram\", \"x\": [-0.9419470047944382, -0.9456861949667932, -0.8475181039332631, -0.9541770010161958, -1.0258073221872475, -1.0929352364164189, -0.9868069123658374, -1.0322904081667947, -1.0071729254732886, -1.062739885863249, -0.9940683084483242, -1.0869258522296117, -0.937100719968367, -1.0948972455559165, -1.088194917557304, -1.1217813577457798, -0.912916014818988, -1.0222901749760693, -1.008877413247826, -1.0098652414539095, -1.1001866130515834, -1.084992811652181, -1.069208614048745, -1.0463794347939475, -1.0634874921601525, -0.9797204268652976, -1.0557164115837963, -1.0152605301806825, -0.705855670885571, -0.7374287050822033, -0.8783910558435476, -0.7804214594259127, -0.1852108777740504, -0.5724721278839435, -0.8074767327781143, -1.0113625811070102, -0.9424369656532485, -0.926838127808455, -0.8133579373019555, -0.8688563169231548, -0.9362460302401683, -1.084655601099798, -0.9812076153939201, -1.0105356885768844, -0.9057963267815929, -0.930703746851919, -0.9595163985857957, -0.9153813401982855, -0.9557568555397442, -0.9991592712813626, -0.8351579818925028, -0.9727601150380878, -0.8598182649437157, -0.8942875119388927, -0.8107602382165081, -0.9774988521994139, -0.9687212516690794, -0.8682624803607755, -0.8580690002523887, -0.7794416515021985, -1.0255420096105734, -1.0534085050247264, -1.0203543235935675, -0.8928477711814266, -1.0418535839762244, -1.0324229497318225, -1.074709118211499, -1.0433942183350553, -0.9708132309488404, -0.9954602254339808, -1.1016505374757313, -0.7906605798908941, -0.9339356402362358, -1.0287397535395133, -0.726784336323092, -0.8452404391713457, -0.957500688802077, -0.9350628372742155, -0.9825237777111611, -1.0320380922297638, -1.121793802180464, -1.1646686848281564, -1.1755372338828276, -1.1774508732993731, -1.1738215539027597, -1.1452419147367994, -1.0872482713942846, -1.0435790103582516, -1.0093581216446592, -1.0430504471208846, -1.0537811600800364, -1.0861633487078712, -1.127975096667158, -1.108345014719916, -1.0039450486457033, -1.0015931117962247, -0.9515883433502821, -0.9938924420238956, -1.0685774847750933, -1.0054576535930948], \"xaxis\": \"x\", \"yaxis\": \"y\"}],\n",
       "                        {\"barmode\": \"relative\", \"height\": 600, \"legend\": {\"tracegroupgap\": 0}, \"margin\": {\"t\": 60}, \"template\": {\"data\": {\"bar\": [{\"error_x\": {\"color\": \"#2a3f5f\"}, \"error_y\": {\"color\": \"#2a3f5f\"}, \"marker\": {\"line\": {\"color\": \"#E5ECF6\", \"width\": 0.5}}, \"type\": \"bar\"}], \"barpolar\": [{\"marker\": {\"line\": {\"color\": \"#E5ECF6\", \"width\": 0.5}}, \"type\": \"barpolar\"}], \"carpet\": [{\"aaxis\": {\"endlinecolor\": \"#2a3f5f\", \"gridcolor\": \"white\", \"linecolor\": \"white\", \"minorgridcolor\": \"white\", \"startlinecolor\": \"#2a3f5f\"}, \"baxis\": {\"endlinecolor\": \"#2a3f5f\", \"gridcolor\": \"white\", \"linecolor\": \"white\", \"minorgridcolor\": \"white\", \"startlinecolor\": \"#2a3f5f\"}, \"type\": \"carpet\"}], \"choropleth\": [{\"colorbar\": {\"outlinewidth\": 0, \"ticks\": \"\"}, \"type\": \"choropleth\"}], \"contour\": [{\"colorbar\": {\"outlinewidth\": 0, \"ticks\": \"\"}, \"colorscale\": [[0.0, \"#0d0887\"], [0.1111111111111111, \"#46039f\"], [0.2222222222222222, \"#7201a8\"], [0.3333333333333333, \"#9c179e\"], [0.4444444444444444, \"#bd3786\"], [0.5555555555555556, \"#d8576b\"], [0.6666666666666666, \"#ed7953\"], [0.7777777777777778, \"#fb9f3a\"], [0.8888888888888888, \"#fdca26\"], [1.0, \"#f0f921\"]], \"type\": \"contour\"}], \"contourcarpet\": [{\"colorbar\": {\"outlinewidth\": 0, \"ticks\": \"\"}, \"type\": \"contourcarpet\"}], \"heatmap\": [{\"colorbar\": {\"outlinewidth\": 0, \"ticks\": \"\"}, \"colorscale\": [[0.0, \"#0d0887\"], [0.1111111111111111, \"#46039f\"], [0.2222222222222222, \"#7201a8\"], [0.3333333333333333, \"#9c179e\"], [0.4444444444444444, \"#bd3786\"], [0.5555555555555556, \"#d8576b\"], [0.6666666666666666, \"#ed7953\"], [0.7777777777777778, \"#fb9f3a\"], [0.8888888888888888, \"#fdca26\"], [1.0, \"#f0f921\"]], \"type\": \"heatmap\"}], \"heatmapgl\": [{\"colorbar\": {\"outlinewidth\": 0, \"ticks\": \"\"}, \"colorscale\": [[0.0, \"#0d0887\"], [0.1111111111111111, \"#46039f\"], [0.2222222222222222, \"#7201a8\"], [0.3333333333333333, \"#9c179e\"], [0.4444444444444444, \"#bd3786\"], [0.5555555555555556, \"#d8576b\"], [0.6666666666666666, \"#ed7953\"], [0.7777777777777778, \"#fb9f3a\"], [0.8888888888888888, \"#fdca26\"], [1.0, \"#f0f921\"]], \"type\": \"heatmapgl\"}], \"histogram\": [{\"marker\": {\"colorbar\": {\"outlinewidth\": 0, \"ticks\": \"\"}}, \"type\": \"histogram\"}], \"histogram2d\": [{\"colorbar\": {\"outlinewidth\": 0, \"ticks\": \"\"}, \"colorscale\": [[0.0, \"#0d0887\"], [0.1111111111111111, \"#46039f\"], [0.2222222222222222, \"#7201a8\"], [0.3333333333333333, \"#9c179e\"], [0.4444444444444444, \"#bd3786\"], [0.5555555555555556, \"#d8576b\"], [0.6666666666666666, \"#ed7953\"], [0.7777777777777778, \"#fb9f3a\"], [0.8888888888888888, \"#fdca26\"], [1.0, \"#f0f921\"]], \"type\": \"histogram2d\"}], \"histogram2dcontour\": [{\"colorbar\": {\"outlinewidth\": 0, \"ticks\": \"\"}, \"colorscale\": [[0.0, \"#0d0887\"], [0.1111111111111111, \"#46039f\"], [0.2222222222222222, \"#7201a8\"], [0.3333333333333333, \"#9c179e\"], [0.4444444444444444, \"#bd3786\"], [0.5555555555555556, \"#d8576b\"], [0.6666666666666666, \"#ed7953\"], [0.7777777777777778, \"#fb9f3a\"], [0.8888888888888888, \"#fdca26\"], [1.0, \"#f0f921\"]], \"type\": \"histogram2dcontour\"}], \"mesh3d\": [{\"colorbar\": {\"outlinewidth\": 0, \"ticks\": \"\"}, \"type\": \"mesh3d\"}], \"parcoords\": [{\"line\": {\"colorbar\": {\"outlinewidth\": 0, \"ticks\": \"\"}}, \"type\": \"parcoords\"}], \"scatter\": [{\"marker\": {\"colorbar\": {\"outlinewidth\": 0, \"ticks\": \"\"}}, \"type\": \"scatter\"}], \"scatter3d\": [{\"line\": {\"colorbar\": {\"outlinewidth\": 0, \"ticks\": \"\"}}, \"marker\": {\"colorbar\": {\"outlinewidth\": 0, \"ticks\": \"\"}}, \"type\": \"scatter3d\"}], \"scattercarpet\": [{\"marker\": {\"colorbar\": {\"outlinewidth\": 0, \"ticks\": \"\"}}, \"type\": \"scattercarpet\"}], \"scattergeo\": [{\"marker\": {\"colorbar\": {\"outlinewidth\": 0, \"ticks\": \"\"}}, \"type\": \"scattergeo\"}], \"scattergl\": [{\"marker\": {\"colorbar\": {\"outlinewidth\": 0, \"ticks\": \"\"}}, \"type\": \"scattergl\"}], \"scattermapbox\": [{\"marker\": {\"colorbar\": {\"outlinewidth\": 0, \"ticks\": \"\"}}, \"type\": \"scattermapbox\"}], \"scatterpolar\": [{\"marker\": {\"colorbar\": {\"outlinewidth\": 0, \"ticks\": \"\"}}, \"type\": \"scatterpolar\"}], \"scatterpolargl\": [{\"marker\": {\"colorbar\": {\"outlinewidth\": 0, \"ticks\": \"\"}}, \"type\": \"scatterpolargl\"}], \"scatterternary\": [{\"marker\": {\"colorbar\": {\"outlinewidth\": 0, \"ticks\": \"\"}}, \"type\": \"scatterternary\"}], \"surface\": [{\"colorbar\": {\"outlinewidth\": 0, \"ticks\": \"\"}, \"colorscale\": [[0.0, \"#0d0887\"], [0.1111111111111111, \"#46039f\"], [0.2222222222222222, \"#7201a8\"], [0.3333333333333333, \"#9c179e\"], [0.4444444444444444, \"#bd3786\"], [0.5555555555555556, \"#d8576b\"], [0.6666666666666666, \"#ed7953\"], [0.7777777777777778, \"#fb9f3a\"], [0.8888888888888888, \"#fdca26\"], [1.0, \"#f0f921\"]], \"type\": \"surface\"}], \"table\": [{\"cells\": {\"fill\": {\"color\": \"#EBF0F8\"}, \"line\": {\"color\": \"white\"}}, \"header\": {\"fill\": {\"color\": \"#C8D4E3\"}, \"line\": {\"color\": \"white\"}}, \"type\": \"table\"}]}, \"layout\": {\"annotationdefaults\": {\"arrowcolor\": \"#2a3f5f\", \"arrowhead\": 0, \"arrowwidth\": 1}, \"colorscale\": {\"diverging\": [[0, \"#8e0152\"], [0.1, \"#c51b7d\"], [0.2, \"#de77ae\"], [0.3, \"#f1b6da\"], [0.4, \"#fde0ef\"], [0.5, \"#f7f7f7\"], [0.6, \"#e6f5d0\"], [0.7, \"#b8e186\"], [0.8, \"#7fbc41\"], [0.9, \"#4d9221\"], [1, \"#276419\"]], \"sequential\": [[0.0, \"#0d0887\"], [0.1111111111111111, \"#46039f\"], [0.2222222222222222, \"#7201a8\"], [0.3333333333333333, \"#9c179e\"], [0.4444444444444444, \"#bd3786\"], [0.5555555555555556, \"#d8576b\"], [0.6666666666666666, \"#ed7953\"], [0.7777777777777778, \"#fb9f3a\"], [0.8888888888888888, \"#fdca26\"], [1.0, \"#f0f921\"]], \"sequentialminus\": [[0.0, \"#0d0887\"], [0.1111111111111111, \"#46039f\"], [0.2222222222222222, \"#7201a8\"], [0.3333333333333333, \"#9c179e\"], [0.4444444444444444, \"#bd3786\"], [0.5555555555555556, \"#d8576b\"], [0.6666666666666666, \"#ed7953\"], [0.7777777777777778, \"#fb9f3a\"], [0.8888888888888888, \"#fdca26\"], [1.0, \"#f0f921\"]]}, \"colorway\": [\"#636efa\", \"#EF553B\", \"#00cc96\", \"#ab63fa\", \"#FFA15A\", \"#19d3f3\", \"#FF6692\", \"#B6E880\", \"#FF97FF\", \"#FECB52\"], \"font\": {\"color\": \"#2a3f5f\"}, \"geo\": {\"bgcolor\": \"white\", \"lakecolor\": \"white\", \"landcolor\": \"#E5ECF6\", \"showlakes\": true, \"showland\": true, \"subunitcolor\": \"white\"}, \"hoverlabel\": {\"align\": \"left\"}, \"hovermode\": \"closest\", \"mapbox\": {\"style\": \"light\"}, \"paper_bgcolor\": \"white\", \"plot_bgcolor\": \"#E5ECF6\", \"polar\": {\"angularaxis\": {\"gridcolor\": \"white\", \"linecolor\": \"white\", \"ticks\": \"\"}, \"bgcolor\": \"#E5ECF6\", \"radialaxis\": {\"gridcolor\": \"white\", \"linecolor\": \"white\", \"ticks\": \"\"}}, \"scene\": {\"xaxis\": {\"backgroundcolor\": \"#E5ECF6\", \"gridcolor\": \"white\", \"gridwidth\": 2, \"linecolor\": \"white\", \"showbackground\": true, \"ticks\": \"\", \"zerolinecolor\": \"white\"}, \"yaxis\": {\"backgroundcolor\": \"#E5ECF6\", \"gridcolor\": \"white\", \"gridwidth\": 2, \"linecolor\": \"white\", \"showbackground\": true, \"ticks\": \"\", \"zerolinecolor\": \"white\"}, \"zaxis\": {\"backgroundcolor\": \"#E5ECF6\", \"gridcolor\": \"white\", \"gridwidth\": 2, \"linecolor\": \"white\", \"showbackground\": true, \"ticks\": \"\", \"zerolinecolor\": \"white\"}}, \"shapedefaults\": {\"line\": {\"color\": \"#2a3f5f\"}}, \"ternary\": {\"aaxis\": {\"gridcolor\": \"white\", \"linecolor\": \"white\", \"ticks\": \"\"}, \"baxis\": {\"gridcolor\": \"white\", \"linecolor\": \"white\", \"ticks\": \"\"}, \"bgcolor\": \"#E5ECF6\", \"caxis\": {\"gridcolor\": \"white\", \"linecolor\": \"white\", \"ticks\": \"\"}}, \"title\": {\"x\": 0.05}, \"xaxis\": {\"automargin\": true, \"gridcolor\": \"white\", \"linecolor\": \"white\", \"ticks\": \"\", \"zerolinecolor\": \"white\", \"zerolinewidth\": 2}, \"yaxis\": {\"automargin\": true, \"gridcolor\": \"white\", \"linecolor\": \"white\", \"ticks\": \"\", \"zerolinecolor\": \"white\", \"zerolinewidth\": 2}}}, \"xaxis\": {\"anchor\": \"y\", \"domain\": [0.0, 0.98], \"title\": {\"text\": \"T\"}}, \"yaxis\": {\"anchor\": \"x\", \"domain\": [0.0, 1.0], \"title\": {\"text\": \"count\"}}},\n",
       "                        {\"responsive\": true}\n",
       "                    ).then(function(){\n",
       "                            \n",
       "var gd = document.getElementById('ede1b309-ed26-4007-a13e-b1af8b7a7c5a');\n",
       "var x = new MutationObserver(function (mutations, observer) {{\n",
       "        var display = window.getComputedStyle(gd).display;\n",
       "        if (!display || display === 'none') {{\n",
       "            console.log([gd, 'removed!']);\n",
       "            Plotly.purge(gd);\n",
       "            observer.disconnect();\n",
       "        }}\n",
       "}});\n",
       "\n",
       "// Listen for the removal of the full notebook cells\n",
       "var notebookContainer = gd.closest('#notebook-container');\n",
       "if (notebookContainer) {{\n",
       "    x.observe(notebookContainer, {childList: true});\n",
       "}}\n",
       "\n",
       "// Listen for the clearing of the current output cell\n",
       "var outputEl = gd.closest('.output');\n",
       "if (outputEl) {{\n",
       "    x.observe(outputEl, {childList: true});\n",
       "}}\n",
       "\n",
       "                        })\n",
       "                };\n",
       "                });\n",
       "            </script>\n",
       "        </div>"
      ]
     },
     "metadata": {},
     "output_type": "display_data"
    }
   ],
   "source": [
    "ans_df=pd.DataFrame({'T_CG':np.log(T_cg), \n",
    "                     #'T_GMRES' : np.log(T_gmres), \n",
    "                     'T_GMRES_sparse':np.log(T_gmres_sparse)\n",
    "                    } )\n",
    "ans_df['id']=ans_df.index\n",
    "tidy_ans_df=pd.wide_to_long(ans_df,stubnames='T',i='id',j='method', sep='_', suffix='\\w+').reset_index().drop(columns='id')\n",
    "#tidy_ans_df['method']=tidy_ans_df['method'].astype('category')\n",
    "px.histogram(tidy_ans_df, x='T', color='method')"
   ]
  },
  {
   "cell_type": "code",
   "execution_count": 403,
   "metadata": {},
   "outputs": [],
   "source": [
    "w,v=scipy.sparse.linalg.eigs(spA,k=50)"
   ]
  },
  {
   "cell_type": "code",
   "execution_count": 404,
   "metadata": {},
   "outputs": [
    {
     "data": {
      "text/plain": [
       "array([3.32598658+0.j, 3.27405272+0.j, 3.23708523+0.j, 3.23027567+0.j,\n",
       "       3.14559913+0.j, 3.07628073+0.j, 3.07347109+0.j, 2.98685486+0.j,\n",
       "       2.94929046+0.j, 2.94945111+0.j, 2.90665839+0.j, 2.88900846+0.j,\n",
       "       2.88293871+0.j, 2.80939166+0.j, 2.80238858+0.j, 2.80076939+0.j,\n",
       "       2.79851941+0.j, 2.79578487+0.j, 2.78906719+0.j, 2.75898131+0.j,\n",
       "       2.73896888+0.j, 2.70543986+0.j, 2.69025581+0.j, 2.68988833+0.j,\n",
       "       2.6816284 +0.j, 2.67983566+0.j, 2.67812184+0.j, 2.67627207+0.j,\n",
       "       2.66580573+0.j, 2.65224317+0.j, 2.63981074+0.j, 2.61566887+0.j,\n",
       "       2.60131456+0.j, 2.48674989+0.j, 2.46003479+0.j, 2.46932244+0.j,\n",
       "       2.5862629 +0.j, 2.58056817+0.j, 2.55808194+0.j, 2.57414284+0.j,\n",
       "       2.57211585+0.j, 2.57027906+0.j, 2.56854438+0.j, 2.56528075+0.j,\n",
       "       2.56645374+0.j, 2.56689854+0.j, 2.56676602+0.j, 2.39495227+0.j,\n",
       "       2.39174527+0.j, 2.39121129+0.j])"
      ]
     },
     "execution_count": 404,
     "metadata": {},
     "output_type": "execute_result"
    }
   ],
   "source": [
    "w"
   ]
  },
  {
   "cell_type": "code",
   "execution_count": null,
   "metadata": {},
   "outputs": [],
   "source": []
  }
 ],
 "metadata": {
  "celltoolbar": "Slideshow",
  "kernelspec": {
   "display_name": "Python 3",
   "language": "python",
   "name": "python3"
  },
  "language_info": {
   "codemirror_mode": {
    "name": "ipython",
    "version": 3
   },
   "file_extension": ".py",
   "mimetype": "text/x-python",
   "name": "python",
   "nbconvert_exporter": "python",
   "pygments_lexer": "ipython3",
   "version": "3.7.3"
  }
 },
 "nbformat": 4,
 "nbformat_minor": 2
}
