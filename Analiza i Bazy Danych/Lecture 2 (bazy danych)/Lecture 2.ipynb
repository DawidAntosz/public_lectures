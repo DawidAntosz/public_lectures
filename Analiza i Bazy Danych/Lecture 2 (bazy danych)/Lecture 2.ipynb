{
 "cells": [
  {
   "cell_type": "code",
   "execution_count": 3,
   "metadata": {
    "slideshow": {
     "slide_type": "skip"
    }
   },
   "outputs": [
    {
     "data": {
      "text/html": [
       "<style>\n",
       ".rendered_html table, .rendered_html th, .rendered_html tr, .rendered_html td {\n",
       "     font-size: 90%;\n",
       "}\n",
       "</style>\n"
      ],
      "text/plain": [
       "<IPython.core.display.HTML object>"
      ]
     },
     "metadata": {},
     "output_type": "display_data"
    }
   ],
   "source": [
    "%%HTML\n",
    "<style>\n",
    ".rendered_html table, .rendered_html th, .rendered_html tr, .rendered_html td {\n",
    "     font-size: 80%;\n",
    "}\n",
    "</style>"
   ]
  },
  {
   "cell_type": "markdown",
   "metadata": {
    "slideshow": {
     "slide_type": "slide"
    }
   },
   "source": [
    "# Analiza i bazy danych\n",
    "## Bazy danych\n",
    "### mgr inż. Waldemar Bauer"
   ]
  },
  {
   "cell_type": "markdown",
   "metadata": {
    "slideshow": {
     "slide_type": "subslide"
    }
   },
   "source": [
    "## Narzędzia używane na zajęciach\n",
    "| | | |  \n",
    "|-|-|-|\n",
    "![](fig/python-logo-1.png)|![](fig/postgresql-logo.png)|![](fig/sqla_logo.png)\n",
    "| | | |\n"
   ]
  },
  {
   "cell_type": "markdown",
   "metadata": {
    "slideshow": {
     "slide_type": "subslide"
    }
   },
   "source": [
    "## Dlaczego używamy baz danych\n",
    "\n",
    "- Organizują dane w ustandaryzowany sposób\n",
    "- System organizacji danych odpowiada ludzkiej logice\n",
    "- Umożliwia szybkie przeszukiwani, łączenie i filtrowanie danych\n",
    "- Ułatwia dzielnie się danymi przez ich użytkowników"
   ]
  },
  {
   "cell_type": "markdown",
   "metadata": {
    "slideshow": {
     "slide_type": "subslide"
    }
   },
   "source": [
    "## Definicja bazy danych\n",
    "\n",
    "__Nieformalnie__: baza danych to dane i specjalny program umożliwiający ich\n",
    "gromadzenie i przetwarzanie.\n",
    "\n",
    "__Formalne__: Baza danych jest zbiorem powiązanych informacji zorganizowanych w\n",
    "strukturę umożliwiającą łatwe przetwarzanie.\n",
    "\n",
    "__Definicja prawna__: Zależna od organizacji lub kraju"
   ]
  },
  {
   "cell_type": "markdown",
   "metadata": {},
   "source": [
    "## Rodzaje baz danych  \n",
    "\n",
    "__Bazy proste__:\n",
    "- Kartotekowe\n",
    "- Hierarchiczne\n",
    "\n",
    "__Bazy złożone__:\n",
    "- Relacyjne\n",
    "- Obiektowe\n",
    "- Relacyjno-obiektowe\n",
    "- Strumieniowe\n",
    "- Temporalne\n",
    "- Nierelacyjne (NoSQL)\n"
   ]
  },
  {
   "cell_type": "markdown",
   "metadata": {
    "slideshow": {
     "slide_type": "subslide"
    }
   },
   "source": [
    "## Przetwarzanie danych w bazie danych \n",
    "\n",
    "- Wprowadzanie danych,\n",
    "- Zapisywanie i przechowywanie danych,\n",
    "- Wyszukiwanie i prezentacja danych,\n",
    "- Wstawianie i usuwanie danych,\n",
    "- Aktualizacje danych,\n",
    "- Przetwarzanie arytmetyczne, statystyczne, algebraiczne i logiczne,\n",
    "- Operacje oparte na algebrze relacji,\n",
    "- Kodowanie i dekodowanie danych\n"
   ]
  },
  {
   "cell_type": "markdown",
   "metadata": {},
   "source": [
    "## Cele systemu bazodanowego\n",
    "\n",
    "- Centralizacja\n",
    "- Dostęp selektywny\n",
    "- Utrzymanie spójności danych\n",
    "- Normalizacja\n",
    "- Dostęp wielokrotny\n",
    "- Widoki\n",
    "- Dostęp równoległy\n",
    "- Niezależność danych\n",
    "- Optymalizacja"
   ]
  },
  {
   "cell_type": "markdown",
   "metadata": {
    "slideshow": {
     "slide_type": "subslide"
    }
   },
   "source": [
    "## Database Management System (DMS)\n",
    "\n",
    "- Zestaw programów do zarządzania bazą danych\n",
    "\n",
    "- Systemy open source: PostgreSQL, MySQL, Hadoop, Spark, Firebird,...\n",
    "\n",
    "- Systemy handlowe: Oracle, IBM DB, MS SQL Server,...\n",
    "\n",
    "- Systemy biurowe: OOBase, MS Access,...\n",
    " \n"
   ]
  },
  {
   "cell_type": "markdown",
   "metadata": {
    "slideshow": {
     "slide_type": "subslide"
    }
   },
   "source": [
    "## Funkcjonalności DMS\n",
    "\n",
    "- Umożliwienie zaprojektowania i wdrożenia nowej bazy danych przy użyciu narzędzi i Data Definition Language (DDL).\n",
    "\n",
    "- Umożliwienie selektywnego dostępu do danych przy użyciu języka zapytań (query).\n",
    "\n",
    "- Wykonanie określonych operacji na danych przy użyciu języka manipulacji danych (Data Manipulation Language, DML).\n",
    "\n",
    "- Obsługa przechowywania dużych zestawów danych, zapewnienie niezawodności i wydajności obsługi operacji na danych zapisanych na dysku.\n",
    "\n",
    "- Zapewnienie integralności danych (na poziomie tabeli, na poziomie bazy danych)."
   ]
  },
  {
   "cell_type": "markdown",
   "metadata": {
    "slideshow": {
     "slide_type": "subslide"
    }
   },
   "source": [
    "## Funkcjonalności DMS - cd.\n",
    "\n",
    "- Ochrona dostępu do danych - różne obszary i poziomy dostępu (prowadzenie kont użytkowników, przydzielanie uprawnień, tworzenie widoków).\n",
    "\n",
    "- Zapewnianie dostępu dla wielu użytkowników i synchronizacja dostępu w przypadku dostępu kooperacyjnego.\n",
    "\n",
    "- Zapewnienie możliwości komunikacji z innymi systemami.\n",
    "\n",
    "- Dostarczenie opisu i dokumentacji (schemat i struktura).\n",
    "\n",
    "- Optymalizacja pracy (minimalizacja czasu dostępu lub obsługi zadań), optymalizacja dostępu dla poszczególnych użytkowników, optymalizacja zarządzania zasobami i organizacją bazy danych."
   ]
  },
  {
   "cell_type": "markdown",
   "metadata": {
    "slideshow": {
     "slide_type": "subslide"
    }
   },
   "source": [
    "## Realcyjny model bazy danych\n",
    "\n",
    "- Twórca Edgar Frank Codd, 1970, IBM\n",
    "\n",
    "- Model organizacji danych bazujący na matematycznej teorii mnogości, w szczególności na pojęciu relacji.\n",
    "\n",
    "- Dane są przedstawione w postaci relacyjnej.\n",
    "\n",
    "- Relacje jest reprezentowan przez tabelę."
   ]
  },
  {
   "cell_type": "markdown",
   "metadata": {
    "slideshow": {
     "slide_type": "subslide"
    }
   },
   "source": [
    "## 12 Postulatów Codda \n",
    "\n",
    "0. System musi być kwalifikowany jako relacyjny, jako baza danych i jako system zarządzania\n",
    "\n",
    "1. Postulat informacyjny - dane są reprezentowane jedynie poprzez wartości atrybutów w wierszach tabel,\n",
    "\n",
    "1. Postulat dostępu - każda wartość w bazie danych jest dostępna poprzez podanie nazwy tabeli, atrybutu oraz wartości klucza podstawowego,\n",
    "\n",
    "1. Postulat dotyczący wartości NULL - dostępna jest specjalna wartość NULL dla reprezentacji wartości nieokreślonej jak i nieadekwatnej, inna od wszystkich i podlegająca przetwarzaniu"
   ]
  },
  {
   "cell_type": "markdown",
   "metadata": {
    "slideshow": {
     "slide_type": "subslide"
    }
   },
   "source": [
    "## 12 Postulatów Codda cd\n",
    "\n",
    "4. Postulat dotyczący katalogu - wymaga się, aby system obsługiwał wbudowany katalog relacyjny z bieżącym dostępem dla uprawnionych użytkowników używających języka zapytań,\n",
    "\n",
    "4. Postulat języka danych - system musi dostarczać pełnego języka przetwarzania danych, który może być używany w trybie interaktywnym jak i w obrębie programów aplikacyjnych, obsługuje operacje definiowania danych, operacje manipulowania danymi, ograniczenia związane z bezpieczeństwem i integralnością oraz operacje zarządzania transakcjami,\n",
    "\n",
    "4. Postulat modyfikowalności widoków - system musi umożliwiać modyfikowanie widoków,\n",
    "\n",
    "4. Postulat modyfikowalności danych - system musi umożliwiać operacje modyfikacji danych, musi obsługiwać operatory INSERT, UPDATE oraz DELETE,"
   ]
  },
  {
   "cell_type": "markdown",
   "metadata": {
    "slideshow": {
     "slide_type": "subslide"
    }
   },
   "source": [
    "## 12 Postulatów Codda cd\n",
    "8. Postulat fizycznej niezależności danych - zmiany fizycznej reprezentacji danych i organizacji dostępu nie wpływają na aplikacje,\n",
    "\n",
    "8. Postulat logicznej niezależności danych - zmiany wartości w tabelach nie wpływają na aplikacje,\n",
    "\n",
    "8. Postulat niezależności ograniczeń - ograniczenia są definiowane w bazie i nie zależą od aplikacji,\n",
    "\n",
    "8. Postulat niezależności dystrybucyjnej - działanie aplikacji nie zależy od modyfikacji i dystrybucji bazy,\n",
    "\n",
    "8. Postulat bezpieczeństwa względem operacji niskiego poziomu - operacje niskiego poziomu nie mogą naruszać modelu relacyjnego i więzów spójności."
   ]
  }
 ],
 "metadata": {
  "celltoolbar": "Slideshow",
  "kernelspec": {
   "display_name": "Python 3",
   "language": "python",
   "name": "python3"
  },
  "language_info": {
   "codemirror_mode": {
    "name": "ipython",
    "version": 3
   },
   "file_extension": ".py",
   "mimetype": "text/x-python",
   "name": "python",
   "nbconvert_exporter": "python",
   "pygments_lexer": "ipython3",
   "version": "3.7.0"
  }
 },
 "nbformat": 4,
 "nbformat_minor": 2
}
